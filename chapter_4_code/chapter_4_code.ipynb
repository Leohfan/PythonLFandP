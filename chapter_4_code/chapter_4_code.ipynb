{
 "cells": [
  {
   "cell_type": "markdown",
   "metadata": {},
   "source": [
    "## 4.3 选择结构"
   ]
  },
  {
   "cell_type": "markdown",
   "metadata": {},
   "source": [
    "### 4.3.2 单分支结构"
   ]
  },
  {
   "cell_type": "code",
   "execution_count": 1,
   "metadata": {},
   "outputs": [
    {
     "name": "stdout",
     "output_type": "stream",
     "text": [
      "Please input number:5\n",
      "Please input number:2\n",
      "2 5\n"
     ]
    }
   ],
   "source": [
    "a = input('Please input number:')\n",
    "b = input('Please input number:')\n",
    "if a > b:\n",
    "    a,b = b,a\n",
    "print(a,b)"
   ]
  },
  {
   "cell_type": "markdown",
   "metadata": {},
   "source": [
    "### 4.3.3 二分支结构"
   ]
  },
  {
   "cell_type": "code",
   "execution_count": 2,
   "metadata": {},
   "outputs": [
    {
     "name": "stdout",
     "output_type": "stream",
     "text": [
      "请输入一个数:3\n",
      "请输入一个不同的数:6\n",
      "6 大\n"
     ]
    }
   ],
   "source": [
    "a = input('请输入一个数:')\n",
    "b = input('请输入一个不同的数:')\n",
    "if a > b:\n",
    "    print(a,'大')\n",
    "else:\n",
    "    print(b,'大')  "
   ]
  },
  {
   "cell_type": "code",
   "execution_count": 3,
   "metadata": {},
   "outputs": [
    {
     "name": "stdout",
     "output_type": "stream",
     "text": [
      "请输入一个数:3\n",
      "请输入另一个数:5\n",
      "5 大\n"
     ]
    }
   ],
   "source": [
    "a = input('请输入一个数:')\n",
    "b = input('请输入另一个数:')\n",
    "if a != b:\n",
    "    if a > b:\n",
    "    \t\tprint(a,'大')\n",
    "    else:\n",
    "    \t\tprint(b,'大') "
   ]
  },
  {
   "cell_type": "code",
   "execution_count": 4,
   "metadata": {},
   "outputs": [
    {
     "name": "stdout",
     "output_type": "stream",
     "text": [
      "请输入一个数:3\n",
      "请输入另一个数:6\n"
     ]
    }
   ],
   "source": [
    "a = input('请输入一个数:')\n",
    "b = input('请输入另一个数:')\n",
    "if a != b:\n",
    "    if a > b:\n",
    "        print(a,'大')\n",
    "else:\n",
    "    print(b,'大')"
   ]
  },
  {
   "cell_type": "code",
   "execution_count": 6,
   "metadata": {},
   "outputs": [
    {
     "name": "stdout",
     "output_type": "stream",
     "text": [
      "请输入一个数:5\n",
      "5\n"
     ]
    }
   ],
   "source": [
    "a = int(input('请输入一个数:'))\n",
    "b = a if a > 0 else -a\n",
    "print(b)   "
   ]
  },
  {
   "cell_type": "markdown",
   "metadata": {},
   "source": [
    "### 4.3.4 多分支结构"
   ]
  },
  {
   "cell_type": "code",
   "execution_count": 7,
   "metadata": {},
   "outputs": [
    {
     "name": "stdout",
     "output_type": "stream",
     "text": [
      "Please enter your score:92\n",
      "the result is A\n"
     ]
    }
   ],
   "source": [
    "score = int(input('Please enter your score:'))      #百分制成绩转换成等级制\n",
    "if score >= 90:\n",
    "     print('the result is A')\n",
    "elif score >= 80:\n",
    "    print('the result is B')\n",
    "elif score >= 70:\n",
    "    print('the result is C')\n",
    "elif score >= 60:\n",
    "    print('the result is D')\n",
    "elif score >= 0:\n",
    "    print('you fail to pass the test')\n",
    "else:\n",
    "    print('the score is wrong')"
   ]
  },
  {
   "cell_type": "markdown",
   "metadata": {},
   "source": [
    "### 4.3.5 嵌套结构"
   ]
  },
  {
   "cell_type": "code",
   "execution_count": 8,
   "metadata": {},
   "outputs": [
    {
     "name": "stdout",
     "output_type": "stream",
     "text": [
      "Please enter your score:95\n",
      "You have passed the test!\n"
     ]
    }
   ],
   "source": [
    "score = eval(input('Please enter your score:'))\n",
    "if score >= 0 and score <= 100:\n",
    "    if score >= 60:\n",
    "        print('You have passed the test!')\n",
    "    else:\n",
    "        print('You fail to pass the test!')\n",
    "else:\n",
    "    print('The score is wrong!')"
   ]
  },
  {
   "cell_type": "markdown",
   "metadata": {},
   "source": [
    "### 4.3.6 选择结构的应用"
   ]
  },
  {
   "cell_type": "code",
   "execution_count": 9,
   "metadata": {},
   "outputs": [
    {
     "name": "stdout",
     "output_type": "stream",
     "text": [
      "Today is 2020.2.11, it is the 42th day of 2020.\n"
     ]
    }
   ],
   "source": [
    "import time\n",
    "date = time.localtime()\n",
    "year,month,day = date[:3]\n",
    "day_month = [31,28,31,30,31,30,31,31,30,31,30,31]     #列出每月的天数\n",
    "if year % 4 == 0:\n",
    "    day_month[1] = 29       #闰年的2月份的天数为29天\n",
    "if month == 1:\n",
    "    sum_day = day           #如果是1月份，当天的日期就是全年的天数\n",
    "else:\n",
    "    sum_day = sum(day_month[:month-1]) + day   #其他月份则要计算之前每月的天数之后\n",
    "print('Today is %d.%d.%d, it is the %dth day of %d.'%(year,month,day,sum_day,year))     "
   ]
  },
  {
   "cell_type": "markdown",
   "metadata": {},
   "source": [
    "## 4.4 循环结构"
   ]
  },
  {
   "cell_type": "markdown",
   "metadata": {},
   "source": [
    "### 4.4.1 while循环"
   ]
  },
  {
   "cell_type": "code",
   "execution_count": 10,
   "metadata": {},
   "outputs": [
    {
     "name": "stdout",
     "output_type": "stream",
     "text": [
      "sum= 5050\n"
     ]
    }
   ],
   "source": [
    "n = 1\n",
    "s = 0;\n",
    "while n <= 100:\n",
    "    s += n\n",
    "    n += 1\n",
    "print('sum=',s)"
   ]
  },
  {
   "cell_type": "code",
   "execution_count": 11,
   "metadata": {},
   "outputs": [
    {
     "name": "stdout",
     "output_type": "stream",
     "text": [
      "P\n",
      "y\n",
      "t\n",
      "h\n",
      "o\n",
      "n\n",
      "程序结束!\n"
     ]
    }
   ],
   "source": [
    "#while-else\n",
    "a, b = 'Python', 0\n",
    "while b < len(a):\n",
    "    print(a[b])\n",
    "    b += 1\n",
    "else:\n",
    "    print('程序结束!')"
   ]
  },
  {
   "cell_type": "markdown",
   "metadata": {},
   "source": [
    "### 4.4.2 for循环"
   ]
  },
  {
   "cell_type": "code",
   "execution_count": 12,
   "metadata": {},
   "outputs": [
    {
     "name": "stdout",
     "output_type": "stream",
     "text": [
      "sum= 5050\n"
     ]
    }
   ],
   "source": [
    "s = 0;\n",
    "for i in range(1,101):    #遍历范围为[1,100]，不包含101。\n",
    "    s += i\n",
    "print('sum=',s)"
   ]
  },
  {
   "cell_type": "code",
   "execution_count": 13,
   "metadata": {},
   "outputs": [
    {
     "name": "stdout",
     "output_type": "stream",
     "text": [
      "P\n",
      "y\n",
      "t\n",
      "h\n",
      "o\n",
      "n\n",
      "程序结束!\n"
     ]
    }
   ],
   "source": [
    "#for-else\n",
    "for c in 'Python':\n",
    "    print(c)\n",
    "else:\n",
    "    print('程序结束!')"
   ]
  },
  {
   "cell_type": "code",
   "execution_count": 14,
   "metadata": {},
   "outputs": [
    {
     "name": "stdout",
     "output_type": "stream",
     "text": [
      "1x1=1\t\n",
      "1x2=2\t2x2=4\t\n",
      "1x3=3\t2x3=6\t3x3=9\t\n",
      "1x4=4\t2x4=8\t3x4=12\t4x4=16\t\n",
      "1x5=5\t2x5=10\t3x5=15\t4x5=20\t5x5=25\t\n",
      "1x6=6\t2x6=12\t3x6=18\t4x6=24\t5x6=30\t6x6=36\t\n",
      "1x7=7\t2x7=14\t3x7=21\t4x7=28\t5x7=35\t6x7=42\t7x7=49\t\n",
      "1x8=8\t2x8=16\t3x8=24\t4x8=32\t5x8=40\t6x8=48\t7x8=56\t8x8=64\t\n",
      "1x9=9\t2x9=18\t3x9=27\t4x9=36\t5x9=45\t6x9=54\t7x9=63\t8x9=72\t9x9=81\t\n"
     ]
    }
   ],
   "source": [
    "#for嵌套\n",
    "for i in range(1,10):\n",
    "    for j in range(1,i+1):\n",
    "        print(str(j) + \"x\" +str(i) + \"=\" + str(i*j) + \"\\t\", end='')\n",
    "    print('')"
   ]
  },
  {
   "cell_type": "markdown",
   "metadata": {},
   "source": [
    "### 4.4.3 break语句"
   ]
  },
  {
   "cell_type": "code",
   "execution_count": 15,
   "metadata": {},
   "outputs": [
    {
     "name": "stdout",
     "output_type": "stream",
     "text": [
      "当前字母: P\n",
      "当前字母: y\n",
      "当前字母: t\n"
     ]
    }
   ],
   "source": [
    "for letter in 'Python':     \n",
    "   if letter == 'h':\n",
    "      break\n",
    "   print('当前字母:', letter)"
   ]
  },
  {
   "cell_type": "code",
   "execution_count": 16,
   "metadata": {},
   "outputs": [
    {
     "name": "stdout",
     "output_type": "stream",
     "text": [
      "1x1=1\t第 1 行\n",
      "1x2=2\t2x2=4\t第 2 行\n",
      "1x3=3\t2x3=6\t3x3=9\t第 3 行\n",
      "1x4=4\t2x4=8\t3x4=12\t4x4=16\t第 4 行\n",
      "1x5=5\t2x5=10\t3x5=15\t4x5=20\t第 5 行\n",
      "1x6=6\t2x6=12\t3x6=18\t4x6=24\t第 6 行\n",
      "1x7=7\t2x7=14\t3x7=21\t4x7=28\t第 7 行\n",
      "1x8=8\t2x8=16\t3x8=24\t4x8=32\t第 8 行\n",
      "1x9=9\t2x9=18\t3x9=27\t4x9=36\t第 9 行\n"
     ]
    }
   ],
   "source": [
    "#break打印九九乘法表\n",
    "for i in range(1,10):\n",
    "    for j in range(1,i+1):\n",
    "        if j == 5:\n",
    "            break\n",
    "        print(str(j) + \"x\" +str(i) + \"=\" + str(i*j) + \"\\t\", end='')\n",
    "    print('第',i,'行')"
   ]
  },
  {
   "cell_type": "code",
   "execution_count": 17,
   "metadata": {},
   "outputs": [
    {
     "name": "stdout",
     "output_type": "stream",
     "text": [
      "2,3,5,7,11,13,17,19,23,29,31,37,41,43,47,53,59,61,67,71,73,79,83,89,97,"
     ]
    }
   ],
   "source": [
    "#break实现1到100之间素数的输出\n",
    "for i in range(2, 100):          #1不是素数\n",
    "    for j in range(2, i):\n",
    "        if i % j == 0:\n",
    "            break\n",
    "    else:\n",
    "        print(i, end = ',')"
   ]
  },
  {
   "cell_type": "markdown",
   "metadata": {},
   "source": [
    "### 4.4.3 continue语句"
   ]
  },
  {
   "cell_type": "code",
   "execution_count": 18,
   "metadata": {},
   "outputs": [
    {
     "name": "stdout",
     "output_type": "stream",
     "text": [
      "当前字母: P\n",
      "当前字母: y\n",
      "当前字母: t\n",
      "当前字母: o\n",
      "当前字母: n\n"
     ]
    }
   ],
   "source": [
    "for letter in 'Python':     \n",
    "   if letter == 'h':\n",
    "      continue\n",
    "   print('当前字母:', letter)"
   ]
  },
  {
   "cell_type": "code",
   "execution_count": 19,
   "metadata": {},
   "outputs": [
    {
     "name": "stdout",
     "output_type": "stream",
     "text": [
      "1x1=1\t第 1 行\n",
      "1x2=2\t2x2=4\t第 2 行\n",
      "1x3=3\t2x3=6\t3x3=9\t第 3 行\n",
      "1x4=4\t2x4=8\t3x4=12\t4x4=16\t第 4 行\n",
      "1x5=5\t2x5=10\t3x5=15\t4x5=20\t第 5 行\n",
      "1x6=6\t2x6=12\t3x6=18\t4x6=24\t6x6=36\t第 6 行\n",
      "1x7=7\t2x7=14\t3x7=21\t4x7=28\t6x7=42\t7x7=49\t第 7 行\n",
      "1x8=8\t2x8=16\t3x8=24\t4x8=32\t6x8=48\t7x8=56\t8x8=64\t第 8 行\n",
      "1x9=9\t2x9=18\t3x9=27\t4x9=36\t6x9=54\t7x9=63\t8x9=72\t9x9=81\t第 9 行\n"
     ]
    }
   ],
   "source": [
    "#continue打印九九乘法表\n",
    "for i in range(1,10):\n",
    "    for j in range(1,i+1):\n",
    "        if j == 5:\n",
    "            continue\n",
    "        print(str(j) + \"x\" +str(i) + \"=\" + str(i*j) + \"\\t\", end='')\n",
    "    print('第',i,'行')"
   ]
  },
  {
   "cell_type": "markdown",
   "metadata": {},
   "source": [
    "## 4.5 异常处理"
   ]
  },
  {
   "cell_type": "code",
   "execution_count": 20,
   "metadata": {},
   "outputs": [
    {
     "name": "stdout",
     "output_type": "stream",
     "text": [
      "请输入一个数：0\n"
     ]
    },
    {
     "ename": "ZeroDivisionError",
     "evalue": "division by zero",
     "output_type": "error",
     "traceback": [
      "\u001b[1;31m---------------------------------------------------------------------------\u001b[0m",
      "\u001b[1;31mZeroDivisionError\u001b[0m                         Traceback (most recent call last)",
      "\u001b[1;32m<ipython-input-20-9caff42e6125>\u001b[0m in \u001b[0;36m<module>\u001b[1;34m()\u001b[0m\n\u001b[0;32m      1\u001b[0m \u001b[0ma\u001b[0m \u001b[1;33m=\u001b[0m \u001b[1;36m100\u001b[0m\u001b[1;33m\u001b[0m\u001b[0m\n\u001b[0;32m      2\u001b[0m \u001b[0mb\u001b[0m \u001b[1;33m=\u001b[0m \u001b[0meval\u001b[0m\u001b[1;33m(\u001b[0m\u001b[0minput\u001b[0m\u001b[1;33m(\u001b[0m\u001b[1;34m\"请输入一个数：\"\u001b[0m\u001b[1;33m)\u001b[0m\u001b[1;33m)\u001b[0m\u001b[1;33m\u001b[0m\u001b[0m\n\u001b[1;32m----> 3\u001b[1;33m \u001b[0mprint\u001b[0m\u001b[1;33m(\u001b[0m\u001b[0ma\u001b[0m\u001b[1;33m/\u001b[0m\u001b[0mb\u001b[0m\u001b[1;33m)\u001b[0m\u001b[1;33m\u001b[0m\u001b[0m\n\u001b[0m",
      "\u001b[1;31mZeroDivisionError\u001b[0m: division by zero"
     ]
    }
   ],
   "source": [
    "a = 100\n",
    "b = eval(input(\"请输入一个数：\"))\n",
    "print(a/b)"
   ]
  },
  {
   "cell_type": "code",
   "execution_count": 21,
   "metadata": {},
   "outputs": [
    {
     "name": "stdout",
     "output_type": "stream",
     "text": [
      "请输入一个数：0\n",
      "输入的数据不符合要求，程序出错！\n"
     ]
    }
   ],
   "source": [
    "#异常处理try-except语句\n",
    "try:\n",
    "    a = 100\n",
    "    b = int(input(\"请输入一个数：\"))\n",
    "    print(a/b)\n",
    "except(ZeroDivisionError):\n",
    "    print(\"输入的数据不符合要求，程序出错！\")"
   ]
  },
  {
   "cell_type": "code",
   "execution_count": 22,
   "metadata": {},
   "outputs": [
    {
     "name": "stdout",
     "output_type": "stream",
     "text": [
      "请输入一个整数：2.4\n",
      "输入错误，请输入一个合适的整数！\n",
      "请输入一个整数：25\n",
      "输入错误，请输入一个合适的整数！\n",
      "请输入一个整数：2we\n",
      "输入错误，请输入一个合适的整数！\n",
      "请输入一个整数：12\n",
      "十六进制数字的第12个是C.\n"
     ]
    }
   ],
   "source": [
    "while True:\n",
    "    try:\n",
    "        str = \"0123456789ABCDEF\"\n",
    "        n = int(input(\"请输入一个整数：\"))\n",
    "        print('十六进制数字的第%d个是%s.'%(n,str[n]))\n",
    "        break\n",
    "    except (ValueError,IndexError):\n",
    "        print(\"输入错误，请输入一个合适的整数！\")"
   ]
  },
  {
   "cell_type": "code",
   "execution_count": 23,
   "metadata": {},
   "outputs": [
    {
     "name": "stdout",
     "output_type": "stream",
     "text": [
      "请输入一个数：0\n",
      "division by zero\n"
     ]
    }
   ],
   "source": [
    "try:\n",
    "    a = 100\n",
    "    b = eval(input(\"请输入一个数：\"))\n",
    "    print(a/b)\n",
    "except(ZeroDivisionError) as e:\n",
    "    print(e)"
   ]
  },
  {
   "cell_type": "code",
   "execution_count": 24,
   "metadata": {},
   "outputs": [
    {
     "name": "stdout",
     "output_type": "stream",
     "text": [
      "请输入一个数：10\n",
      "100/10 = 10.00\n",
      "程序运行完成\n"
     ]
    }
   ],
   "source": [
    "#try-except-else语句\n",
    "try:\n",
    "    a = 100\n",
    "    b = eval(input(\"请输入一个数：\"))\n",
    "    print('%d/%d = %.2f'%(a,b,a/b))\n",
    "except(ZeroDivisionError) as e:\n",
    "    print(e)\n",
    "else:\n",
    "    print('程序运行完成')"
   ]
  },
  {
   "cell_type": "code",
   "execution_count": 25,
   "metadata": {},
   "outputs": [
    {
     "name": "stdout",
     "output_type": "stream",
     "text": [
      "请输入一个整数：34\n",
      "输入错误，请输入一个合适的整数！\n",
      "程序执行完毕！\n",
      "请输入一个整数：ws\n",
      "输入错误，请输入一个合适的整数！\n",
      "程序执行完毕！\n",
      "请输入一个整数：12\n",
      "十六进制数字的第12个是C.\n",
      "没有发生异常！\n",
      "程序执行完毕！\n"
     ]
    }
   ],
   "source": [
    "#try-except-else-finally语句\n",
    "while True:\n",
    "    try:\n",
    "        str = \"0123456789ABCDEF\"\n",
    "        n = int(input(\"请输入一个整数：\"))\n",
    "        print('十六进制数字的第%d个是%s.'%(n,str[n]))\n",
    "    except (ValueError,IndexError):\n",
    "        print(\"输入错误，请输入一个合适的整数！\")\n",
    "    else:\n",
    "        print(\"没有发生异常！\")\n",
    "        break\n",
    "    finally:\n",
    "        print(\"程序执行完毕！\")"
   ]
  },
  {
   "cell_type": "markdown",
   "metadata": {},
   "source": [
    "## 上机实践"
   ]
  },
  {
   "cell_type": "code",
   "execution_count": 1,
   "metadata": {},
   "outputs": [
    {
     "name": "stdout",
     "output_type": "stream",
     "text": [
      "请输入要计算的数:5\n",
      "120\n"
     ]
    }
   ],
   "source": [
    "#第1题\n",
    "x = 1\n",
    "y = int(input(\"请输入要计算的数:\"))\n",
    "for i in range(1, y + 1):\n",
    "   x = x * i\n",
    "print(x)"
   ]
  },
  {
   "cell_type": "code",
   "execution_count": 3,
   "metadata": {},
   "outputs": [
    {
     "name": "stdout",
     "output_type": "stream",
     "text": [
      "请输入你认为的数字： 50\n",
      "很遗憾，太大了\n",
      "请输入你认为的数字： 25\n",
      "很遗憾，太大了\n",
      "请输入你认为的数字： 12\n",
      "很遗憾，太小了\n",
      "请输入你认为的数字： 20\n",
      "很遗憾，太大了\n",
      "请输入你认为的数字： 18\n",
      "很遗憾，太大了\n",
      "系统生成随机数为14\n"
     ]
    }
   ],
   "source": [
    "#第2题\n",
    "i = 1\n",
    "import random\n",
    "number = int(random.randint(1, 100))\n",
    "while i <= 5:\n",
    "    i += 1\n",
    "    guess = int(input('请输入你认为的数字： '))\n",
    "    if guess == number:\n",
    "        print('恭喜！！猜数正确')\n",
    "        print('系统生成随机数为%d' %number)\n",
    "        break\n",
    "    elif guess > number:\n",
    "        print('很遗憾，太大了')\n",
    "    else:\n",
    "        print('很遗憾，太小了')\n",
    "print('系统生成随机数为%d' %number)"
   ]
  },
  {
   "cell_type": "code",
   "execution_count": 4,
   "metadata": {},
   "outputs": [
    {
     "name": "stdout",
     "output_type": "stream",
     "text": [
      "请输入苹果个数：3.5\n",
      "输入错误，请重新输入!\n",
      "请输入苹果个数：3\n",
      "请输入单价：5\n",
      "应付 15.0 元。\n"
     ]
    }
   ],
   "source": [
    "#第3题\n",
    "while True:\n",
    "    try:\n",
    "        count = int(input(\"请输入苹果个数：\"))\n",
    "        price = float(input(\"请输入单价：\"))\n",
    "        Pay = count * price\n",
    "        print(\"应付\",Pay,\"元。\")\n",
    "        break\n",
    "    except ValueError:\n",
    "        print(\"输入错误，请重新输入!\")"
   ]
  },
  {
   "cell_type": "code",
   "execution_count": 6,
   "metadata": {},
   "outputs": [
    {
     "name": "stdout",
     "output_type": "stream",
     "text": [
      "请输入苹果的个数:10\n",
      "请输入小朋友个数:2.5\n",
      "输入错误，请重新输入!\n",
      "请输入苹果的个数:10\n",
      "请输入小朋友个数:3\n",
      "10 个苹果，平均分给 3 个小朋友，每人分 3 个，剩下 1 个。\n",
      "苹果顺利分完!\n"
     ]
    }
   ],
   "source": [
    "#第4题\n",
    "def division():\n",
    "    apple = int(input(\"请输入苹果的个数:\"))\n",
    "    children = int(input(\"请输入小朋友个数:\"))\n",
    "    result = apple // children\n",
    "    remain = apple - result * children\n",
    "    if remain > 0:\n",
    "        print(apple,\"个苹果，平均分给\",children,\"个小朋友，每人分\",result,\"个，剩下\",remain,\"个。\")\n",
    "    else:\n",
    "        print(apple,\"个苹果，平均分给\",children,\"个小朋友，每人分\",result,\"个。\")\n",
    "while True:\n",
    "    try:\n",
    "        division()\n",
    "    except ZeroDivisionError:\n",
    "        print(\"出错了，不能有0个小朋友，请重新输入!\")\n",
    "    except ValueError:\n",
    "        print(\"输入错误，请重新输入!\")\n",
    "    else:\n",
    "        print(\"苹果顺利分完!\")\n",
    "        break"
   ]
  },
  {
   "cell_type": "code",
   "execution_count": 7,
   "metadata": {},
   "outputs": [
    {
     "name": "stdout",
     "output_type": "stream",
     "text": [
      "99,97,95,93,91,89,87,85,83,81,79,77,75,73,71,69,67,65,63,61,59,57,55,53,51,49,47,45,43,41,39,37,35,33,31,29,27,25,23,21,19,17,15,13,11,9,7,5,3,1,"
     ]
    }
   ],
   "source": [
    "#第5题\n",
    "for n in range(100,0,-1):\n",
    "    if n % 2 == 0:\n",
    "        continue\n",
    "    print(n, end = ',')"
   ]
  },
  {
   "cell_type": "markdown",
   "metadata": {},
   "source": [
    "## 上机作业\n",
    "\n",
    "题1：分别用for循环和while循环实现1~100之间的所有奇数的求和。"
   ]
  },
  {
   "cell_type": "code",
   "execution_count": null,
   "metadata": {},
   "outputs": [],
   "source": []
  },
  {
   "cell_type": "markdown",
   "metadata": {},
   "source": [
    "题2：输出 1~100 之间不能被 7 整除的数，每行输出 10 个数字，要求应用字符串格式化方法（任何一种均可）美化输出格式。"
   ]
  },
  {
   "cell_type": "code",
   "execution_count": null,
   "metadata": {},
   "outputs": [],
   "source": []
  },
  {
   "cell_type": "markdown",
   "metadata": {},
   "source": [
    "题3：对传入的字符串（假设字符串中只包含小写字母和空格）进行加密操作。加密的规则是a变d，b变e，c变f，……，x变a，y变b，z变c，空格不变，返回加密后的字符串。"
   ]
  },
  {
   "cell_type": "code",
   "execution_count": null,
   "metadata": {},
   "outputs": [],
   "source": []
  },
  {
   "cell_type": "markdown",
   "metadata": {},
   "source": [
    "题4：输入多行行英文字符，把它们加上序号显示出来，直到输入“quit”结束，统计输入的行数。"
   ]
  },
  {
   "cell_type": "code",
   "execution_count": null,
   "metadata": {},
   "outputs": [],
   "source": []
  },
  {
   "cell_type": "markdown",
   "metadata": {},
   "source": [
    "题5：在jupyter notebook中验证课程ppt中的所有异常。"
   ]
  },
  {
   "cell_type": "code",
   "execution_count": null,
   "metadata": {},
   "outputs": [],
   "source": []
  }
 ],
 "metadata": {
  "kernelspec": {
   "display_name": "Python 3",
   "language": "python",
   "name": "python3"
  },
  "language_info": {
   "codemirror_mode": {
    "name": "ipython",
    "version": 3
   },
   "file_extension": ".py",
   "mimetype": "text/x-python",
   "name": "python",
   "nbconvert_exporter": "python",
   "pygments_lexer": "ipython3",
   "version": "3.7.5"
  }
 },
 "nbformat": 4,
 "nbformat_minor": 2
}
