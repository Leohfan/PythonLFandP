{
 "cells": [
  {
   "cell_type": "code",
   "execution_count": 7,
   "metadata": {},
   "outputs": [
    {
     "name": "stdout",
     "output_type": "stream",
     "text": [
      "相关系数计算如下：\n",
      "corr_age:0.23\n",
      "corr_education_num:0.34\n",
      "corr_gain:0.22\n",
      "corr_loss:0.15\n",
      "corr_hoursperweek:0.23\n"
     ]
    }
   ],
   "source": [
    "import pandas as pd\n",
    "data = pd.read_csv('Adult2.csv')   #Adult2中将income取值转换为了0或1\n",
    "income = data['income']\n",
    "corr_age = income.corr(data['age'],method='pearson')   #计算income与age的pearson相关系数\n",
    "corr_education_num = income.corr(data['education-num'],method='pearson')\n",
    "corr_gain = income.corr(data['capital-gain'],method='pearson')\n",
    "corr_loss = income.corr(data['capital-loss'],method='pearson')\n",
    "corr_hoursperweek = income.corr(data['hours-per-week'],method='pearson')\n",
    "print('相关系数计算如下：')\n",
    "print('corr_age:{:.2f}'.format(corr_age))\n",
    "print('corr_education_num:{:.2f}'.format(corr_education_num))\n",
    "print('corr_gain:{:.2f}'.format(corr_gain))\n",
    "print('corr_loss:{:.2f}'.format(corr_loss))\n",
    "print('corr_hoursperweek:{:.2f}'.format(corr_hoursperweek))"
   ]
  },
  {
   "cell_type": "code",
   "execution_count": null,
   "metadata": {},
   "outputs": [],
   "source": []
  }
 ],
 "metadata": {
  "kernelspec": {
   "display_name": "Python 3",
   "language": "python",
   "name": "python3"
  },
  "language_info": {
   "codemirror_mode": {
    "name": "ipython",
    "version": 3
   },
   "file_extension": ".py",
   "mimetype": "text/x-python",
   "name": "python",
   "nbconvert_exporter": "python",
   "pygments_lexer": "ipython3",
   "version": "3.7.4"
  }
 },
 "nbformat": 4,
 "nbformat_minor": 2
}
