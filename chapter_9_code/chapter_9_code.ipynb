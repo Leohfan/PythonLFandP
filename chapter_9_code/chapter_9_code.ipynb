{
 "cells": [
  {
   "cell_type": "markdown",
   "metadata": {},
   "source": [
    "# 9.1 文件数据读写\n",
    "## 9.1.1 什么是文件\n",
    "## 9.1.2 文件的打开与关闭"
   ]
  },
  {
   "cell_type": "code",
   "execution_count": 7,
   "metadata": {},
   "outputs": [
    {
     "name": "stdout",
     "output_type": "stream",
     "text": [
      "True\n"
     ]
    }
   ],
   "source": [
    "with open('E:/test.txt') as fp:\n",
    "        read_date = fp.read()  #文件操作代码块\n",
    "print(fp.closed)"
   ]
  },
  {
   "cell_type": "code",
   "execution_count": 5,
   "metadata": {},
   "outputs": [
    {
     "name": "stdout",
     "output_type": "stream",
     "text": [
      "文件名:  E:/test.txt\n",
      "是否已关闭 :  False\n",
      "访问模式 :  wb\n",
      "是否已关闭 :  True\n"
     ]
    }
   ],
   "source": [
    "fp = open(\"E:/test.txt\", \"wb\")                  # 打开一个文件\n",
    "print (\"文件名: \", fp.name)\n",
    "print (\"是否已关闭 : \", fp.closed)\n",
    "print (\"访问模式 : \", fp.mode)\n",
    "fp.close()                                       # 关闭该文件\n",
    "print (\"是否已关闭 : \", fp.closed)"
   ]
  },
  {
   "cell_type": "code",
   "execution_count": 6,
   "metadata": {},
   "outputs": [
    {
     "name": "stdout",
     "output_type": "stream",
     "text": [
      "文件名:  E:/test.txt\n",
      "是否已关闭 :  True\n"
     ]
    }
   ],
   "source": [
    "with open('E:/test.txt',\"r\") as fp:    #设置文件对象\n",
    "    print (\"文件名: \", fp.name)\n",
    "    str = fp.read()                    #可以是随便对文件的操作\n",
    "print (\"是否已关闭 : \", fp.closed)"
   ]
  },
  {
   "cell_type": "markdown",
   "metadata": {},
   "source": [
    "# 9.2 txt文件读写\n",
    "## 9.2.1 txt文件读取"
   ]
  },
  {
   "cell_type": "code",
   "execution_count": 10,
   "metadata": {},
   "outputs": [
    {
     "name": "stdout",
     "output_type": "stream",
     "text": [
      "lines1:\n",
      "Hello\n",
      "lines2: \n",
      "Welcome\n"
     ]
    }
   ],
   "source": [
    "f = open(\"E:/test.txt\",\"r\")\n",
    "lines1 = f.read(5)\n",
    "print (\"lines1:\")\n",
    "print (lines1)\n",
    "lines2 = f.read()\n",
    "print (\"lines2:\",lines2)\n",
    "f.close()"
   ]
  },
  {
   "cell_type": "code",
   "execution_count": 11,
   "metadata": {},
   "outputs": [
    {
     "name": "stdout",
     "output_type": "stream",
     "text": [
      "读取第一行: This is the first line of the file.\n",
      "\n",
      "读取的字符串为: \n",
      "\n",
      "读取的字符串为: Thir\n"
     ]
    }
   ],
   "source": [
    "f = open(\"E:/test.txt\", \"r+\")   # 打开文件\n",
    "line1 = f.readline()\n",
    "print (\"读取第一行:\" ,line1)\n",
    "line2 = f.readline()\n",
    "print (\"读取的字符串为:\",line2)\n",
    "line3 = f.readline(4)\n",
    "print (\"读取的字符串为:\",line3)\n",
    "f.close()                     # 关闭文件"
   ]
  },
  {
   "cell_type": "code",
   "execution_count": 12,
   "metadata": {},
   "outputs": [
    {
     "name": "stdout",
     "output_type": "stream",
     "text": [
      "<class 'list'>\n",
      "['This is the first line of the file.\\n', '\\n', 'Third line of the file\\n']\n"
     ]
    }
   ],
   "source": [
    "f = open(\"E:/test.txt\",\"r\")\n",
    "lines = f.readlines()\n",
    "print(type(lines))\n",
    "print(lines)\n",
    "f.close()"
   ]
  },
  {
   "cell_type": "code",
   "execution_count": 13,
   "metadata": {},
   "outputs": [
    {
     "name": "stdout",
     "output_type": "stream",
     "text": [
      "This is the first line of the file.\n",
      "\n",
      "Third line of the file\n"
     ]
    }
   ],
   "source": [
    "f = open(\"E:/test.txt\",\"r\")\n",
    "for line in f:\n",
    "     print(line, end='')\n",
    "f.close()"
   ]
  },
  {
   "cell_type": "markdown",
   "metadata": {},
   "source": [
    "## 9.2.2 txt文件写入"
   ]
  },
  {
   "cell_type": "code",
   "execution_count": 14,
   "metadata": {},
   "outputs": [
    {
     "name": "stdout",
     "output_type": "stream",
     "text": [
      "35\n"
     ]
    }
   ],
   "source": [
    "f = open(\"E:/test.txt\", \"r+\")\n",
    "str = \"This is the first line of the file.\"\n",
    "print(f.write(str))\n",
    "f.close()"
   ]
  },
  {
   "cell_type": "code",
   "execution_count": 17,
   "metadata": {},
   "outputs": [
    {
     "name": "stdout",
     "output_type": "stream",
     "text": [
      "f1:\n",
      "love\n",
      "python\n",
      "f2:lovepython"
     ]
    }
   ],
   "source": [
    "f1 = open(\"E:/test1.txt\", \"r+\")        #以读写模式打开文件test1，指针指向文件开头\n",
    "f2 = open(\"E:/test2.txt\", \"r+\")        #以读写模式打开文件test2，指针指向文件开头\n",
    "f1.writelines(['love\\n','python\\n'])  #向文件中写入3行数据\n",
    "f2.writelines(['love','python'])       #向文件中写入数据\n",
    "f1.close()\n",
    "f2.close()\n",
    "with open(\"E:/test1.txt\",\"r\") as f1:    #再次以只读模式打开文件，指针指向文件开头\n",
    "    print(\"f1:\")\n",
    "    for line in f1:\n",
    "        print(line, end='')\n",
    "with open(\"E:/test2.txt\",\"r\") as f2:    #再次以只读模式打开文件，指针指向文件开头\n",
    "    print(\"f2:\", end='')\n",
    "    for line in f2:\n",
    "        print(line, end='')"
   ]
  },
  {
   "cell_type": "markdown",
   "metadata": {},
   "source": [
    "## 9.2.3 使用指针随机读写"
   ]
  },
  {
   "cell_type": "code",
   "execution_count": 18,
   "metadata": {},
   "outputs": [
    {
     "name": "stdout",
     "output_type": "stream",
     "text": [
      "第二行代码f.write()返回值： 16\n",
      "第三行代码f.seek()返回值： 5\n",
      "第四行代码f.read()返回值： b'56'\n",
      "第五行代码f.seek()返回值： 60\n",
      "第六行代码f.read()返回值： b'e\\r\\n'\n"
     ]
    }
   ],
   "source": [
    "f = open(\"E:/test.txt\",\"rb+\")\n",
    "print(\"第二行代码f.write()返回值：\",f.write(b'0123456789abcdef'))\n",
    "print(\"第三行代码f.seek()返回值：\",f.seek(5))\n",
    "print(\"第四行代码f.read()返回值：\",f.read(2))\n",
    "print(\"第五行代码f.seek()返回值：\",f.seek(-3,2))\n",
    "print(\"第六行代码f.read()返回值：\",f.read())\n",
    "f.close()"
   ]
  },
  {
   "cell_type": "code",
   "execution_count": 19,
   "metadata": {},
   "outputs": [
    {
     "name": "stdout",
     "output_type": "stream",
     "text": [
      "0\n",
      "012345678\n",
      "9\n"
     ]
    }
   ],
   "source": [
    "f = open(\"E:/test.txt\",'r')\n",
    "print(f.tell())\n",
    "print(f.read(9))\n",
    "print(f.tell())\n",
    "f.close()"
   ]
  },
  {
   "cell_type": "markdown",
   "metadata": {},
   "source": [
    "# 9.3 csv文件读写\n",
    "## 9.3.1 csv文件读取"
   ]
  },
  {
   "cell_type": "code",
   "execution_count": 26,
   "metadata": {},
   "outputs": [
    {
     "name": "stdout",
     "output_type": "stream",
     "text": [
      "<class '_csv.reader'>\n",
      "[\"'id'\", \"'name\", \"'age'\"]\n",
      "[\"'0001'\", \"'Mike'\", \"'20'\"]\n",
      "[\"'0002'\", \"'Bob'\", \"'22'\"]\n",
      "[\"'0003'\", \"'Jane'\", \"'21'\"]\n"
     ]
    }
   ],
   "source": [
    "import csv\n",
    "with open('E:/test.csv', 'r') as f:\n",
    "    reader = csv.reader(f)\n",
    "    print(type(reader))\n",
    "    for row in reader:\n",
    "        print(row)"
   ]
  },
  {
   "cell_type": "code",
   "execution_count": 27,
   "metadata": {},
   "outputs": [
    {
     "name": "stdout",
     "output_type": "stream",
     "text": [
      "<class '_csv.reader'>\n",
      "'name\n",
      "'Mike'\n",
      "'Bob'\n",
      "'Jane'\n"
     ]
    }
   ],
   "source": [
    "import csv\n",
    "with open('E:/test.csv', 'r') as f:\n",
    "    reader = csv.reader(f)\n",
    "    print(type(reader))\n",
    "    for row in reader:\n",
    "        print(row[1])"
   ]
  },
  {
   "cell_type": "code",
   "execution_count": 28,
   "metadata": {},
   "outputs": [
    {
     "name": "stdout",
     "output_type": "stream",
     "text": [
      "[\"'0001'\", \"'Mike'\", \"'20'\"]\n"
     ]
    }
   ],
   "source": [
    "import csv\n",
    "with open('E:/test.csv', 'r') as f:\n",
    "    reader = csv.reader(f)\n",
    "    result = list(reader)\n",
    "    print(result[1])"
   ]
  },
  {
   "cell_type": "markdown",
   "metadata": {},
   "source": [
    "## 9.3.2 csv文件写入"
   ]
  },
  {
   "cell_type": "code",
   "execution_count": 29,
   "metadata": {},
   "outputs": [],
   "source": [
    "import csv\n",
    "with open('E:/test.csv', 'r+') as f:\n",
    "    header=['class','name','sex','height','year']\n",
    "    writer = csv.writer(f)\n",
    "    writer.writerow(header)"
   ]
  },
  {
   "cell_type": "code",
   "execution_count": 30,
   "metadata": {},
   "outputs": [],
   "source": [
    "import csv\n",
    "with open('E:/test.csv', 'r+') as f:\n",
    "    rows=[[1,'xiaoming','male',168,23],\n",
    "        [1,'xiaohong','female',162,22],\n",
    "        [2,'xiaozhang','female',158,21],\n",
    "        [2,'xiaoli','male',158,21]]\n",
    "    writer = csv.writer(f)\n",
    "    writer.writerow(rows)"
   ]
  },
  {
   "cell_type": "markdown",
   "metadata": {},
   "source": [
    "## 9.3.3 以字典形式读写"
   ]
  },
  {
   "cell_type": "code",
   "execution_count": 41,
   "metadata": {},
   "outputs": [
    {
     "name": "stdout",
     "output_type": "stream",
     "text": [
      "Eric Idle\n",
      "John Cleese\n"
     ]
    }
   ],
   "source": [
    "import csv\n",
    "with open('E:/names.csv', newline='') as csvfile:\n",
    "    reader = csv.DictReader(csvfile)        #构造DictReader对象\n",
    "    for row in reader:                        #循环遍历reader中的行\n",
    "        print(row['first_name'], row['last_name'])   #输出名和姓"
   ]
  },
  {
   "cell_type": "code",
   "execution_count": 45,
   "metadata": {},
   "outputs": [],
   "source": [
    "import csv\n",
    "with open('E:/names1.csv', 'w', newline='') as csvfile:\n",
    "    fieldnames = ['first_name', 'last_name']   #定义键序列\n",
    "    writer = csv.DictWriter(csvfile, fieldnames=fieldnames)#构造DictWriter对象\n",
    "    writer.writeheader()   #写入构造函数指定的字段名\n",
    "    writer.writerow({'first_name': 'Baked', 'last_name': 'Beans'})   #写入行\n",
    "    writer.writerow({'first_name': 'Lovely', 'last_name': 'Spam'})\n",
    "    writer.writerow({'first_name': 'Wonderful', 'last_name': 'Spam'})"
   ]
  },
  {
   "cell_type": "markdown",
   "metadata": {},
   "source": [
    "# 9.4 xls与xlsx文件读写"
   ]
  },
  {
   "cell_type": "markdown",
   "metadata": {},
   "source": [
    " ## 9.4.1 excel文件读取\n",
    " ### ①\t打开workbook获取Book对象 "
   ]
  },
  {
   "cell_type": "code",
   "execution_count": 46,
   "metadata": {},
   "outputs": [],
   "source": [
    "import xlrd\n",
    "data = xlrd.open_workbook(r'E:\\example.xlsx')"
   ]
  },
  {
   "cell_type": "markdown",
   "metadata": {},
   "source": [
    "### ②\t获取Book对象中所有sheet名称"
   ]
  },
  {
   "cell_type": "code",
   "execution_count": 47,
   "metadata": {},
   "outputs": [
    {
     "name": "stdout",
     "output_type": "stream",
     "text": [
      "['STUDENT', 'BOOK']\n"
     ]
    }
   ],
   "source": [
    "import xlrd\n",
    "data = xlrd.open_workbook(r'E:\\example.xlsx')\n",
    "sheet_name = data.sheet_names()   #获取所有sheet的名称\n",
    "print(sheet_name)"
   ]
  },
  {
   "cell_type": "markdown",
   "metadata": {},
   "source": [
    "### ③\t获取Book对象中所有Sheet对象"
   ]
  },
  {
   "cell_type": "code",
   "execution_count": 48,
   "metadata": {},
   "outputs": [
    {
     "name": "stdout",
     "output_type": "stream",
     "text": [
      "<xlrd.sheet.Sheet object at 0x0000020F9E126C50>\n",
      "<xlrd.sheet.Sheet object at 0x0000020F9E126C18>\n",
      "<xlrd.sheet.Sheet object at 0x0000020F9E126C50>\n"
     ]
    }
   ],
   "source": [
    "#通过sheet页的索引获取sheet表\n",
    "workbook1 = data.sheets()[0]\n",
    "print(workbook1)\n",
    "#第二种索引方式\n",
    "workbook1 = data.sheet_by_index(1)\n",
    "print(workbook1)\n",
    "#通过sheet页的名字获取sheet表\n",
    "workbook1 = data.sheet_by_name('STUDENT')\n",
    "print(workbook1)"
   ]
  },
  {
   "cell_type": "markdown",
   "metadata": {},
   "source": [
    "### ④\t判断Book对象中某个sheet是否导入"
   ]
  },
  {
   "cell_type": "code",
   "execution_count": 49,
   "metadata": {},
   "outputs": [
    {
     "name": "stdout",
     "output_type": "stream",
     "text": [
      "True\n"
     ]
    }
   ],
   "source": [
    "import xlrd\n",
    "data = xlrd.open_workbook(r'E:\\example.xlsx')\n",
    "print(data.sheet_loaded('STUDENT'))"
   ]
  },
  {
   "cell_type": "markdown",
   "metadata": {},
   "source": [
    "### ⑤\t对Sheet对象中的行操作 "
   ]
  },
  {
   "cell_type": "code",
   "execution_count": 50,
   "metadata": {},
   "outputs": [
    {
     "name": "stdout",
     "output_type": "stream",
     "text": [
      "STUNDT工作表行数为： 5\n",
      "第二行内容为： ['A', 20.0, 'MALE']\n",
      "第二行单元类型及对应内容为： [text:'A', number:20.0, text:'MALE']\n",
      "第二行从第二列至第三列的内容为： [number:20.0, text:'MALE']\n",
      "第二行从第二列至第三列的单元类型为： array('B', [2, 1])\n",
      "第二行的长度为： 3\n"
     ]
    }
   ],
   "source": [
    "import xlrd\n",
    "data = xlrd.open_workbook(r'E:\\example.xlsx')\n",
    "workbook1 = data.sheets()[0]\n",
    "print(\"STUNDT工作表行数为：\",workbook1.nrows)\n",
    "print(\"第二行内容为：\",workbook1.row_values(1))\n",
    "print(\"第二行单元类型及对应内容为：\",workbook1.row(1))\n",
    "print(\"第二行从第二列至第三列的内容为：\",workbook1.row_slice(1,1,3))\n",
    "print(\"第二行从第二列至第三列的单元类型为：\",workbook1.row_types(1,1,3))\n",
    "print(\"第二行的长度为：\",workbook1.row_len(1))"
   ]
  },
  {
   "cell_type": "code",
   "execution_count": 52,
   "metadata": {},
   "outputs": [
    {
     "name": "stdout",
     "output_type": "stream",
     "text": [
      "按行循环获取整个表格内容\n",
      "row0 value is ['NAME', 'AGE', 'GENDER']\n",
      "row1 value is ['A', 20.0, 'MALE']\n",
      "row2 value is ['B', 21.0, 'FEMALE']\n",
      "row3 value is ['C', 22.0, 'MALE']\n",
      "row4 value is ['D', 23.0, 'FEMALE']\n"
     ]
    }
   ],
   "source": [
    "import xlrd\n",
    "data = xlrd.open_workbook(r'E:\\example.xlsx')\n",
    "workbook1 = data.sheets()[0]\n",
    "num_rows = workbook1.nrows\n",
    "print('按行循环获取整个表格内容')\n",
    "for all_row in range(num_rows):                    #按行循环获取整个表格内容\n",
    "    row_value = workbook1.row_values(all_row)\n",
    "    print('row%s value is %s' % (all_row, row_value))"
   ]
  },
  {
   "cell_type": "markdown",
   "metadata": {},
   "source": [
    "### ⑥\t对Sheet对象中的列操作"
   ]
  },
  {
   "cell_type": "code",
   "execution_count": 53,
   "metadata": {},
   "outputs": [
    {
     "name": "stdout",
     "output_type": "stream",
     "text": [
      "STUNDT工作表列数为： 3\n",
      "第二列内容为： ['AGE', 20.0, 21.0, 22.0, 23.0]\n",
      "第二列单元类型及对应内容为： [text:'AGE', number:20.0, number:21.0, number:22.0, number:23.0]\n",
      "第二列从第二列至第三列的内容为： [number:20.0, number:21.0]\n",
      "第二列从第二列至第三列的单元类型为： [2, 2]\n"
     ]
    }
   ],
   "source": [
    "import xlrd\n",
    "data = xlrd.open_workbook(r'E:\\example.xlsx')\n",
    "workbook1 = data.sheets()[0]\n",
    "print(\"STUNDT工作表列数为：\",workbook1.ncols)\n",
    "print(\"第二列内容为：\",workbook1.col_values(1))\n",
    "print(\"第二列单元类型及对应内容为：\",workbook1.col(1))\n",
    "print(\"第二列从第二列至第三列的内容为：\",workbook1.col_slice(1,1,3))\n",
    "print(\"第二列从第二列至第三列的单元类型为：\",workbook1.col_types(1,1,3))"
   ]
  },
  {
   "cell_type": "code",
   "execution_count": 55,
   "metadata": {},
   "outputs": [
    {
     "name": "stdout",
     "output_type": "stream",
     "text": [
      "按列循环获取整个表格内容\n",
      "col0 value is ['NAME', 'A', 'B', 'C', 'D']\n",
      "col1 value is ['AGE', 20.0, 21.0, 22.0, 23.0]\n",
      "col2 value is ['GENDER', 'MALE', 'FEMALE', 'MALE', 'FEMALE']\n"
     ]
    }
   ],
   "source": [
    "import xlrd\n",
    "data = xlrd.open_workbook(r'E:\\example.xlsx')\n",
    "workbook1 = data.sheets()[0]\n",
    "num_cols = workbook1.ncols\n",
    "print('按列循环获取整个表格内容')\n",
    "for all_col in range(num_cols):                    #按列循环获取整个表格内容\n",
    "    col_value = workbook1.col_values(all_col)\n",
    "    print('col%s value is %s' % (all_col, col_value))"
   ]
  },
  {
   "cell_type": "markdown",
   "metadata": {},
   "source": [
    "### ⑦\t对Sheet对象的单元格执行操作"
   ]
  },
  {
   "cell_type": "code",
   "execution_count": 56,
   "metadata": {},
   "outputs": [
    {
     "name": "stdout",
     "output_type": "stream",
     "text": [
      "text:'MALE'\n",
      "<class 'xlrd.sheet.Cell'>\n",
      "MALE\n",
      "1\n"
     ]
    }
   ],
   "source": [
    "import xlrd\n",
    "data = xlrd.open_workbook(r'E:\\example.xlsx')\n",
    "workbook1 = data.sheets()[0]\n",
    "cell_info = workbook1.cell(rowx=1, colx=2)\n",
    "print(cell_info)          \n",
    "print(type(cell_info))     \n",
    "print(workbook1.cell_value(rowx=1, colx=2))      \n",
    "print(workbook1.cell_type(rowx=1, colx=2))  "
   ]
  },
  {
   "cell_type": "markdown",
   "metadata": {},
   "source": [
    "## 9.4.2 excel文件写入\n",
    "### ①\t工作簿类Workbook"
   ]
  },
  {
   "cell_type": "code",
   "execution_count": 57,
   "metadata": {},
   "outputs": [],
   "source": [
    "import xlwt\n",
    "workbook = xlwt.Workbook(encoding = 'utf-8')        #创建第一个sheet"
   ]
  },
  {
   "cell_type": "markdown",
   "metadata": {},
   "source": [
    "### ②\t工作表类WorkSheet"
   ]
  },
  {
   "cell_type": "code",
   "execution_count": 58,
   "metadata": {},
   "outputs": [],
   "source": [
    "sheet1 = workbook.add_sheet('sheet1')"
   ]
  },
  {
   "cell_type": "markdown",
   "metadata": {},
   "source": [
    "### ③\t写入数据并存储文件"
   ]
  },
  {
   "cell_type": "code",
   "execution_count": 59,
   "metadata": {},
   "outputs": [],
   "source": [
    "import xlwt\n",
    "workbook = xlwt.Workbook(encoding = 'utf-8')  #创建第一个sheet\n",
    "sheet1 = workbook.add_sheet('sheet1',cell_overwrite_ok=True)\n",
    "sheet1.write(0,0,label = 'just a test')       #参数对应行，列，值\n",
    "workbook.save('E:\\example1.xls')               #表格存储文件夹路径"
   ]
  },
  {
   "cell_type": "markdown",
   "metadata": {},
   "source": [
    "### ④\t单元格样式设置"
   ]
  },
  {
   "cell_type": "code",
   "execution_count": 75,
   "metadata": {},
   "outputs": [],
   "source": [
    "import xlwt\n",
    "# 实例化一个工作簿对象\n",
    "workbook = xlwt.Workbook(encoding = 'utf-8')\n",
    "# 获取工作表对象Worksheet\n",
    "worksheet = workbook.add_sheet('work_sheet')\n",
    "# 实例化表格样式对象\n",
    "xstyle = xlwt.XFStyle()\n",
    "# 设置字体样式\n",
    "xfont = xlwt.Font()\n",
    "xfont.colour_index = 0x04  # 设置字体颜色\n",
    "xfont.bold = True          # 字体加粗\n",
    "xfont.height = 20 * 18     # 设置字体高度（20是基数不变，18是字号用于调整大小）\n",
    "xfont.underline = 0x01     # 设置字体带下划线\n",
    "xfont.name = '华文彩云'     # 设置字体\n",
    "# 将字体对象赋值给样式对象\n",
    "xstyle.font = xfont\n",
    "for i in range(3):\n",
    "    for j in range(3):\n",
    "        # 向工作表中添加数据（参数对应 行, 列, 值，样式）\n",
    "        worksheet.write(i,j, label = 'test_' + chr(j),style=xstyle)\n",
    "# 保存数据到硬盘\n",
    "workbook.save(r'E:\\example1.xls')"
   ]
  },
  {
   "cell_type": "markdown",
   "metadata": {},
   "source": [
    "# 9.5 JSON文件格式转换\n",
    "## 9.5.1 json.dump()方法"
   ]
  },
  {
   "cell_type": "code",
   "execution_count": 76,
   "metadata": {},
   "outputs": [],
   "source": [
    "import json\n",
    "stu_num = {'a':'1111','b':'2222','c':'3333','d':'4444'}  \n",
    "stu_filename = 'stu_json.json'\n",
    "json.dump(stu_num, open('E:\\stu_json.json', 'w'))      #ASCII encoding"
   ]
  },
  {
   "cell_type": "code",
   "execution_count": 80,
   "metadata": {},
   "outputs": [],
   "source": [
    "import json\n",
    "stu_num = {'张三':'1111','李四':'2222','小明':'3333','小红':'4444'}  \n",
    "stu_filename = 'E:\\stu_json.json'\n",
    "with open(stu_filename,'w',encoding='utf-8') as fp:\n",
    "    json.dump(stu_num,fp,ensure_ascii=False)       #UTF-8 encoding"
   ]
  },
  {
   "cell_type": "markdown",
   "metadata": {},
   "source": [
    "## 9.5.2 json.dumps()方法"
   ]
  },
  {
   "cell_type": "code",
   "execution_count": 82,
   "metadata": {},
   "outputs": [
    {
     "name": "stdout",
     "output_type": "stream",
     "text": [
      "<class 'dict'> {'a': '1111', 'b': '2222', 'c': '3333', 'd': '4444'}\n",
      "<class 'str'> {\"a\": \"1111\", \"b\": \"2222\", \"c\": \"3333\", \"d\": \"4444\"}\n"
     ]
    }
   ],
   "source": [
    "import json\n",
    "stu_num = {'a':'1111','b':'2222','c':'3333','d':'4444'}  \n",
    "jsObj = json.dumps(stu_num)\n",
    "print(type(stu_num), stu_num) \n",
    "print(type(jsObj), jsObj)"
   ]
  },
  {
   "cell_type": "code",
   "execution_count": 83,
   "metadata": {},
   "outputs": [
    {
     "data": {
      "text/plain": [
       "'[1,2,3,{\"4\":5,\"6\":7}]'"
      ]
     },
     "execution_count": 83,
     "metadata": {},
     "output_type": "execute_result"
    }
   ],
   "source": [
    "import json\n",
    "json.dumps([1, 2, 3, {'4': 5, '6': 7}], separators=(',', ':'))  #序列化一个数组"
   ]
  },
  {
   "cell_type": "code",
   "execution_count": 84,
   "metadata": {},
   "outputs": [
    {
     "name": "stdout",
     "output_type": "stream",
     "text": [
      "{\n",
      "    \"4\": 5,\n",
      "    \"6\": 7\n",
      "}\n"
     ]
    }
   ],
   "source": [
    "print(json.dumps({'4': 5, '6': 7}, sort_keys=True, indent=4))   \n",
    "#序列化一个对象，并根据键进行排序，且设置缩进等级为4"
   ]
  },
  {
   "cell_type": "markdown",
   "metadata": {},
   "source": [
    "## 9.5.3 json.load()方法"
   ]
  },
  {
   "cell_type": "code",
   "execution_count": 86,
   "metadata": {},
   "outputs": [
    {
     "name": "stdout",
     "output_type": "stream",
     "text": [
      "12345\n"
     ]
    }
   ],
   "source": [
    "import json\n",
    "with open('E:/data.json', 'r') as f:\n",
    "    data = json.load(f)\n",
    "    print(data)"
   ]
  },
  {
   "cell_type": "code",
   "execution_count": 88,
   "metadata": {},
   "outputs": [
    {
     "name": "stdout",
     "output_type": "stream",
     "text": [
      "[2, 3, 5, 7, 11, 13]\n"
     ]
    }
   ],
   "source": [
    "import json\n",
    "filename = \"E:/numbers.json\"\n",
    "with open(filename) as f_obj:\n",
    "   numbers = json.load(f_obj)\n",
    "print(numbers)"
   ]
  },
  {
   "cell_type": "markdown",
   "metadata": {},
   "source": [
    "## 9.5.4 json.loads()方法"
   ]
  },
  {
   "cell_type": "code",
   "execution_count": 89,
   "metadata": {},
   "outputs": [
    {
     "data": {
      "text/plain": [
       "['foo', {'bar': ['baz', None, 1.0, 2]}]"
      ]
     },
     "execution_count": 89,
     "metadata": {},
     "output_type": "execute_result"
    }
   ],
   "source": [
    "import json\n",
    "json.loads('[\"foo\", {\"bar\":[\"baz\", null, 1.0, 2]}]')   #反序列化"
   ]
  },
  {
   "cell_type": "code",
   "execution_count": 90,
   "metadata": {},
   "outputs": [
    {
     "name": "stdout",
     "output_type": "stream",
     "text": [
      "{'name': 'Tom', 'age': 23} <class 'dict'>\n"
     ]
    }
   ],
   "source": [
    "import json\n",
    "dict = '{\"name\": \"Tom\", \"age\": 23}'           # 将字符串还原为dict\n",
    "data = json.loads(dict)\n",
    "print(data, type(data))"
   ]
  },
  {
   "cell_type": "markdown",
   "metadata": {},
   "source": [
    "# 9.6 上机实践"
   ]
  },
  {
   "cell_type": "markdown",
   "metadata": {},
   "source": [
    "（1）将用户输入的数据“I am a student”写入test.txt文本文件当中并覆盖原来的内容。\n",
    "思路：1）使用read函数查看原文本文件中的内容；2）使用input函数让用户输入数据，同时write函数把用户输入的数据写入文本文件中；3）查看文本文件中的内容。\n"
   ]
  },
  {
   "cell_type": "code",
   "execution_count": 93,
   "metadata": {},
   "outputs": [
    {
     "name": "stdout",
     "output_type": "stream",
     "text": [
      "当前文本文件中的内容是： apple\n",
      "请输入：I am a student\n",
      "你输入的内容是:  I am a student\n",
      "当前文本文件中的内容是： I am a student\n"
     ]
    }
   ],
   "source": [
    "f1 = open('E:/example.txt','r')\n",
    "str1 = f1.read()\n",
    "print(\"当前文本文件中的内容是：\",str1)\n",
    "f1 = open('E:/example.txt','w')\n",
    "str2 = input(\"请输入：\")\n",
    "print(\"你输入的内容是: \", str2)\n",
    "f1.write(str2)\n",
    "f1 = open('E:/example.txt','r')\n",
    "str3 = f1.read()\n",
    "print(\"当前文本文件中的内容是：\",str3)"
   ]
  },
  {
   "cell_type": "markdown",
   "metadata": {},
   "source": [
    "（2）创建学生数组，内容为学号、姓名、年龄、性别、成绩，将数组写入test.xlsx表格文件当中。\n",
    "思路：1）导入xlwt模块；2）创建学生数组；3）在相同文件目录下创建表格并将数组内容写入该表格。\n"
   ]
  },
  {
   "cell_type": "code",
   "execution_count": 97,
   "metadata": {},
   "outputs": [],
   "source": [
    "import xlwt\n",
    "workbook = xlwt.Workbook(encoding='utf-8')\n",
    "booksheet = workbook.add_sheet('Sheet 1', cell_overwrite_ok=True)\n",
    "DATA=(('学号','姓名','年龄','性别','成绩'),\n",
    "      ('1001','A','11','男','12'),\n",
    "      ('1002','B','12','女','22'),\n",
    "      ('1003','C','13','女','32'),\n",
    "      ('1004','D','14','男','52'),\n",
    "      )\n",
    "for i,row in enumerate(DATA):\n",
    "    for j,col in enumerate(row):\n",
    "        booksheet.write(i,j,col)\n",
    "workbook.save('E:/test.xlsx')"
   ]
  },
  {
   "cell_type": "code",
   "execution_count": null,
   "metadata": {},
   "outputs": [],
   "source": []
  }
 ],
 "metadata": {
  "kernelspec": {
   "display_name": "Python 3",
   "language": "python",
   "name": "python3"
  },
  "language_info": {
   "codemirror_mode": {
    "name": "ipython",
    "version": 3
   },
   "file_extension": ".py",
   "mimetype": "text/x-python",
   "name": "python",
   "nbconvert_exporter": "python",
   "pygments_lexer": "ipython3",
   "version": "3.7.3"
  }
 },
 "nbformat": 4,
 "nbformat_minor": 2
}
