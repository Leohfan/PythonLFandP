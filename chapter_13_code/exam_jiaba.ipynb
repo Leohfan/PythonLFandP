{
 "cells": [
  {
   "cell_type": "code",
   "execution_count": 1,
   "metadata": {},
   "outputs": [],
   "source": [
    "import jieba\n",
    "import jieba.analyse"
   ]
  },
  {
   "cell_type": "markdown",
   "metadata": {},
   "source": [
    "## jieba库基本应用"
   ]
  },
  {
   "cell_type": "code",
   "execution_count": 39,
   "metadata": {},
   "outputs": [
    {
     "name": "stdout",
     "output_type": "stream",
     "text": [
      "全模式: :\n",
      " 我/ 是/ 来自/ 中华/ 中华人民/ 中华人民共和国/ 华人/ 人民/ 人民共和国/ 共和/ 共和国/ 湖北/ 湖北省/ 武汉/ 武汉市/ 武汉/ 武汉大学/ 大学/ 的/ 一名/ 大学/ 大学生/ 学生\n",
      "精确模式:\n",
      " 我/ 是/ 来自/ 中华人民共和国/ 湖北省/ 武汉市/ 武汉大学/ 的/ 一名/ 大学生\n",
      "默认模式:\n",
      " 我/ 是/ 来自/ 中华人民共和国/ 湖北省/ 武汉市/ 武汉大学/ 的/ 一名/ 大学生\n",
      "搜索模式:\n",
      " 我/ 是/ 来自/ 中华/ 华人/ 人民/ 共和/ 共和国/ 中华人民共和国/ 湖北/ 湖北省/ 武汉/ 武汉市/ 武汉/ 大学/ 武汉大学/ 的/ 一名/ 大学/ 学生/ 大学生\n"
     ]
    }
   ],
   "source": [
    "#分词\n",
    "seg_list = jieba.cut(\"我是来自中华人民共和国湖北省武汉市武汉大学的一名大学生\", cut_all=True)\n",
    "print(\"全模式: :\\n \" + \"/ \".join(seg_list))  # 全模式\n",
    "\n",
    "seg_list = jieba.cut(\"我是来自中华人民共和国湖北省武汉市武汉大学的一名大学生\", cut_all=False)\n",
    "print(\"精确模式:\\n \" + \"/ \".join(seg_list))  # 精确模式\n",
    "\n",
    "seg_list = jieba.cut(\"我是来自中华人民共和国湖北省武汉市武汉大学的一名大学生\")  # 默认是精确模式\n",
    "print(\"默认模式:\\n \" + \"/ \".join(seg_list))\n",
    "\n",
    "seg_list = jieba.cut_for_search(\"我是来自中华人民共和国湖北省武汉市武汉大学的一名大学生\")  # 搜索引擎模式\n",
    "print(\"搜索模式:\\n \" + \"/ \".join(seg_list))"
   ]
  },
  {
   "cell_type": "markdown",
   "metadata": {},
   "source": [
    "## 添加自定义词典"
   ]
  },
  {
   "cell_type": "code",
   "execution_count": 98,
   "metadata": {},
   "outputs": [
    {
     "name": "stdout",
     "output_type": "stream",
     "text": [
      "哈利波/ 特大/ 声言/ 道/ ，/ '/ 人/ 生而自由/ ，/ 却/ 无往/ 不/ 在/ 枷锁/ 中/ '/ 。\n"
     ]
    }
   ],
   "source": [
    "seg_list = jieba.cut(\"哈利波特大声言道，'人生而自由，却无往不在枷锁中'。\")\n",
    "print(\"/ \".join(seg_list))  "
   ]
  },
  {
   "cell_type": "code",
   "execution_count": 99,
   "metadata": {},
   "outputs": [
    {
     "name": "stdout",
     "output_type": "stream",
     "text": [
      "哈利波特/ 大声/ 言/ 道/ ，/ '/ 人/ 生而自由/ ，/ 却/ 无往/ 不/ 在/ 枷锁/ 中/ '/ 。\n"
     ]
    }
   ],
   "source": [
    "#添加用户词典\n",
    "jieba.load_userdict('userdic.txt')\n",
    "seg_list = jieba.cut(\"哈利波特大声言道，'人生而自由，却无往不在枷锁中'。\")\n",
    "print(\"/ \".join(seg_list)) "
   ]
  },
  {
   "cell_type": "code",
   "execution_count": 101,
   "metadata": {},
   "outputs": [
    {
     "name": "stdout",
     "output_type": "stream",
     "text": [
      "哈利波特/ 言道/ ，/ '/ 人/ 生而自由/ ，/ 却/ 无往不在/ 枷锁/ 中/ '/ 。\n"
     ]
    }
   ],
   "source": [
    "#添加词\n",
    "jieba.add_word('言道')\n",
    "jieba.add_word('无往不在')\n",
    "seg_list = jieba.cut(\"哈利波特言道，'人生而自由，却无往不在枷锁中'。\")\n",
    "print(\"/ \".join(seg_list)) "
   ]
  },
  {
   "cell_type": "code",
   "execution_count": 102,
   "metadata": {},
   "outputs": [
    {
     "name": "stdout",
     "output_type": "stream",
     "text": [
      "哈利波特/ 言道/ ，/ '/ 人/ 生而自由/ ，/ 却/ 无往/ 不/ 在/ 枷锁/ 中/ '/ 。\n"
     ]
    }
   ],
   "source": [
    "#删除词\n",
    "jieba.del_word('无往不在')\n",
    "\n",
    "seg_list = jieba.cut(\"哈利波特言道，'人生而自由，却无往不在枷锁中'。\")\n",
    "print(\"/ \".join(seg_list))  "
   ]
  },
  {
   "cell_type": "markdown",
   "metadata": {},
   "source": [
    "## 词性标注"
   ]
  },
  {
   "cell_type": "code",
   "execution_count": 38,
   "metadata": {},
   "outputs": [
    {
     "name": "stdout",
     "output_type": "stream",
     "text": [
      "我 r\n",
      "是 v\n",
      "来自 v\n",
      "中华人民共和国 ns\n",
      "湖北省 ns\n",
      "武汉市 ns\n",
      "武汉大学 nt\n",
      "的 uj\n",
      "一名 m\n",
      "大学生 n\n"
     ]
    }
   ],
   "source": [
    "#导入词性标注的包\n",
    "import jieba.posseg as pseg\n",
    "\n",
    "words = pseg.cut(\"我是来自中华人民共和国湖北省武汉市武汉大学的一名大学生\")\n",
    "\n",
    "for word, flag in words:\n",
    "    print('%s %s' % (word, flag))"
   ]
  },
  {
   "cell_type": "markdown",
   "metadata": {},
   "source": [
    "## 文本数据预处理"
   ]
  },
  {
   "cell_type": "code",
   "execution_count": 7,
   "metadata": {},
   "outputs": [],
   "source": [
    "import re\n",
    "import jieba"
   ]
  },
  {
   "cell_type": "code",
   "execution_count": 2,
   "metadata": {},
   "outputs": [
    {
     "data": {
      "text/plain": [
       "'    上卷 第一回  甄士隐梦幻识通灵\\u3000贾雨村风尘怀闺秀\\n此开卷第一回也．作者自云：因曾历过一番梦幻之后，故将真事隐去，而借\"通灵\"之说，撰此《石头记》一书也．故曰\"甄士隐\"云云．但书中所记何事何'"
      ]
     },
     "execution_count": 2,
     "metadata": {},
     "output_type": "execute_result"
    }
   ],
   "source": [
    "# 读入数据文件文件\n",
    "content = open('hlm.txt').read()\n",
    "content[:99]     #显示部分数据内容"
   ]
  },
  {
   "cell_type": "code",
   "execution_count": 3,
   "metadata": {},
   "outputs": [
    {
     "data": {
      "text/plain": [
       "'上卷第一回甄士隐梦幻识通灵 贾雨村风尘怀闺秀此开卷第一回也 作者自云 因曾历过一番梦幻之后 故将真事隐去 而借 通灵 之说 撰此 石头记 一书也 故曰 甄士隐 云云 但书中所记何事何人 自又云 今风'"
      ]
     },
     "execution_count": 3,
     "metadata": {},
     "output_type": "execute_result"
    }
   ],
   "source": [
    "#数据清理\n",
    "content = re.sub(r'\\n+','',content) #remove \\n\n",
    "content = re.sub(r' +','',content)  #remove blank\n",
    "content = re.sub(r'\\W+',' ',content) #replace symbols with blank\n",
    "content[:99]      #显示部分文本内容"
   ]
  },
  {
   "cell_type": "code",
   "execution_count": 8,
   "metadata": {},
   "outputs": [
    {
     "name": "stderr",
     "output_type": "stream",
     "text": [
      "Building prefix dict from the default dictionary ...\n",
      "Dumping model to file cache /var/folders/zt/_gpwfbgn0919jcl5k156sjtr0000gp/T/jieba.cache\n",
      "Loading model cost 0.984 seconds.\n",
      "Prefix dict has been built successfully.\n"
     ]
    },
    {
     "name": "stdout",
     "output_type": "stream",
     "text": [
      "分词结果: \n",
      " 上卷/第一回/甄士隐/梦幻/识通灵/ /贾雨村/风尘/怀/闺秀/此/开卷/第一回/也/ /作者/自云/ /因曾/历过/一番/梦幻/之后/ /故/将/真事/隐去/ /而/借/ /通灵/ /之/说/ /撰此/ /石头记/ /一书/也/ /故曰/ /甄士隐/ /云云/ /但书中/所记/何事/何人/ /自又云/ /今/风尘碌碌/ /一事无成/ /忽/念及/当日/所有/之/女子/ /一一/细考/较/去/ /觉其/行止/见识/ /皆/出于/我/之上/ /何/我/堂堂/须眉/ /诚不若/彼/裙钗/哉/ /实愧/则/有余/ /悔/又\n"
     ]
    }
   ],
   "source": [
    "#分词\n",
    "seg_list = list(jieba.cut(content))\n",
    "print(\"分词结果: \\n\",\"/\".join(seg_list[:99]))     #显示部分分词结果"
   ]
  },
  {
   "cell_type": "code",
   "execution_count": 9,
   "metadata": {},
   "outputs": [
    {
     "name": "stdout",
     "output_type": "stream",
     "text": [
      "停用词: \n",
      "  ,?,、,。,“,”,《,》,！,，,：,；,？,同志们,同时,啊,阿,哎,哎呀,哎哟\n"
     ]
    }
   ],
   "source": [
    "#加载停用词表\n",
    "stopwords = open('stopwords.txt').read() #长字符串\n",
    "stopwords = stopwords.split('\\n')       #字符串按'\\n'分割，构建列表类型\n",
    "print(\"停用词: \\n\",\",\".join(stopwords[:20]))      #显示部分停用词，第一个为空格"
   ]
  },
  {
   "cell_type": "code",
   "execution_count": 10,
   "metadata": {},
   "outputs": [
    {
     "name": "stdout",
     "output_type": "stream",
     "text": [
      "分词结果: \n",
      " 上卷/第一回/甄士隐/梦幻/识通灵/贾雨村/风尘/怀/闺秀/开卷/第一回/作者/自云/因曾/历过/一番/梦幻/之后/真事/隐去/通灵/说/撰此/石头记/一书/故曰/甄士隐/但书中/所记/何事/何人/自又云/今/风尘碌碌/一事无成/忽/念及/当日/所有/女子/一一/细考/觉其/行止/见识/皆/出于/之上/堂堂/须眉/诚不若/裙钗/实愧/有余/悔/无益/之大/无可如何/之日/自欲/已往/所赖/天恩祖/德/锦衣/纨绔/时/饫甘餍肥/日/背/父兄/教育/之恩/负/师友/规谈/之德/今日/一技无成/半生/潦倒/之罪/编述/一集/以告/天下人/罪固/闺阁/中本/历历/有人/万/不可/不肖/自护己/短/一并/使/泯灭\n"
     ]
    }
   ],
   "source": [
    "#去停用词\n",
    "final_content = []\n",
    "for seg in seg_list:\n",
    "    if seg not in stopwords:\n",
    "        final_content.append(seg)\n",
    "print(\"分词结果: \\n\",\"/\".join(final_content[:99]))     #显示部分处理结果"
   ]
  },
  {
   "cell_type": "markdown",
   "metadata": {},
   "source": [
    "## 词频统计"
   ]
  },
  {
   "cell_type": "code",
   "execution_count": 17,
   "metadata": {},
   "outputs": [
    {
     "name": "stdout",
     "output_type": "stream",
     "text": [
      "[('道', 6370), ('说', 6132), ('宝玉', 3748), ('人', 2659), ('笑', 2481), ('听', 1767), ('好', 1647), ('一个', 1451), ('只', 1301), ('贾母', 1228), ('凤姐', 1100), ('倒', 1059), ('罢', 1048), ('忙', 1021), ('王夫人', 1011), ('说道', 973), ('知道', 967), ('老太太', 966), ('吃', 952), ('问', 943)]\n"
     ]
    }
   ],
   "source": [
    "#使用 counter 做词频统计，选取出现频率前 500 的词汇\n",
    "from collections import Counter\n",
    "\n",
    "counting_words = Counter(final_content)\n",
    "common_words = counting_words.most_common(20)\n",
    "print(common_words)"
   ]
  },
  {
   "cell_type": "markdown",
   "metadata": {},
   "source": [
    "## 关键词提取"
   ]
  },
  {
   "cell_type": "code",
   "execution_count": 103,
   "metadata": {},
   "outputs": [
    {
     "data": {
      "text/plain": [
       "[('宝玉', 0.11122995893205928),\n",
       " ('笑道', 0.053448859950478725),\n",
       " ('贾母', 0.0405207674424686),\n",
       " ('凤姐', 0.03672722920642641),\n",
       " ('王夫人', 0.03365584022963898),\n",
       " ('老太太', 0.029873612250538088),\n",
       " ('那里', 0.025115462209370165),\n",
       " ('什么', 0.024482714477153944),\n",
       " ('贾琏', 0.02417753087165903),\n",
       " ('太太', 0.023962716541594858)]"
      ]
     },
     "execution_count": 103,
     "metadata": {},
     "output_type": "execute_result"
    }
   ],
   "source": [
    "#TF-IDF算法提取关键词\n",
    "key_words_TFIDF = jieba.analyse.extract_tags(content,topK=2000,withWeight=True)\n",
    "key_words_TFIDF[:10]"
   ]
  },
  {
   "cell_type": "code",
   "execution_count": 104,
   "metadata": {},
   "outputs": [
    {
     "data": {
      "text/plain": [
       "[('笑道', 1.0),\n",
       " ('众人', 0.5846481316942517),\n",
       " ('只见', 0.5764328845607578),\n",
       " ('起来', 0.5684293628391204),\n",
       " ('说道', 0.5625293537728534),\n",
       " ('出来', 0.5564851494917306),\n",
       " ('姑娘', 0.5519805491146055),\n",
       " ('知道', 0.4831520517585031),\n",
       " ('太太', 0.4807813682382808),\n",
       " ('没有', 0.4797838154568143)]"
      ]
     },
     "execution_count": 104,
     "metadata": {},
     "output_type": "execute_result"
    }
   ],
   "source": [
    "#TextRank算法提取关键词\n",
    "key_words_TR = jieba.analyse.textrank(content,topK=2000,withWeight=True)\n",
    "key_words_TR[:10]"
   ]
  }
 ],
 "metadata": {
  "kernelspec": {
   "display_name": "Python 3",
   "language": "python",
   "name": "python3"
  },
  "language_info": {
   "codemirror_mode": {
    "name": "ipython",
    "version": 3
   },
   "file_extension": ".py",
   "mimetype": "text/x-python",
   "name": "python",
   "nbconvert_exporter": "python",
   "pygments_lexer": "ipython3",
   "version": "3.7.5"
  }
 },
 "nbformat": 4,
 "nbformat_minor": 4
}
