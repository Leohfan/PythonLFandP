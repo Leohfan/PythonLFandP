{
 "cells": [
  {
   "cell_type": "markdown",
   "metadata": {},
   "source": [
    "# 3.1 Python语言规范\n",
    "## 3.1.1  程序格式规范\n",
    "### （1）缩进"
   ]
  },
  {
   "cell_type": "code",
   "execution_count": 1,
   "metadata": {},
   "outputs": [
    {
     "name": "stdout",
     "output_type": "stream",
     "text": [
      "yes\n",
      "中国的首都是北京\n"
     ]
    }
   ],
   "source": [
    "a=1\n",
    "if a==1:\n",
    "    print('yes')\n",
    "print(\"{}的{}是{}\".format(\\\n",
    "           \"中国\",\\\n",
    "           \"首都\",\"北京\"))"
   ]
  },
  {
   "cell_type": "code",
   "execution_count": 3,
   "metadata": {},
   "outputs": [
    {
     "name": "stdout",
     "output_type": "stream",
     "text": [
      "1\n"
     ]
    }
   ],
   "source": [
    "if a==1:\n",
    "    print(1)           #此处缩进\n",
    "else:\n",
    "    print(2)           #此处缩进"
   ]
  },
  {
   "cell_type": "markdown",
   "metadata": {},
   "source": [
    "### （2）注释"
   ]
  },
  {
   "cell_type": "code",
   "execution_count": 4,
   "metadata": {},
   "outputs": [],
   "source": [
    "#这是一个单行注释"
   ]
  },
  {
   "cell_type": "code",
   "execution_count": 8,
   "metadata": {},
   "outputs": [
    {
     "name": "stdout",
     "output_type": "stream",
     "text": [
      "Hello, World!\n"
     ]
    }
   ],
   "source": [
    "'''\n",
    "这是多行注释，用三个单引号\n",
    "这是多行注释，用三个单引号 \n",
    "这是多行注释，用三个单引号\n",
    "'''\n",
    "print(\"Hello, World!\")\n",
    "#这是一个多行注释\n",
    "#这是一个多行注释\n"
   ]
  },
  {
   "cell_type": "code",
   "execution_count": 6,
   "metadata": {},
   "outputs": [
    {
     "name": "stdout",
     "output_type": "stream",
     "text": [
      "Hello world!\n",
      "Hello world!\n"
     ]
    }
   ],
   "source": [
    "print(\"Hello world!\")#这是一条print语句\n",
    "print(\"Hello world!\")          #这是一条print语句"
   ]
  },
  {
   "cell_type": "markdown",
   "metadata": {},
   "source": [
    "### （3）续行符"
   ]
  },
  {
   "cell_type": "code",
   "execution_count": 7,
   "metadata": {},
   "outputs": [
    {
     "name": "stdout",
     "output_type": "stream",
     "text": [
      "中国的首都是北京\n"
     ]
    }
   ],
   "source": [
    "print(\"{}的{}是{}\".format(\\\n",
    "        \"中国\",\\\n",
    "        \"首都\",\"北京\"))\n"
   ]
  },
  {
   "cell_type": "code",
   "execution_count": 9,
   "metadata": {},
   "outputs": [
    {
     "name": "stdout",
     "output_type": "stream",
     "text": [
      "中国的首都是北京\n"
     ]
    }
   ],
   "source": [
    "print(\"{}的{}是{}\".format(\"中国\",\"首都\",\"北京\"))"
   ]
  },
  {
   "cell_type": "markdown",
   "metadata": {},
   "source": [
    "### （4）保留字"
   ]
  },
  {
   "cell_type": "code",
   "execution_count": 10,
   "metadata": {},
   "outputs": [
    {
     "name": "stdout",
     "output_type": "stream",
     "text": [
      "['False', 'None', 'True', 'and', 'as', 'assert', 'async', 'await', 'break', 'class', 'continue', 'def', 'del', 'elif', 'else', 'except', 'finally', 'for', 'from', 'global', 'if', 'import', 'in', 'is', 'lambda', 'nonlocal', 'not', 'or', 'pass', 'raise', 'return', 'try', 'while', 'with', 'yield']\n"
     ]
    }
   ],
   "source": [
    "import keyword                #引入关键字模块\n",
    "print(keyword.kwlist)         #打印出全部关键字\n"
   ]
  },
  {
   "cell_type": "markdown",
   "metadata": {},
   "source": [
    "## 3.1.2 变量与常量"
   ]
  },
  {
   "cell_type": "code",
   "execution_count": 11,
   "metadata": {},
   "outputs": [
    {
     "name": "stdout",
     "output_type": "stream",
     "text": [
      "4\n"
     ]
    }
   ],
   "source": [
    "a = 3\n",
    "a = a+1\n",
    "print(a)"
   ]
  },
  {
   "cell_type": "code",
   "execution_count": 12,
   "metadata": {},
   "outputs": [
    {
     "data": {
      "text/plain": [
       "True"
      ]
     },
     "execution_count": 12,
     "metadata": {},
     "output_type": "execute_result"
    }
   ],
   "source": [
    "bool(NotImplemented)"
   ]
  },
  {
   "cell_type": "code",
   "execution_count": 14,
   "metadata": {},
   "outputs": [
    {
     "name": "stdout",
     "output_type": "stream",
     "text": [
      "True\n",
      "Ellipsis\n",
      "[1, 2, 3, [...]]\n"
     ]
    }
   ],
   "source": [
    "print(bool(Ellipsis))\n",
    "print(...)\n",
    "L = [1,2,3]\n",
    "L.append(L)    # L是一个无限循环的结构，L[2]=L\n",
    "print(L)"
   ]
  },
  {
   "cell_type": "markdown",
   "metadata": {},
   "source": [
    "## 3.1.3 Python基本语句\n",
    "### （1）表达式"
   ]
  },
  {
   "cell_type": "code",
   "execution_count": 15,
   "metadata": {},
   "outputs": [
    {
     "data": {
      "text/plain": [
       "32768"
      ]
     },
     "execution_count": 15,
     "metadata": {},
     "output_type": "execute_result"
    }
   ],
   "source": [
    "1024*32"
   ]
  },
  {
   "cell_type": "code",
   "execution_count": 16,
   "metadata": {},
   "outputs": [
    {
     "data": {
      "text/plain": [
       "'hello,world!'"
      ]
     },
     "execution_count": 16,
     "metadata": {},
     "output_type": "execute_result"
    }
   ],
   "source": [
    "\"hello\"+\",\"+\"world\"+\"!\""
   ]
  },
  {
   "cell_type": "code",
   "execution_count": 17,
   "metadata": {},
   "outputs": [
    {
     "data": {
      "text/plain": [
       "True"
      ]
     },
     "execution_count": 17,
     "metadata": {},
     "output_type": "execute_result"
    }
   ],
   "source": [
    "24<25"
   ]
  },
  {
   "cell_type": "code",
   "execution_count": 18,
   "metadata": {},
   "outputs": [
    {
     "name": "stdout",
     "output_type": "stream",
     "text": [
      "{3, 4, 5, 6}\n",
      "{0: 3, 1: 4, 2: 5, 3: 6}\n"
     ]
    }
   ],
   "source": [
    "print({x + 3 for x in range(4)})\n",
    "print({x: x + 3 for x in range(4)})"
   ]
  },
  {
   "cell_type": "code",
   "execution_count": 19,
   "metadata": {},
   "outputs": [
    {
     "name": "stdout",
     "output_type": "stream",
     "text": [
      "285\n"
     ]
    }
   ],
   "source": [
    "print(sum(x * x for x in range(10)))"
   ]
  },
  {
   "cell_type": "code",
   "execution_count": 20,
   "metadata": {},
   "outputs": [
    {
     "name": "stdout",
     "output_type": "stream",
     "text": [
      "5\n"
     ]
    }
   ],
   "source": [
    "add = lambda x, y : x + y\n",
    "print(add(3, 2))"
   ]
  },
  {
   "cell_type": "markdown",
   "metadata": {},
   "source": [
    "### （2）赋值语句"
   ]
  },
  {
   "cell_type": "code",
   "execution_count": 21,
   "metadata": {},
   "outputs": [
    {
     "name": "stdout",
     "output_type": "stream",
     "text": [
      "512\n"
     ]
    }
   ],
   "source": [
    "a = 256*2             #这行是赋值语句\n",
    "print(a)"
   ]
  },
  {
   "cell_type": "code",
   "execution_count": 22,
   "metadata": {},
   "outputs": [
    {
     "name": "stdout",
     "output_type": "stream",
     "text": [
      "4 5\n"
     ]
    }
   ],
   "source": [
    "n = 3\n",
    "x,y = n+1,n+2\n",
    "print(x,y)"
   ]
  },
  {
   "cell_type": "code",
   "execution_count": 23,
   "metadata": {},
   "outputs": [
    {
     "name": "stdout",
     "output_type": "stream",
     "text": [
      "4 6\n",
      "6 4\n"
     ]
    }
   ],
   "source": [
    "x = 4\n",
    "y = 6\n",
    "print(x,y)\n",
    "x,y=y,x\n",
    "print(x,y)"
   ]
  },
  {
   "cell_type": "markdown",
   "metadata": {},
   "source": [
    "### （3）引用"
   ]
  },
  {
   "cell_type": "code",
   "execution_count": 24,
   "metadata": {},
   "outputs": [
    {
     "data": {
      "text/plain": [
       "6"
      ]
     },
     "execution_count": 24,
     "metadata": {},
     "output_type": "execute_result"
    }
   ],
   "source": [
    "import math\n",
    "math.ceil(5.23)         #取大于等于x的最小的整数值，如果x是一个整数，则返回x"
   ]
  },
  {
   "cell_type": "code",
   "execution_count": 25,
   "metadata": {},
   "outputs": [
    {
     "data": {
      "text/plain": [
       "-2.0"
      ]
     },
     "execution_count": 25,
     "metadata": {},
     "output_type": "execute_result"
    }
   ],
   "source": [
    "math.copysign(2,-3)     #copysign(x,y), 把y的正负号加到x前面"
   ]
  },
  {
   "cell_type": "code",
   "execution_count": 26,
   "metadata": {},
   "outputs": [
    {
     "data": {
      "text/plain": [
       "3.141592653589793"
      ]
     },
     "execution_count": 26,
     "metadata": {},
     "output_type": "execute_result"
    }
   ],
   "source": [
    "math.pi                  #pi表示圆周率常量"
   ]
  },
  {
   "cell_type": "code",
   "execution_count": 27,
   "metadata": {},
   "outputs": [
    {
     "data": {
      "text/plain": [
       "0.8660254037844387"
      ]
     },
     "execution_count": 27,
     "metadata": {},
     "output_type": "execute_result"
    }
   ],
   "source": [
    "math.cos(math.pi/6)     #求x的余弦，x必须是弧度"
   ]
  },
  {
   "cell_type": "code",
   "execution_count": 28,
   "metadata": {},
   "outputs": [
    {
     "data": {
      "text/plain": [
       "35.0"
      ]
     },
     "execution_count": 28,
     "metadata": {},
     "output_type": "execute_result"
    }
   ],
   "source": [
    "math.fsum((1,3,5,7,9,10))     #对迭代器里的每个元素进行求和操作"
   ]
  },
  {
   "cell_type": "markdown",
   "metadata": {},
   "source": [
    "### （4）输入输出函数\n",
    "#### ①\tinput()函数"
   ]
  },
  {
   "cell_type": "code",
   "execution_count": 29,
   "metadata": {},
   "outputs": [
    {
     "name": "stdout",
     "output_type": "stream",
     "text": [
      "请输入：123\n",
      "a= 123\n",
      "<class 'str'>\n"
     ]
    }
   ],
   "source": [
    "a = input(\"请输入：\")\n",
    "print('a=',a)\n",
    "print(type(a))      #返回变量a的数据类型"
   ]
  },
  {
   "cell_type": "markdown",
   "metadata": {},
   "source": [
    "#### ②\tprint()函数"
   ]
  },
  {
   "cell_type": "code",
   "execution_count": 30,
   "metadata": {},
   "outputs": [
    {
     "name": "stdout",
     "output_type": "stream",
     "text": [
      "hello,world!\n"
     ]
    }
   ],
   "source": [
    "print(\"hello,world!\")"
   ]
  },
  {
   "cell_type": "code",
   "execution_count": 31,
   "metadata": {},
   "outputs": [
    {
     "name": "stdout",
     "output_type": "stream",
     "text": [
      "123\n"
     ]
    }
   ],
   "source": [
    "print(123)"
   ]
  },
  {
   "cell_type": "code",
   "execution_count": 32,
   "metadata": {},
   "outputs": [
    {
     "name": "stdout",
     "output_type": "stream",
     "text": [
      "1 2 3\n"
     ]
    }
   ],
   "source": [
    "x,y,z = 1,2,3\n",
    "print(x,y,z)"
   ]
  },
  {
   "cell_type": "code",
   "execution_count": 33,
   "metadata": {},
   "outputs": [
    {
     "name": "stdout",
     "output_type": "stream",
     "text": [
      "数字1.2和数字2.4的乘积是2.88\n"
     ]
    }
   ],
   "source": [
    "a,b=1.2,2.4\n",
    "print(\"数字{}和数字{}的乘积是{}\".format(a,b,a*b))"
   ]
  },
  {
   "cell_type": "code",
   "execution_count": 34,
   "metadata": {},
   "outputs": [
    {
     "name": "stdout",
     "output_type": "stream",
     "text": [
      "36.36% is the percentage number.\n",
      "OK!\n"
     ]
    }
   ],
   "source": [
    "x = 36\n",
    "print(x,end=\".\")\n",
    "print(x,end=\"%\")\n",
    "print(\" is the percentage number.\")\n",
    "print(\"OK!\")"
   ]
  },
  {
   "cell_type": "markdown",
   "metadata": {},
   "source": [
    "#### ③\teval()函数"
   ]
  },
  {
   "cell_type": "code",
   "execution_count": 35,
   "metadata": {},
   "outputs": [
    {
     "name": "stdout",
     "output_type": "stream",
     "text": [
      "x= 2.4\n",
      "y= 3.5999999999999996\n"
     ]
    }
   ],
   "source": [
    "x = \"2 * 1.2\"\n",
    "print('x=',eval(x))\n",
    "y = eval(\"1.2 + 2.4\")\n",
    "print('y=',y)"
   ]
  },
  {
   "cell_type": "code",
   "execution_count": 36,
   "metadata": {},
   "outputs": [
    {
     "name": "stdout",
     "output_type": "stream",
     "text": [
      "8; 4\n"
     ]
    }
   ],
   "source": [
    "print(eval('pow(2,3)'), end='; ')\n",
    "print(eval('max(2,3,4)'))"
   ]
  },
  {
   "cell_type": "markdown",
   "metadata": {},
   "source": [
    "# 3.2 基本数据类型"
   ]
  },
  {
   "cell_type": "markdown",
   "metadata": {},
   "source": [
    "## 3.2.1 数值类型\n",
    "### （1）整数类型\n",
    "### （2）浮点数类型"
   ]
  },
  {
   "cell_type": "code",
   "execution_count": 37,
   "metadata": {},
   "outputs": [
    {
     "name": "stdout",
     "output_type": "stream",
     "text": [
      "<class 'int'> <class 'float'>\n"
     ]
    }
   ],
   "source": [
    "print(type(36),type(36.0))"
   ]
  },
  {
   "cell_type": "code",
   "execution_count": 38,
   "metadata": {},
   "outputs": [
    {
     "name": "stdout",
     "output_type": "stream",
     "text": [
      "12.0 -12.3 0.0123 -1230.0\n"
     ]
    }
   ],
   "source": [
    "print(12.0,-12.3,123e-4,-12.3e2)"
   ]
  },
  {
   "cell_type": "code",
   "execution_count": 39,
   "metadata": {},
   "outputs": [
    {
     "name": "stdout",
     "output_type": "stream",
     "text": [
      "8.0\n"
     ]
    }
   ],
   "source": [
    "print(5.0+3)"
   ]
  },
  {
   "cell_type": "code",
   "execution_count": 40,
   "metadata": {},
   "outputs": [
    {
     "name": "stdout",
     "output_type": "stream",
     "text": [
      "False\n"
     ]
    }
   ],
   "source": [
    "print((3.2-2.8) == 0.4)     #将3.2-2.8的值与0.4进行等值比较"
   ]
  },
  {
   "cell_type": "markdown",
   "metadata": {},
   "source": [
    "### （3）复数类型"
   ]
  },
  {
   "cell_type": "code",
   "execution_count": 41,
   "metadata": {},
   "outputs": [
    {
     "name": "stdout",
     "output_type": "stream",
     "text": [
      "(2.3+0.666j)\n",
      "2.3\n",
      "0.666\n",
      "(2.3-0.666j)\n"
     ]
    }
   ],
   "source": [
    "a=2.3+0.666j            #定义一个虚数\n",
    "print(a)                #输出这个虚数\n",
    "print(a.real)           #输出实部\n",
    "print(a.imag)           #输出虚部\n",
    "print(a.conjugate())    #输出共轭复数"
   ]
  },
  {
   "cell_type": "code",
   "execution_count": 42,
   "metadata": {},
   "outputs": [
    {
     "name": "stdout",
     "output_type": "stream",
     "text": [
      "(1+3j)\n",
      "(4+0j)\n",
      "(5+0j)\n",
      "(2+6j)\n"
     ]
    }
   ],
   "source": [
    "print(complex(1, 3))\n",
    "print(complex(4))      # 数字\n",
    "print(complex(\"5\"))     # 当做字符串处理\n",
    "print(complex(\"2+6j\"))  #注意：此处\"+\"号两边不能有空格，不能写成\"2 + 6j\"，\n",
    "                          #应该是：\"2+6j\"，否则就会报错。"
   ]
  },
  {
   "cell_type": "markdown",
   "metadata": {},
   "source": [
    "## 3.2.2 逻辑类型"
   ]
  },
  {
   "cell_type": "code",
   "execution_count": 43,
   "metadata": {},
   "outputs": [
    {
     "name": "stdout",
     "output_type": "stream",
     "text": [
      "True\n",
      "False\n",
      "True\n",
      "False\n",
      "False\n"
     ]
    }
   ],
   "source": [
    "print(True and True)   # ==> True\n",
    "print(False and True)   # ==> False\n",
    "print(True or False)    # ==> True\n",
    "print(False and False)   # ==> False\n",
    "print(not True)         # ==> False"
   ]
  },
  {
   "cell_type": "markdown",
   "metadata": {},
   "source": [
    "## 3.2.3 字符串类型"
   ]
  },
  {
   "cell_type": "code",
   "execution_count": 44,
   "metadata": {},
   "outputs": [],
   "source": [
    "a = 'Hello world!'       #使用单引号作为界定符\n",
    "b = \"This is my first string.\"     #使用双引号作为界定符\n",
    "c = 'Python is a \"GREAT\" language!'     #混合使用单、双引号, 字符串包含了双引号\n",
    "d = \"\"\"I'm a coder.\"\"\"           #字符串包含了单引号，可以用三个双引号作为界定符\n",
    "e = \"Good \" + 'morning'     #字符串连接，混合使用单、双引号"
   ]
  },
  {
   "cell_type": "code",
   "execution_count": 45,
   "metadata": {},
   "outputs": [
    {
     "name": "stdout",
     "output_type": "stream",
     "text": [
      "a[1]： e\n",
      "a[3:7]： lo w\n"
     ]
    }
   ],
   "source": [
    "a = \"Hello world!\"\n",
    "print(\"a[1]：\",a[1])\n",
    "print(\"a[3:7]：\",a[3:7])"
   ]
  },
  {
   "cell_type": "markdown",
   "metadata": {},
   "source": [
    "# 3.3 运算符与表达式"
   ]
  },
  {
   "cell_type": "markdown",
   "metadata": {},
   "source": [
    "## 3.3.1 算术运算符"
   ]
  },
  {
   "cell_type": "code",
   "execution_count": 46,
   "metadata": {},
   "outputs": [
    {
     "name": "stdout",
     "output_type": "stream",
     "text": [
      "39.0\n"
     ]
    }
   ],
   "source": [
    "print(156/4)"
   ]
  },
  {
   "cell_type": "code",
   "execution_count": 47,
   "metadata": {},
   "outputs": [
    {
     "name": "stdout",
     "output_type": "stream",
     "text": [
      "46 46.0\n"
     ]
    }
   ],
   "source": [
    "print(23*2,23.0*2)"
   ]
  },
  {
   "cell_type": "code",
   "execution_count": 48,
   "metadata": {},
   "outputs": [
    {
     "name": "stdout",
     "output_type": "stream",
     "text": [
      "(9-1j)\n"
     ]
    }
   ],
   "source": [
    "print(10-(1+1j))"
   ]
  },
  {
   "cell_type": "code",
   "execution_count": 3,
   "metadata": {},
   "outputs": [
    {
     "ename": "SyntaxError",
     "evalue": "invalid syntax (<ipython-input-3-cc6dfc65a414>, line 2)",
     "output_type": "error",
     "traceback": [
      "\u001b[0;36m  File \u001b[0;32m\"<ipython-input-3-cc6dfc65a414>\"\u001b[0;36m, line \u001b[0;32m2\u001b[0m\n\u001b[0;31m    x ** = 3\u001b[0m\n\u001b[0m         ^\u001b[0m\n\u001b[0;31mSyntaxError\u001b[0m\u001b[0;31m:\u001b[0m invalid syntax\n"
     ]
    }
   ],
   "source": [
    "x = 5\n",
    "x ** = 3\n",
    "print(x)"
   ]
  },
  {
   "cell_type": "code",
   "execution_count": 50,
   "metadata": {},
   "outputs": [
    {
     "name": "stdout",
     "output_type": "stream",
     "text": [
      "125\n"
     ]
    }
   ],
   "source": [
    "x = 5\n",
    "x **= 3         #与x = x**3等价\n",
    "print(x)"
   ]
  },
  {
   "cell_type": "markdown",
   "metadata": {},
   "source": [
    "## 3.3.2 逻辑运算符"
   ]
  },
  {
   "cell_type": "code",
   "execution_count": 51,
   "metadata": {},
   "outputs": [
    {
     "data": {
      "text/plain": [
       "15"
      ]
     },
     "execution_count": 51,
     "metadata": {},
     "output_type": "execute_result"
    }
   ],
   "source": [
    "5>3 and 7+8"
   ]
  },
  {
   "cell_type": "code",
   "execution_count": 52,
   "metadata": {},
   "outputs": [
    {
     "data": {
      "text/plain": [
       "False"
      ]
     },
     "execution_count": 52,
     "metadata": {},
     "output_type": "execute_result"
    }
   ],
   "source": [
    "5<3 and 7+8"
   ]
  },
  {
   "cell_type": "code",
   "execution_count": 53,
   "metadata": {},
   "outputs": [
    {
     "data": {
      "text/plain": [
       "15"
      ]
     },
     "execution_count": 53,
     "metadata": {},
     "output_type": "execute_result"
    }
   ],
   "source": [
    "5<3 or 7+8"
   ]
  },
  {
   "cell_type": "code",
   "execution_count": 54,
   "metadata": {},
   "outputs": [
    {
     "data": {
      "text/plain": [
       "False"
      ]
     },
     "execution_count": 54,
     "metadata": {},
     "output_type": "execute_result"
    }
   ],
   "source": [
    "not 7+8"
   ]
  },
  {
   "cell_type": "code",
   "execution_count": 55,
   "metadata": {},
   "outputs": [
    {
     "name": "stdout",
     "output_type": "stream",
     "text": [
      "a=T\n"
     ]
    }
   ],
   "source": [
    "a = True                          #变量a赋值为True  \n",
    "print(a and \"a=T\" or \"a=F\")     #打印a and \"a=T\" or \"a=F\"的运算结果"
   ]
  },
  {
   "cell_type": "markdown",
   "metadata": {},
   "source": [
    "## 3.3.3 关系运算符"
   ]
  },
  {
   "cell_type": "code",
   "execution_count": 56,
   "metadata": {},
   "outputs": [
    {
     "name": "stdout",
     "output_type": "stream",
     "text": [
      "False True False True False True\n"
     ]
    }
   ],
   "source": [
    "print(3==5,3!=5,3>5,3<5,3>=5,3<=5)"
   ]
  },
  {
   "cell_type": "code",
   "execution_count": 57,
   "metadata": {},
   "outputs": [
    {
     "name": "stdout",
     "output_type": "stream",
     "text": [
      "变量 a 在给定的列表中 list 中\n",
      "变量 b 不在给定的列表中 list 中\n"
     ]
    }
   ],
   "source": [
    "a = 1                                              #定义变量a并赋值为1\n",
    "b = 6                                               #定义变量b并赋值为6\n",
    "list = [1, 2, 3, 4, 5 ]                           #定义列表list\n",
    "if ( a in list ):                                  #判断list中是否含1\n",
    "       print (\"变量 a 在给定的列表中 list 中\")\n",
    "else:\n",
    "       print (\"变量 a 不在给定的列表中 list 中\")\n",
    "if ( b not in list ):                             #判断list中是否含6\n",
    "       print (\"变量 b 不在给定的列表中 list 中\")\n",
    "else:\n",
    "       print (\"变量 b 在给定的列表中 list 中\")"
   ]
  },
  {
   "cell_type": "code",
   "execution_count": 58,
   "metadata": {},
   "outputs": [
    {
     "name": "stdout",
     "output_type": "stream",
     "text": [
      "a 和 b 有相同的标识\n",
      "b 和 c 有相同的标识\n",
      "a 和 c 有相同的标识\n"
     ]
    }
   ],
   "source": [
    "a = 1                                   #定义变量a并赋值为整数1\n",
    "b = 1                                   #定义变量b并赋值为整数1\n",
    "c = b                                   #定义变量c并赋值为b\n",
    "if ( a is b ):                         #判断变量a和b是否引自同一个对象\n",
    "       print (\"a 和 b 有相同的标识\")\n",
    "else:\n",
    "       print (\"a 和 b 没有相同的标识\") \n",
    "if ( b is c ):                          #判断变量b和c是否引自同一个对象\n",
    "       print (\"b 和 c 有相同的标识\")\n",
    "else:\n",
    "       print (\"b 和 c 没有相同的标识\")\n",
    "if ( a is c ):                          #判断变量a和c是否引自同一个对象\n",
    "       print (\"a 和 c 有相同的标识\")\n",
    "else:\n",
    "       print (\"a 和 c 没有相同的标识\")"
   ]
  },
  {
   "cell_type": "code",
   "execution_count": 59,
   "metadata": {},
   "outputs": [
    {
     "name": "stdout",
     "output_type": "stream",
     "text": [
      "a 和 b 没有相同的标识\n",
      "b 和 c 有相同的标识\n",
      "a 和 c 没有相同的标识\n"
     ]
    }
   ],
   "source": [
    "a = 2020                               #定义变量a并赋值为整数2020\n",
    "b = 2020                               #定义变量b并赋值为整数2020\n",
    "c = b                                   #定义变量c并赋值为b\n",
    "if ( a is b ):                          #判断变量a和b是否引自同一个对象\n",
    "       print (\"a 和 b 有相同的标识\")\n",
    "else:\n",
    "       print (\"a 和 b 没有相同的标识\") \n",
    "if ( b is c ):                          #判断变量b和c是否引自同一个对象\n",
    "       print (\"b 和 c 有相同的标识\")\n",
    "else:\n",
    "       print (\"b 和 c 没有相同的标识\")\n",
    "if ( a is c ):                          #判断变量a和c是否引自同一个对象\n",
    "       print (\"a 和 c 有相同的标识\")\n",
    "else:\n",
    "       print (\"a 和 c 没有相同的标识\")"
   ]
  },
  {
   "cell_type": "code",
   "execution_count": 60,
   "metadata": {},
   "outputs": [
    {
     "name": "stdout",
     "output_type": "stream",
     "text": [
      "True\n"
     ]
    }
   ],
   "source": [
    "x = 'Python'                   #不含空格\n",
    "y = 'Python'\n",
    "print(id(x) == id(y))"
   ]
  },
  {
   "cell_type": "code",
   "execution_count": 61,
   "metadata": {},
   "outputs": [
    {
     "name": "stdout",
     "output_type": "stream",
     "text": [
      "False\n"
     ]
    }
   ],
   "source": [
    "x = 'love Python'             #包含空格\n",
    "y = 'love Python'\n",
    "print(id(x) == id(y))"
   ]
  },
  {
   "cell_type": "code",
   "execution_count": 62,
   "metadata": {},
   "outputs": [
    {
     "data": {
      "text/plain": [
       "{1, 2, 3, 4, 5}"
      ]
     },
     "execution_count": 62,
     "metadata": {},
     "output_type": "execute_result"
    }
   ],
   "source": [
    "{1,2,3}|{3,4,5}     #并集"
   ]
  },
  {
   "cell_type": "code",
   "execution_count": 63,
   "metadata": {},
   "outputs": [
    {
     "data": {
      "text/plain": [
       "{3}"
      ]
     },
     "execution_count": 63,
     "metadata": {},
     "output_type": "execute_result"
    }
   ],
   "source": [
    "{1,2,3}&{3,4,5}     #交集"
   ]
  },
  {
   "cell_type": "code",
   "execution_count": 64,
   "metadata": {},
   "outputs": [
    {
     "data": {
      "text/plain": [
       "{1, 2, 4, 5}"
      ]
     },
     "execution_count": 64,
     "metadata": {},
     "output_type": "execute_result"
    }
   ],
   "source": [
    "{1,2,3}^{3,4,5}     #对称差集"
   ]
  },
  {
   "cell_type": "code",
   "execution_count": 65,
   "metadata": {},
   "outputs": [
    {
     "data": {
      "text/plain": [
       "{1, 2}"
      ]
     },
     "execution_count": 65,
     "metadata": {},
     "output_type": "execute_result"
    }
   ],
   "source": [
    "{1,2,3}-{3,4,5}     #差集"
   ]
  },
  {
   "cell_type": "markdown",
   "metadata": {},
   "source": [
    "# 3.4 字符串类型的基本操作"
   ]
  },
  {
   "cell_type": "markdown",
   "metadata": {},
   "source": [
    "## 3.4.1 引号界定符"
   ]
  },
  {
   "cell_type": "code",
   "execution_count": 66,
   "metadata": {},
   "outputs": [
    {
     "data": {
      "text/plain": [
       "'Hello World!'"
      ]
     },
     "execution_count": 66,
     "metadata": {},
     "output_type": "execute_result"
    }
   ],
   "source": [
    "\"Hello World!\"         #双引号创建字符串Hello World!"
   ]
  },
  {
   "cell_type": "code",
   "execution_count": 67,
   "metadata": {},
   "outputs": [
    {
     "data": {
      "text/plain": [
       "'Hello World!'"
      ]
     },
     "execution_count": 67,
     "metadata": {},
     "output_type": "execute_result"
    }
   ],
   "source": [
    "'Hello World!'         #单引号创建字符串Hello World!"
   ]
  },
  {
   "cell_type": "code",
   "execution_count": 68,
   "metadata": {},
   "outputs": [
    {
     "data": {
      "text/plain": [
       "\"'Hi!'said the boy.\""
      ]
     },
     "execution_count": 68,
     "metadata": {},
     "output_type": "execute_result"
    }
   ],
   "source": [
    "\"'Hi!'said the boy.\"                           #双引号包裹的字符串中使用单引号"
   ]
  },
  {
   "cell_type": "code",
   "execution_count": 69,
   "metadata": {},
   "outputs": [
    {
     "data": {
      "text/plain": [
       "'\" is the rare double quote in captivity.'"
      ]
     },
     "execution_count": 69,
     "metadata": {},
     "output_type": "execute_result"
    }
   ],
   "source": [
    "'\" is the rare double quote in captivity.'   #单引号包裹的字符串中使用双引号"
   ]
  },
  {
   "cell_type": "code",
   "execution_count": 70,
   "metadata": {},
   "outputs": [
    {
     "ename": "SyntaxError",
     "evalue": "invalid syntax (<ipython-input-70-6078d801f523>, line 1)",
     "output_type": "error",
     "traceback": [
      "\u001b[1;36m  File \u001b[1;32m\"<ipython-input-70-6078d801f523>\"\u001b[1;36m, line \u001b[1;32m1\u001b[0m\n\u001b[1;33m    \"\"Hi!\"said the boy.\"                           #双引号包裹的字符串中使用双引号\u001b[0m\n\u001b[1;37m       ^\u001b[0m\n\u001b[1;31mSyntaxError\u001b[0m\u001b[1;31m:\u001b[0m invalid syntax\n"
     ]
    }
   ],
   "source": [
    "\"\"Hi!\"said the boy.\"                           #双引号包裹的字符串中使用双引号"
   ]
  },
  {
   "cell_type": "code",
   "execution_count": 71,
   "metadata": {},
   "outputs": [
    {
     "data": {
      "text/plain": [
       "'\"Hi!\"said the boy.'"
      ]
     },
     "execution_count": 71,
     "metadata": {},
     "output_type": "execute_result"
    }
   ],
   "source": [
    "\"\\\"Hi!\\\"said the boy.\"                 #双引号包裹的字符串中使用转义字符+双引号"
   ]
  },
  {
   "cell_type": "code",
   "execution_count": 72,
   "metadata": {},
   "outputs": [
    {
     "data": {
      "text/plain": [
       "'Had I not seen the Sun\\nI could have borne the shade\\nBut Light a newer Wilderness\\nMy Wilderness has made'"
      ]
     },
     "execution_count": 72,
     "metadata": {},
     "output_type": "execute_result"
    }
   ],
   "source": [
    "'''Had I not seen the Sun\n",
    "I could have borne the shade\n",
    "But Light a newer Wilderness\n",
    "My Wilderness has made'''                           #使用三元引号创建四行字符串"
   ]
  },
  {
   "cell_type": "markdown",
   "metadata": {},
   "source": [
    "## 3.4.2 合并字符串"
   ]
  },
  {
   "cell_type": "code",
   "execution_count": 73,
   "metadata": {},
   "outputs": [
    {
     "data": {
      "text/plain": [
       "'Good morning!'"
      ]
     },
     "execution_count": 73,
     "metadata": {},
     "output_type": "execute_result"
    }
   ],
   "source": [
    "\"Good\"+\" \"+\"morning!\"     #将字符串\"Good\"和\"morning!\" 合并且在其中添加一个空格"
   ]
  },
  {
   "cell_type": "code",
   "execution_count": 74,
   "metadata": {},
   "outputs": [
    {
     "data": {
      "text/plain": [
       "'abcdef'"
      ]
     },
     "execution_count": 74,
     "metadata": {},
     "output_type": "execute_result"
    }
   ],
   "source": [
    "\"abc\"\"def\"                    #合并字符串\"abc\"和\"def\""
   ]
  },
  {
   "cell_type": "code",
   "execution_count": 75,
   "metadata": {},
   "outputs": [
    {
     "name": "stdout",
     "output_type": "stream",
     "text": [
      "abc def\n"
     ]
    }
   ],
   "source": [
    "a = \"abc\"                  \n",
    "b = \"def\"\n",
    "print(a,b)                     #合并字符串\"abc\"和\"def\""
   ]
  },
  {
   "cell_type": "code",
   "execution_count": 76,
   "metadata": {},
   "outputs": [
    {
     "name": "stdout",
     "output_type": "stream",
     "text": [
      "你好!\n"
     ]
    }
   ],
   "source": [
    "list_hello = ['你', '好', '!']\n",
    "str_hello = ''.join(list_hello)\n",
    "print(str_hello)"
   ]
  },
  {
   "cell_type": "code",
   "execution_count": 77,
   "metadata": {},
   "outputs": [
    {
     "name": "stdout",
     "output_type": "stream",
     "text": [
      "你------>好------>!\n"
     ]
    }
   ],
   "source": [
    "list_hello = ['你', '好', '!']\n",
    "str_hello = '------>'.join(list_hello)\n",
    "print(str_hello)"
   ]
  },
  {
   "cell_type": "code",
   "execution_count": 81,
   "metadata": {},
   "outputs": [
    {
     "name": "stdout",
     "output_type": "stream",
     "text": [
      "key1,key2,key3\n"
     ]
    }
   ],
   "source": [
    "dict_name = {'key1':'value1','key2':'value2','key3': 'value3'} \n",
    "str_key = ','.join(dict_name)                              #拼接key列表\n",
    "print(str_key)"
   ]
  },
  {
   "cell_type": "code",
   "execution_count": 80,
   "metadata": {},
   "outputs": [
    {
     "name": "stdout",
     "output_type": "stream",
     "text": [
      "value1**value2**value3\n"
     ]
    }
   ],
   "source": [
    "dict_name = {'key1': 'value1', 'key2': 'value2','key3': 'value3'} \n",
    "str_value = '**'.join(dict_name.values())                 #拼接value列表\n",
    "print(str_value)"
   ]
  },
  {
   "cell_type": "code",
   "execution_count": 82,
   "metadata": {},
   "outputs": [
    {
     "name": "stdout",
     "output_type": "stream",
     "text": [
      "['你', '好', '!', 2020]\n"
     ]
    }
   ],
   "source": [
    "list_hello = ['你', '好', '!']\n",
    "list_hello.append( 2020 );\n",
    "print(list_hello)"
   ]
  },
  {
   "cell_type": "markdown",
   "metadata": {},
   "source": [
    "## 3.4.3 复制字符串"
   ]
  },
  {
   "cell_type": "code",
   "execution_count": 84,
   "metadata": {},
   "outputs": [
    {
     "name": "stdout",
     "output_type": "stream",
     "text": [
      "PythonPythonPythonPythonPython\n"
     ]
    }
   ],
   "source": [
    "print('Python'*5)                      #输出5个'Python'"
   ]
  },
  {
   "cell_type": "markdown",
   "metadata": {},
   "source": [
    "## 3.4.4 转义字符"
   ]
  },
  {
   "cell_type": "code",
   "execution_count": 85,
   "metadata": {},
   "outputs": [
    {
     "name": "stdout",
     "output_type": "stream",
     "text": [
      "apple\n",
      "banana\n",
      "orange\n"
     ]
    }
   ],
   "source": [
    "print(\"apple\\nbanana\\norange\")          #打印出三行字符串"
   ]
  },
  {
   "cell_type": "code",
   "execution_count": 87,
   "metadata": {},
   "outputs": [
    {
     "name": "stdout",
     "output_type": "stream",
     "text": [
      "ab\tcd\tef\n"
     ]
    }
   ],
   "source": [
    "print(\"ab\\tcd\\tef\")                      #横向对齐ab、cd、ef"
   ]
  },
  {
   "cell_type": "code",
   "execution_count": 88,
   "metadata": {},
   "outputs": [
    {
     "data": {
      "text/plain": [
       "'\"Hi!\"said the boy.'"
      ]
     },
     "execution_count": 88,
     "metadata": {},
     "output_type": "execute_result"
    }
   ],
   "source": [
    "\"\\\"Hi!\\\"said the boy.\"               #双引号包裹的字符串中使用转义字符+双引号"
   ]
  },
  {
   "cell_type": "code",
   "execution_count": 89,
   "metadata": {},
   "outputs": [
    {
     "name": "stdout",
     "output_type": "stream",
     "text": [
      "I am very happy \\today!\n"
     ]
    }
   ],
   "source": [
    "print(\"I am very happy \\\\today!\")        #打印出I am very happy \\today!"
   ]
  },
  {
   "cell_type": "markdown",
   "metadata": {},
   "source": [
    "## 3.4.5 字符串格式化"
   ]
  },
  {
   "cell_type": "code",
   "execution_count": 90,
   "metadata": {},
   "outputs": [
    {
     "name": "stdout",
     "output_type": "stream",
     "text": [
      "I am a student.\n",
      "I am a boy, and my age is 15.\n",
      "My name is Harry, age is 15.\n",
      "The percent is 99.98%.\n"
     ]
    }
   ],
   "source": [
    "print(\"I am a %s.\" %\"student\")\n",
    "print(\"I am a %s, and my age is %d.\" %(\"boy\", 15))\n",
    "print(\"My name is %(name)s, age is %(age)d.\" %{\"name\": \"Harry\", \"age\": 15}) \n",
    "print(\"The percent is %.2f%%.\" %99.97623)"
   ]
  },
  {
   "cell_type": "code",
   "execution_count": 91,
   "metadata": {},
   "outputs": [
    {
     "name": "stdout",
     "output_type": "stream",
     "text": [
      "12\n",
      "onetwo\n",
      "onetwo\n",
      "twoone\n",
      "I have one apples,he have two apples\n"
     ]
    }
   ],
   "source": [
    "print(\"{}{}\".format(1,2))\n",
    "print(\"{}{}\".format(\"one\",\"two\"))\n",
    "print(\"{0}{1}\".format(\"one\",\"two\"))\n",
    "print(\"{1}{0}\".format(\"one\",\"two\"))\n",
    "a=[\"one\",\"two\"]\n",
    "print(\"I have {} apples,he have {} apples\".format(*a))"
   ]
  },
  {
   "cell_type": "code",
   "execution_count": 92,
   "metadata": {},
   "outputs": [
    {
     "name": "stdout",
     "output_type": "stream",
     "text": [
      "The cat like to eat fish,age is 3\n",
      "The cat like to eat fish,age is 3\n"
     ]
    }
   ],
   "source": [
    "print(\"The cat like to eat {food},age is {age}\".format(food=\"fish\",age=3))\n",
    "cat = {\"food\":\"fish\",\"age\":3}\n",
    "print( \"The cat like to eat {food},age is {age}\".format(**cat))"
   ]
  },
  {
   "cell_type": "code",
   "execution_count": 93,
   "metadata": {},
   "outputs": [
    {
     "name": "stdout",
     "output_type": "stream",
     "text": [
      "    7\n",
      "****7\n",
      "7****\n",
      "**7**\n"
     ]
    }
   ],
   "source": [
    "print(\"{0:>5}\".format(7))    #填充字符为空格+右对齐+宽度5\n",
    "print(\"{0:*>5}\".format(7))   #填充字符为*+右对齐+宽度5\n",
    "print(\"{0:*<5}\".format(7))   #填充字符为*+左对齐+宽度5\n",
    "print(\"{0:*^5}\".format(7))   #填充字符为*+中间对齐+宽度5"
   ]
  },
  {
   "cell_type": "code",
   "execution_count": 94,
   "metadata": {},
   "outputs": [
    {
     "name": "stdout",
     "output_type": "stream",
     "text": [
      "12345.68\n",
      "HHHHH12345.679HHHHHH\n",
      "PYTH\n"
     ]
    }
   ],
   "source": [
    "print(\"{0:.2f}\".format(12345.67890))\n",
    "print(\"{0:H^20.3f}\".format(12345.67890))\n",
    "print(\"{0:.4}\".format(\"PYTHON\"))"
   ]
  },
  {
   "cell_type": "code",
   "execution_count": 95,
   "metadata": {},
   "outputs": [
    {
     "name": "stdout",
     "output_type": "stream",
     "text": [
      "110101001,Ʃ,425,651,1a9,1A9\n"
     ]
    }
   ],
   "source": [
    "print(\"{0:b},{0:c},{0:d},{0:o},{0:x},{0:X}\".format(425))"
   ]
  },
  {
   "cell_type": "code",
   "execution_count": 96,
   "metadata": {},
   "outputs": [
    {
     "name": "stdout",
     "output_type": "stream",
     "text": [
      "3.140000e+00,3.140000E+00,3.140000,314.000000%\n",
      "3.14e+00,3.14E+00,3.14,314.00%\n"
     ]
    }
   ],
   "source": [
    "print(\"{0:e},{0:E},{0:f},{0:%}\".format(3.14))\n",
    "print(\"{0:.2e},{0:.2E},{0:.2f},{0:.2%}\".format(3.14))"
   ]
  },
  {
   "cell_type": "code",
   "execution_count": 97,
   "metadata": {},
   "outputs": [
    {
     "name": "stdout",
     "output_type": "stream",
     "text": [
      "1,234,567,890\n",
      "-----1234567890-----\n",
      "----12,345.6789-----\n"
     ]
    }
   ],
   "source": [
    "print(\"{:,}\".format(1234567890))\n",
    "print(\"{0:-^20}\".format(1234567890))\n",
    "print(\"{0:-^20,}\".format(12345.67890))"
   ]
  },
  {
   "cell_type": "code",
   "execution_count": 98,
   "metadata": {},
   "outputs": [
    {
     "name": "stdout",
     "output_type": "stream",
     "text": [
      "{ Hello } 42\n"
     ]
    }
   ],
   "source": [
    "print(\"{{ Hello }} {0}\".format(42))"
   ]
  },
  {
   "cell_type": "markdown",
   "metadata": {},
   "source": [
    "# 3.5 上机实践\n",
    "1. 创建两个数值变量分别命名为a、b并赋值，输出变量的值并将其转化为复数形式。\n",
    "\n",
    "问题：分别创建两个变量并赋值，转化为复数后使用print语句输出。\n",
    "\n",
    "输出格式示例：a,b分别为 15 30\n",
    "\n",
    "解题代码案例："
   ]
  },
  {
   "cell_type": "code",
   "execution_count": 100,
   "metadata": {},
   "outputs": [
    {
     "name": "stdout",
     "output_type": "stream",
     "text": [
      "a,b分别是 15 30\n",
      "变量a对应的值转化为复数后为： (15+0j)\n",
      "变量b对应的值转化为复数后为： (30+0j)\n"
     ]
    }
   ],
   "source": [
    "a = 15\n",
    "b = 30\n",
    "print(\"a,b分别是\",a,b)\n",
    "print(\"变量a对应的值转化为复数后为：\",complex(a))\n",
    "print(\"变量b对应的值转化为复数后为：\",complex(b))"
   ]
  },
  {
   "cell_type": "markdown",
   "metadata": {},
   "source": [
    "2. 对题1中的变量进行算数运算、比较运算、逻辑运算、位运算，并分析结果。\n",
    "\n",
    "问题：分别对题1中的两个变量进行算术运算（加、减、乘、除、幂运算）、比较运算（大于、小于、等于、大于等于、小于等于）、逻辑运算（与、或、非）、位运算，并使用print语句输出结果。\n",
    "\n",
    "输出格式示例：a>b? False\n",
    "\n",
    "解题代码案例：\n"
   ]
  },
  {
   "cell_type": "code",
   "execution_count": 101,
   "metadata": {},
   "outputs": [
    {
     "name": "stdout",
     "output_type": "stream",
     "text": [
      "a+b: 45\n",
      "a>b? False\n",
      "not a: False\n",
      "a&b: 14\n"
     ]
    }
   ],
   "source": [
    "a = 15\n",
    "b = 30\n",
    "print(\"a+b:\",a+b)\n",
    "print(\"a>b?\",a>b)\n",
    "print(\"not a:\",not a)\n",
    "print(\"a&b:\",a&b)"
   ]
  },
  {
   "cell_type": "markdown",
   "metadata": {},
   "source": [
    "3. 请创建五个变量分别存储书籍的书名、作者、出版社、价格、评分信息，其中价格与评分为数值类型，其余变量为字符串类型。使用format格式化输出书籍信息且保证价格的小数点位数为两位，评分的小数点位数为一位。\n",
    "\n",
    "问题：创建五个变量，并为其赋值，之后使用format格式化输出结果。\n",
    "\n",
    "解题代码案例：\n",
    "\n"
   ]
  },
  {
   "cell_type": "code",
   "execution_count": 1,
   "metadata": {},
   "outputs": [
    {
     "name": "stdout",
     "output_type": "stream",
     "text": [
      "书  名：红楼梦\n",
      "作  者：曹雪芹、高鹗\n",
      "出版社：人民文学出版社\n",
      "价  格：59.70元\n",
      "评  分：9.6\n"
     ]
    }
   ],
   "source": [
    "book_name = \"红楼梦\"\n",
    "author_name = \"曹雪芹、高鹗\"\n",
    "publish = \"人民文学出版社\"\n",
    "price = 59.70\n",
    "rate =  9.6\n",
    "print (\"书  名：{}\".format(book_name))\n",
    "print (\"作  者：{}\".format(author_name))\n",
    "print (\"出版社：{}\".format(publish))\n",
    "print (\"价  格：{:.2f}元\".format(price))\n",
    "print (\"评  分：{:.1f}\".format(rate))\n"
   ]
  },
  {
   "cell_type": "markdown",
   "metadata": {},
   "source": [
    "4. 使用百分号“%”进行字符串格式化输出第三题中的内容。要求书籍的书名、作者、出版社、价格、评分五项内容由用户自行输入，保证价格的小数点位数为两位，评分的小数点位数为一位。\n",
    "\n",
    "问题：创建五个变量，并通过用户输入函数input()为其赋值，之后使用百分号“%”进行字符串格式化输出结果。\n",
    "\n",
    "解题代码案例：\n"
   ]
  },
  {
   "cell_type": "code",
   "execution_count": 2,
   "metadata": {
    "scrolled": true
   },
   "outputs": [
    {
     "name": "stdout",
     "output_type": "stream",
     "text": [
      "请输入书名：红楼梦\n",
      "请输入作者名：曹雪芹、高鹗\n",
      "请输入出版社名：人民文学出版社\n",
      "请输入价格59.70\n",
      "请输入评分：9.6\n",
      "书  名：红楼梦\n",
      "作者名：曹雪芹、高鹗\n",
      "出版社：人民文学出版社\n",
      "价  格：59.70\n",
      "评  分：9.6\n"
     ]
    }
   ],
   "source": [
    "book_name = input(\"请输入书名：\")\n",
    "author_name = input(\"请输入作者名：\")\n",
    "publish = input(\"请输入出版社名：\")\n",
    "price = input(\"请输入价格：\")\n",
    "rate =  input(\"请输入评分：\")\n",
    "print (\"书  名：%s\"%book_name)\n",
    "print (\"作者名：%s\"%author_name)\n",
    "print (\"出版社：%s\"%publish)\n",
    "print (\"价  格：%.2f\"%float(price))\n",
    "print (\"评  分：%.1f\"%float(rate))"
   ]
  },
  {
   "cell_type": "markdown",
   "metadata": {},
   "source": [
    "# 上机作业"
   ]
  },
  {
   "cell_type": "markdown",
   "metadata": {},
   "source": [
    "1、使用`input`函数获取用户输入的的`\"I love Python!\"`，并赋值给自定义的变量；"
   ]
  },
  {
   "cell_type": "code",
   "execution_count": 4,
   "metadata": {},
   "outputs": [
    {
     "name": "stdout",
     "output_type": "stream",
     "text": [
      "example!\n"
     ]
    }
   ],
   "source": [
    "print('example!')"
   ]
  },
  {
   "cell_type": "markdown",
   "metadata": {},
   "source": [
    "2、对题目1中的变量进行取子串操作，获得`\"Python\"`字符串并赋值给新变量；"
   ]
  },
  {
   "cell_type": "code",
   "execution_count": null,
   "metadata": {},
   "outputs": [],
   "source": []
  },
  {
   "cell_type": "markdown",
   "metadata": {},
   "source": [
    "3、对题目2中的变量进行操作，用空格隔开每一个字符，并输出。"
   ]
  },
  {
   "cell_type": "code",
   "execution_count": null,
   "metadata": {},
   "outputs": [],
   "source": []
  },
  {
   "cell_type": "markdown",
   "metadata": {},
   "source": [
    "4、使用`%`和`format`函数两种方式，对题目2中的变量进行操作，使用#进行左右填充，居中，输出宽度为10的格式化结果；"
   ]
  },
  {
   "cell_type": "code",
   "execution_count": null,
   "metadata": {},
   "outputs": [],
   "source": []
  },
  {
   "cell_type": "markdown",
   "metadata": {},
   "source": [
    "5、求集合`{'Python','C','C++','C#'}` 和集合`{'C#','Java','Python'}`的交集、并集、差集、对称差集，并输出。"
   ]
  }
 ],
 "metadata": {
  "kernelspec": {
   "display_name": "Python 3",
   "language": "python",
   "name": "python3"
  },
  "language_info": {
   "codemirror_mode": {
    "name": "ipython",
    "version": 3
   },
   "file_extension": ".py",
   "mimetype": "text/x-python",
   "name": "python",
   "nbconvert_exporter": "python",
   "pygments_lexer": "ipython3",
   "version": "3.7.5"
  }
 },
 "nbformat": 4,
 "nbformat_minor": 2
}
