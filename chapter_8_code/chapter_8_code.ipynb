{
 "cells": [
  {
   "cell_type": "markdown",
   "metadata": {},
   "source": [
    "# 8.1.1"
   ]
  },
  {
   "cell_type": "code",
   "execution_count": 8,
   "metadata": {},
   "outputs": [
    {
     "data": {
      "text/plain": [
       "1585046579.0"
      ]
     },
     "execution_count": 8,
     "metadata": {},
     "output_type": "execute_result"
    }
   ],
   "source": [
    "import time\n",
    "time.time() #获取当前时间戳\n",
    "time.ctime() #获取当前字符串形式时间\n",
    "time.gmtime() #获取当前时间的struct_time对象\n",
    "time.localtime() #获取当前当地时间的struct_time对象\n",
    "time.mktime(time.localtime()) #获取转换后的当前时间戳"
   ]
  },
  {
   "cell_type": "code",
   "execution_count": 9,
   "metadata": {},
   "outputs": [
    {
     "data": {
      "text/plain": [
       "'Tue, 24 Mar 2020 10:43:00 + 0000'"
      ]
     },
     "execution_count": 9,
     "metadata": {},
     "output_type": "execute_result"
    }
   ],
   "source": [
    "from time import gmtime, strftime   #从time模块导入gmtime和strftime函数\n",
    "strftime(\"%a, %d %b %Y %H:%M:%S + 0000\", gmtime())   #获取当前格式化时间"
   ]
  },
  {
   "cell_type": "code",
   "execution_count": 10,
   "metadata": {},
   "outputs": [
    {
     "data": {
      "text/plain": [
       "time.struct_time(tm_year=2000, tm_mon=11, tm_mday=30, tm_hour=0, tm_min=0, tm_sec=0, tm_wday=3, tm_yday=335, tm_isdst=-1)"
      ]
     },
     "execution_count": 10,
     "metadata": {},
     "output_type": "execute_result"
    }
   ],
   "source": [
    "import time\n",
    "time.strptime(\"30 Nov 00\",\"%d %b %y\") #获取2000年1月1日的struct_time对象"
   ]
  },
  {
   "cell_type": "code",
   "execution_count": 11,
   "metadata": {},
   "outputs": [
    {
     "name": "stdout",
     "output_type": "stream",
     "text": [
      "-------------执行开始--------------\n",
      " 0 %[->..........]\n",
      "10 %[*->.........]\n",
      "20 %[**->........]\n",
      "30 %[***->.......]\n",
      "40 %[****->......]\n",
      "50 %[*****->.....]\n",
      "60 %[******->....]\n",
      "70 %[*******->...]\n",
      "80 %[********->..]\n",
      "90 %[*********->.]\n",
      "100%[**********->]\n",
      "--------------执行结束--------------\n",
      "1.112879362000001s\n"
     ]
    }
   ],
   "source": [
    "import time\n",
    "scale = 10\n",
    "start = time.perf_counter()\n",
    "#记录循环语句开始执行时间\n",
    "print(\"-------------执行开始--------------\")\n",
    "for i in range(scale + 1):\n",
    "    a = '*' * i\n",
    "    b = '.' * (scale - i)\n",
    "    c = (i / scale) * 100\n",
    "    print(\"{:^3.0f}%[{}->{}]\".format(c,a,b))\n",
    "    time.sleep(0.1)\n",
    "print(\"--------------执行结束--------------\")\n",
    "end = time.perf_counter() #记录循环语句执行结束时间\n",
    "dur = end - start\n",
    "print(\"{}s\".format(dur))"
   ]
  },
  {
   "cell_type": "markdown",
   "metadata": {},
   "source": [
    "# 8.1.2"
   ]
  },
  {
   "cell_type": "code",
   "execution_count": 12,
   "metadata": {},
   "outputs": [
    {
     "name": "stdout",
     "output_type": "stream",
     "text": [
      "2020-03-24\n",
      "2020-01-01\n"
     ]
    }
   ],
   "source": [
    "from datetime import date #从datetime模块导入date类\n",
    "d1 = date.today() #d1为当前日期对象\n",
    "d2 = d1.replace(year=2020,month=1,day=1) #d2为2020年1月1日的日期对象\n",
    "print(\"{}\\n{}\".format(d1,d2)) #输出d1,d2"
   ]
  },
  {
   "cell_type": "code",
   "execution_count": 13,
   "metadata": {},
   "outputs": [
    {
     "data": {
      "text/plain": [
       "time.struct_time(tm_year=2020, tm_mon=3, tm_mday=24, tm_hour=0, tm_min=0, tm_sec=0, tm_wday=1, tm_yday=84, tm_isdst=-1)"
      ]
     },
     "execution_count": 13,
     "metadata": {},
     "output_type": "execute_result"
    }
   ],
   "source": [
    "d1.timetuple() #将d1转换为时间元组输出"
   ]
  },
  {
   "cell_type": "code",
   "execution_count": 14,
   "metadata": {},
   "outputs": [
    {
     "data": {
      "text/plain": [
       "'year:2020 month:03 day:24'"
      ]
     },
     "execution_count": 14,
     "metadata": {},
     "output_type": "execute_result"
    }
   ],
   "source": [
    "d1.strftime(\"year:%Y month:%m day:%d\") #将d1转换为相应格式的日期字符串并输出"
   ]
  },
  {
   "cell_type": "code",
   "execution_count": 15,
   "metadata": {},
   "outputs": [
    {
     "data": {
      "text/plain": [
       "2"
      ]
     },
     "execution_count": 15,
     "metadata": {},
     "output_type": "execute_result"
    }
   ],
   "source": [
    "d2.weekday() #输出d2的星期值"
   ]
  },
  {
   "cell_type": "code",
   "execution_count": 16,
   "metadata": {},
   "outputs": [
    {
     "data": {
      "text/plain": [
       "'Wed Jan  1 00:00:00 2020'"
      ]
     },
     "execution_count": 16,
     "metadata": {},
     "output_type": "execute_result"
    }
   ],
   "source": [
    "d2.ctime() #将d2以字符串形式输出"
   ]
  },
  {
   "cell_type": "code",
   "execution_count": 17,
   "metadata": {},
   "outputs": [
    {
     "name": "stdout",
     "output_type": "stream",
     "text": [
      "09:18:00\n",
      "20:20:05\n"
     ]
    }
   ],
   "source": [
    "from datetime import time #从datetime模块中导入time类\n",
    "t1 = time(9,18,0) #构造t1\n",
    "t2 = t1.replace(20,20,5) #替换t1参数值，生成t2\n",
    "print(t1)\n",
    "print(t2)"
   ]
  },
  {
   "cell_type": "code",
   "execution_count": 18,
   "metadata": {},
   "outputs": [
    {
     "data": {
      "text/plain": [
       "datetime.datetime(2020, 3, 24, 18, 43, 8, 130644)"
      ]
     },
     "execution_count": 18,
     "metadata": {},
     "output_type": "execute_result"
    }
   ],
   "source": [
    "from datetime import datetime     #从datetime模块导入datetime类\n",
    "datetime.today()     #获取当前日期时间的datetime对象"
   ]
  },
  {
   "cell_type": "code",
   "execution_count": 19,
   "metadata": {},
   "outputs": [
    {
     "data": {
      "text/plain": [
       "datetime.datetime(2020, 3, 24, 18, 43, 8, 675307)"
      ]
     },
     "execution_count": 19,
     "metadata": {},
     "output_type": "execute_result"
    }
   ],
   "source": [
    "datetime.now()     #获取当前日期时间的datetime对象"
   ]
  },
  {
   "cell_type": "code",
   "execution_count": 20,
   "metadata": {},
   "outputs": [
    {
     "data": {
      "text/plain": [
       "datetime.datetime(2020, 3, 24, 10, 43, 9, 187862)"
      ]
     },
     "execution_count": 20,
     "metadata": {},
     "output_type": "execute_result"
    }
   ],
   "source": [
    "datetime.utcnow()     #获取当前UTC日期时间的datetime对象"
   ]
  },
  {
   "cell_type": "code",
   "execution_count": 21,
   "metadata": {},
   "outputs": [
    {
     "data": {
      "text/plain": [
       "datetime.date(2020, 3, 24)"
      ]
     },
     "execution_count": 21,
     "metadata": {},
     "output_type": "execute_result"
    }
   ],
   "source": [
    "d1 = datetime.today() #     d1为当前日期时间的datetime对象\n",
    "d1.date()       #将d1转换为date对象输出"
   ]
  },
  {
   "cell_type": "code",
   "execution_count": 22,
   "metadata": {},
   "outputs": [
    {
     "data": {
      "text/plain": [
       "datetime.time(18, 43, 9, 683463)"
      ]
     },
     "execution_count": 22,
     "metadata": {},
     "output_type": "execute_result"
    }
   ],
   "source": [
    "d1.time()      #将d1转换为time对象输出"
   ]
  },
  {
   "cell_type": "code",
   "execution_count": 23,
   "metadata": {},
   "outputs": [
    {
     "data": {
      "text/plain": [
       "2"
      ]
     },
     "execution_count": 23,
     "metadata": {},
     "output_type": "execute_result"
    }
   ],
   "source": [
    "d1.isoweekday()       #输出d1的星期值"
   ]
  },
  {
   "cell_type": "code",
   "execution_count": 24,
   "metadata": {},
   "outputs": [
    {
     "data": {
      "text/plain": [
       "(2020, 13, 2)"
      ]
     },
     "execution_count": 24,
     "metadata": {},
     "output_type": "execute_result"
    }
   ],
   "source": [
    "d1.isocalendar()      #输出当前日期的三元日历元组"
   ]
  },
  {
   "cell_type": "code",
   "execution_count": 25,
   "metadata": {},
   "outputs": [
    {
     "data": {
      "text/plain": [
       "'2020-03-24T18:43:09.683463'"
      ]
     },
     "execution_count": 25,
     "metadata": {},
     "output_type": "execute_result"
    }
   ],
   "source": [
    "d1.isoformat()       #输出当前日期时间的默认ISO格式的字符串"
   ]
  },
  {
   "cell_type": "code",
   "execution_count": 26,
   "metadata": {},
   "outputs": [
    {
     "name": "stdout",
     "output_type": "stream",
     "text": [
      "from 2000-01-01 00:00:00 to 2020-03-24 18:43:11.622579 are 7388 days.\n"
     ]
    },
    {
     "data": {
      "text/plain": [
       "638390591.622579"
      ]
     },
     "execution_count": 26,
     "metadata": {},
     "output_type": "execute_result"
    }
   ],
   "source": [
    "from datetime import datetime,timedelta   \n",
    "'''从datetime模块导入datetime类和timedelta类'''\n",
    "d1 = datetime.today()     #d1为当前日期时间\n",
    "d2 = datetime(2000,1,1)   #d2为2000年1月1日日期时间\n",
    "td = d1 - d2               #td为d1,d2差值\n",
    "print('from', d2, 'to', d1 ,'are', td.days, 'days.')        #输出td的天数\n",
    "td.total_seconds()        #输出td总秒数"
   ]
  },
  {
   "cell_type": "markdown",
   "metadata": {},
   "source": [
    "# 8.1.3"
   ]
  },
  {
   "cell_type": "code",
   "execution_count": 27,
   "metadata": {},
   "outputs": [
    {
     "data": {
      "text/plain": [
       "'    January 2020\\nMo Tu We Th Fr Sa Su\\n       1  2  3  4  5\\n 6  7  8  9 10 11 12\\n13 14 15 16 17 18 19\\n20 21 22 23 24 25 26\\n27 28 29 30 31\\n'"
      ]
     },
     "execution_count": 27,
     "metadata": {},
     "output_type": "execute_result"
    }
   ],
   "source": [
    "import calendar       #导入calendar模块\n",
    "TC = calendar.TextCalendar()       #初始化calendar对象\n",
    "TC.formatmonth(2020,1)        #返回2020年1月日历的多行字符串"
   ]
  },
  {
   "cell_type": "code",
   "execution_count": 28,
   "metadata": {},
   "outputs": [
    {
     "data": {
      "text/plain": [
       "'<table border=\"0\" cellpadding=\"0\" cellspacing=\"0\" class=\"month\">\\n<tr><th colspan=\"7\" class=\"month\">January 2020</th></tr>\\n<tr><th class=\"mon\">Mon</th><th class=\"tue\">Tue</th><th class=\"wed\">Wed</th><th class=\"thu\">Thu</th><th class=\"fri\">Fri</th><th class=\"sat\">Sat</th><th class=\"sun\">Sun</th></tr>\\n<tr><td class=\"noday\">&nbsp;</td><td class=\"noday\">&nbsp;</td><td class=\"wed\">1</td><td class=\"thu\">2</td><td class=\"fri\">3</td><td class=\"sat\">4</td><td class=\"sun\">5</td></tr>\\n<tr><td class=\"mon\">6</td><td class=\"tue\">7</td><td class=\"wed\">8</td><td class=\"thu\">9</td><td class=\"fri\">10</td><td class=\"sat\">11</td><td class=\"sun\">12</td></tr>\\n<tr><td class=\"mon\">13</td><td class=\"tue\">14</td><td class=\"wed\">15</td><td class=\"thu\">16</td><td class=\"fri\">17</td><td class=\"sat\">18</td><td class=\"sun\">19</td></tr>\\n<tr><td class=\"mon\">20</td><td class=\"tue\">21</td><td class=\"wed\">22</td><td class=\"thu\">23</td><td class=\"fri\">24</td><td class=\"sat\">25</td><td class=\"sun\">26</td></tr>\\n<tr><td class=\"mon\">27</td><td class=\"tue\">28</td><td class=\"wed\">29</td><td class=\"thu\">30</td><td class=\"fri\">31</td><td class=\"noday\">&nbsp;</td><td class=\"noday\">&nbsp;</td></tr>\\n</table>\\n'"
      ]
     },
     "execution_count": 28,
     "metadata": {},
     "output_type": "execute_result"
    }
   ],
   "source": [
    "import calendar\n",
    "HC = calendar.HTMLCalendar()     #初始化calendar对象\n",
    "HC.formatmonth(2020,1)     #返回2020年1月的HTML日历"
   ]
  },
  {
   "cell_type": "code",
   "execution_count": 29,
   "metadata": {},
   "outputs": [
    {
     "data": {
      "text/plain": [
       "[[0, 0, 1, 2, 3, 4, 5],\n",
       " [6, 7, 8, 9, 10, 11, 12],\n",
       " [13, 14, 15, 16, 17, 18, 19],\n",
       " [20, 21, 22, 23, 24, 25, 26],\n",
       " [27, 28, 29, 30, 31, 0, 0]]"
      ]
     },
     "execution_count": 29,
     "metadata": {},
     "output_type": "execute_result"
    }
   ],
   "source": [
    "import calendar\n",
    "calendar.monthcalendar(2020,1) #输出2020年1月的日历矩阵"
   ]
  },
  {
   "cell_type": "code",
   "execution_count": 30,
   "metadata": {},
   "outputs": [
    {
     "data": {
      "text/plain": [
       "'    January 2020\\nMo Tu We Th Fr Sa Su\\n       1  2  3  4  5\\n 6  7  8  9 10 11 12\\n13 14 15 16 17 18 19\\n20 21 22 23 24 25 26\\n27 28 29 30 31\\n'"
      ]
     },
     "execution_count": 30,
     "metadata": {},
     "output_type": "execute_result"
    }
   ],
   "source": [
    "calendar.month(2020, 1)   #输出2020年1月的日历字符串"
   ]
  },
  {
   "cell_type": "markdown",
   "metadata": {},
   "source": [
    "# 8.2.1"
   ]
  },
  {
   "cell_type": "code",
   "execution_count": 31,
   "metadata": {},
   "outputs": [
    {
     "name": "stdout",
     "output_type": "stream",
     "text": [
      "3.141592653589793\n",
      "2.718281828459045\n",
      "6.283185307179586\n",
      "inf\n",
      "nan\n"
     ]
    }
   ],
   "source": [
    "import math #导入模块\n",
    "print(math.pi) #输出math.pi\n",
    "print(math.e) #输出math.e\n",
    "print(math.tau) #输出math.tau\n",
    "print(math.inf) #输出math.inf\n",
    "print(math.nan) #输出math.nan"
   ]
  },
  {
   "cell_type": "code",
   "execution_count": 32,
   "metadata": {},
   "outputs": [
    {
     "name": "stdout",
     "output_type": "stream",
     "text": [
      "6.212705287750893\n",
      "52\n"
     ]
    }
   ],
   "source": [
    "import math #导入math模块\n",
    "import random #导入random模块，用于生成随机数\n",
    "f = random.uniform(1,10) #f为[1,10]之间的随机浮点数\n",
    "int1 = random.randint(1,100) #int1为[1,100]之间的随机整数\n",
    "print(f) #输出f\n",
    "print(int1) #输出int1"
   ]
  },
  {
   "cell_type": "code",
   "execution_count": 33,
   "metadata": {},
   "outputs": [
    {
     "data": {
      "text/plain": [
       "7"
      ]
     },
     "execution_count": 33,
     "metadata": {},
     "output_type": "execute_result"
    }
   ],
   "source": [
    "math.ceil(f) #求f的向上取整"
   ]
  },
  {
   "cell_type": "code",
   "execution_count": 34,
   "metadata": {},
   "outputs": [
    {
     "data": {
      "text/plain": [
       "6"
      ]
     },
     "execution_count": 34,
     "metadata": {},
     "output_type": "execute_result"
    }
   ],
   "source": [
    "math.floor(f) #求f的向下取整"
   ]
  },
  {
   "cell_type": "code",
   "execution_count": 35,
   "metadata": {},
   "outputs": [
    {
     "data": {
      "text/plain": [
       "-6.212705287750893"
      ]
     },
     "execution_count": 35,
     "metadata": {},
     "output_type": "execute_result"
    }
   ],
   "source": [
    "math.copysign(f, -1)   #求-abs(f)"
   ]
  },
  {
   "cell_type": "code",
   "execution_count": 36,
   "metadata": {},
   "outputs": [
    {
     "data": {
      "text/plain": [
       "1.0"
      ]
     },
     "execution_count": 36,
     "metadata": {},
     "output_type": "execute_result"
    }
   ],
   "source": [
    "math.fabs(-1)   #求-1的绝对值"
   ]
  },
  {
   "cell_type": "code",
   "execution_count": 37,
   "metadata": {},
   "outputs": [
    {
     "data": {
      "text/plain": [
       "3628800"
      ]
     },
     "execution_count": 37,
     "metadata": {},
     "output_type": "execute_result"
    }
   ],
   "source": [
    "math.factorial(10) #求10的阶乘"
   ]
  },
  {
   "cell_type": "code",
   "execution_count": 38,
   "metadata": {},
   "outputs": [
    {
     "name": "stdout",
     "output_type": "stream",
     "text": [
      "10\n"
     ]
    }
   ],
   "source": [
    "int2 = random.randint(1,10) #int2为[1,10]之间的随机整数\n",
    "print(int2) #输出int2"
   ]
  },
  {
   "cell_type": "code",
   "execution_count": 39,
   "metadata": {},
   "outputs": [
    {
     "data": {
      "text/plain": [
       "2.0"
      ]
     },
     "execution_count": 39,
     "metadata": {},
     "output_type": "execute_result"
    }
   ],
   "source": [
    "math.fmod(int1, int2)   #输出int1取余int2的结果"
   ]
  },
  {
   "cell_type": "code",
   "execution_count": 40,
   "metadata": {},
   "outputs": [
    {
     "data": {
      "text/plain": [
       "(0.7765881609688616, 3)"
      ]
     },
     "execution_count": 40,
     "metadata": {},
     "output_type": "execute_result"
    }
   ],
   "source": [
    "math.frexp(f)   #输出(m,e)，使得f==m*(2**e)成立"
   ]
  },
  {
   "cell_type": "code",
   "execution_count": 41,
   "metadata": {},
   "outputs": [
    {
     "data": {
      "text/plain": [
       "49.701642302007144"
      ]
     },
     "execution_count": 41,
     "metadata": {},
     "output_type": "execute_result"
    }
   ],
   "source": [
    "math.ldexp(f, 3)   #输出f*(2**3)的值"
   ]
  },
  {
   "cell_type": "code",
   "execution_count": 42,
   "metadata": {},
   "outputs": [
    {
     "data": {
      "text/plain": [
       "2"
      ]
     },
     "execution_count": 42,
     "metadata": {},
     "output_type": "execute_result"
    }
   ],
   "source": [
    "math.gcd(int1, int2)   #输出int1和int2的最大公约数"
   ]
  },
  {
   "cell_type": "code",
   "execution_count": 43,
   "metadata": {},
   "outputs": [
    {
     "name": "stdout",
     "output_type": "stream",
     "text": [
      "9\n",
      "94\n"
     ]
    }
   ],
   "source": [
    "import math #导入math模块\n",
    "import random #导入random模块\n",
    "int1 = random.randint(1,10) #int1为[1,10]之间的随机整数\n",
    "print(int1) #输出int1\n",
    "int2 = random.randint(1,100) #int2为[1,100]之间的随机整数\n",
    "print(int2) #输出int2"
   ]
  },
  {
   "cell_type": "code",
   "execution_count": 44,
   "metadata": {},
   "outputs": [
    {
     "data": {
      "text/plain": [
       "8103.083927575384"
      ]
     },
     "execution_count": 44,
     "metadata": {},
     "output_type": "execute_result"
    }
   ],
   "source": [
    "math.exp(int1) #求e的int1次幂"
   ]
  },
  {
   "cell_type": "code",
   "execution_count": 45,
   "metadata": {},
   "outputs": [
    {
     "data": {
      "text/plain": [
       "8102.083927575384"
      ]
     },
     "execution_count": 45,
     "metadata": {},
     "output_type": "execute_result"
    }
   ],
   "source": [
    "math.expm1(int1) #求e的int1次幂减1"
   ]
  },
  {
   "cell_type": "code",
   "execution_count": 46,
   "metadata": {},
   "outputs": [
    {
     "data": {
      "text/plain": [
       "4.543294782270004"
      ]
     },
     "execution_count": 46,
     "metadata": {},
     "output_type": "execute_result"
    }
   ],
   "source": [
    "math.log(int2) #求以默认e为底，int2的对数"
   ]
  },
  {
   "cell_type": "code",
   "execution_count": 47,
   "metadata": {},
   "outputs": [
    {
     "data": {
      "text/plain": [
       "4.553876891600541"
      ]
     },
     "execution_count": 47,
     "metadata": {},
     "output_type": "execute_result"
    }
   ],
   "source": [
    "math.log1p(int2) #求以e为底，（1+int2）的对数"
   ]
  },
  {
   "cell_type": "code",
   "execution_count": 48,
   "metadata": {},
   "outputs": [
    {
     "data": {
      "text/plain": [
       "6.554588851677638"
      ]
     },
     "execution_count": 48,
     "metadata": {},
     "output_type": "execute_result"
    }
   ],
   "source": [
    "math.log2(int2) #求以2为底，int2的对数"
   ]
  },
  {
   "cell_type": "code",
   "execution_count": 49,
   "metadata": {},
   "outputs": [
    {
     "data": {
      "text/plain": [
       "1.9731278535996986"
      ]
     },
     "execution_count": 49,
     "metadata": {},
     "output_type": "execute_result"
    }
   ],
   "source": [
    "math.log10(int2) #求以10为底，int2的对数"
   ]
  },
  {
   "cell_type": "code",
   "execution_count": 50,
   "metadata": {},
   "outputs": [
    {
     "data": {
      "text/plain": [
       "8103.08392757538"
      ]
     },
     "execution_count": 50,
     "metadata": {},
     "output_type": "execute_result"
    }
   ],
   "source": [
    "math.pow(math.e, int1)   #求e的int1次幂"
   ]
  },
  {
   "cell_type": "code",
   "execution_count": 51,
   "metadata": {},
   "outputs": [
    {
     "data": {
      "text/plain": [
       "9.695359714832659"
      ]
     },
     "execution_count": 51,
     "metadata": {},
     "output_type": "execute_result"
    }
   ],
   "source": [
    "math.sqrt(int2) #求int2的平方根"
   ]
  },
  {
   "cell_type": "code",
   "execution_count": 52,
   "metadata": {},
   "outputs": [
    {
     "data": {
      "text/plain": [
       "135.0"
      ]
     },
     "execution_count": 52,
     "metadata": {},
     "output_type": "execute_result"
    }
   ],
   "source": [
    "import math #导入math模块\n",
    "math.degrees(0.75*math.pi) #将0.75*π转换为度"
   ]
  },
  {
   "cell_type": "code",
   "execution_count": 53,
   "metadata": {},
   "outputs": [
    {
     "data": {
      "text/plain": [
       "3.0543261909900767"
      ]
     },
     "execution_count": 53,
     "metadata": {},
     "output_type": "execute_result"
    }
   ],
   "source": [
    "math.radians(175) #将175度转换为弧度值"
   ]
  },
  {
   "cell_type": "code",
   "execution_count": 54,
   "metadata": {},
   "outputs": [
    {
     "data": {
      "text/plain": [
       "2.356194490192345"
      ]
     },
     "execution_count": 54,
     "metadata": {},
     "output_type": "execute_result"
    }
   ],
   "source": [
    "import cmath #导入cmath模块\n",
    "cmath.phase(complex(-1.0,1.0))     #求复数(-1.0,1.0)的相位"
   ]
  },
  {
   "cell_type": "code",
   "execution_count": 55,
   "metadata": {},
   "outputs": [
    {
     "data": {
      "text/plain": [
       "(1.4142135623730951, 2.356194490192345)"
      ]
     },
     "execution_count": 55,
     "metadata": {},
     "output_type": "execute_result"
    }
   ],
   "source": [
    "cmath.polar(complex(-1.0,1.0))     #求复数(-1.0,1.0)的极坐标表示形式"
   ]
  },
  {
   "cell_type": "code",
   "execution_count": 56,
   "metadata": {},
   "outputs": [
    {
     "data": {
      "text/plain": [
       "(70.71067811865476+70.71067811865474j)"
      ]
     },
     "execution_count": 56,
     "metadata": {},
     "output_type": "execute_result"
    }
   ],
   "source": [
    "cmath.rect(100, cmath.pi/4)      #求模为100，相位为π/4的复数"
   ]
  },
  {
   "cell_type": "markdown",
   "metadata": {},
   "source": [
    "# 8.2.2"
   ]
  },
  {
   "cell_type": "code",
   "execution_count": 57,
   "metadata": {},
   "outputs": [
    {
     "data": {
      "text/plain": [
       "7"
      ]
     },
     "execution_count": 57,
     "metadata": {},
     "output_type": "execute_result"
    }
   ],
   "source": [
    "from decimal import * #导入decimal模块所有函数\n",
    "Decimal('321e+5').adjusted() #调整指数"
   ]
  },
  {
   "cell_type": "code",
   "execution_count": 58,
   "metadata": {},
   "outputs": [
    {
     "data": {
      "text/plain": [
       "(-157, 50)"
      ]
     },
     "execution_count": 58,
     "metadata": {},
     "output_type": "execute_result"
    }
   ],
   "source": [
    "Decimal('-3.14').as_integer_ratio()   #转换为分数"
   ]
  },
  {
   "cell_type": "code",
   "execution_count": 59,
   "metadata": {},
   "outputs": [
    {
     "data": {
      "text/plain": [
       "DecimalTuple(sign=1, digits=(3, 1, 4), exponent=-2)"
      ]
     },
     "execution_count": 59,
     "metadata": {},
     "output_type": "execute_result"
    }
   ],
   "source": [
    "Decimal('-3.14').as_tuple()   #转换为小数元组"
   ]
  },
  {
   "cell_type": "code",
   "execution_count": 60,
   "metadata": {},
   "outputs": [
    {
     "data": {
      "text/plain": [
       "Decimal('-1')"
      ]
     },
     "execution_count": 60,
     "metadata": {},
     "output_type": "execute_result"
    }
   ],
   "source": [
    "Decimal('-3.14').compare(Decimal('0'))   #将-3.14与0进行比较"
   ]
  },
  {
   "cell_type": "code",
   "execution_count": 61,
   "metadata": {},
   "outputs": [
    {
     "data": {
      "text/plain": [
       "Decimal('0.04328279790196590079772976615')"
      ]
     },
     "execution_count": 61,
     "metadata": {},
     "output_type": "execute_result"
    }
   ],
   "source": [
    "Decimal('-3.14').exp()   #求e**(-3.14)的值"
   ]
  },
  {
   "cell_type": "code",
   "execution_count": 62,
   "metadata": {},
   "outputs": [
    {
     "data": {
      "text/plain": [
       "Decimal('3.140000000000000124344978758017532527446746826171875')"
      ]
     },
     "execution_count": 62,
     "metadata": {},
     "output_type": "execute_result"
    }
   ],
   "source": [
    "Decimal().from_float(3.14) #将浮点数3.14转换为Decimal对象"
   ]
  },
  {
   "cell_type": "code",
   "execution_count": 63,
   "metadata": {},
   "outputs": [
    {
     "data": {
      "text/plain": [
       "'-Normal'"
      ]
     },
     "execution_count": 63,
     "metadata": {},
     "output_type": "execute_result"
    }
   ],
   "source": [
    "Decimal('-3.14').number_class()   #输出-3.14的值类型"
   ]
  },
  {
   "cell_type": "code",
   "execution_count": 64,
   "metadata": {},
   "outputs": [
    {
     "data": {
      "text/plain": [
       "Decimal('1.772004514666935040199112510')"
      ]
     },
     "execution_count": 64,
     "metadata": {},
     "output_type": "execute_result"
    }
   ],
   "source": [
    "Decimal('3.14').sqrt() #求3.14的平方根"
   ]
  },
  {
   "cell_type": "code",
   "execution_count": 65,
   "metadata": {},
   "outputs": [
    {
     "data": {
      "text/plain": [
       "'-314E+3'"
      ]
     },
     "execution_count": 65,
     "metadata": {},
     "output_type": "execute_result"
    }
   ],
   "source": [
    "Decimal('-3.14e+5').to_eng_string()   #将-3.14e+5转换为字符串输出"
   ]
  },
  {
   "cell_type": "code",
   "execution_count": 66,
   "metadata": {},
   "outputs": [
    {
     "data": {
      "text/plain": [
       "Decimal('-3')"
      ]
     },
     "execution_count": 66,
     "metadata": {},
     "output_type": "execute_result"
    }
   ],
   "source": [
    "Decimal('-3.14').to_integral_value()#将-3.14转换为整数，输出新的Decimal对象"
   ]
  },
  {
   "cell_type": "markdown",
   "metadata": {},
   "source": [
    "# 8.2.3"
   ]
  },
  {
   "cell_type": "code",
   "execution_count": 67,
   "metadata": {},
   "outputs": [
    {
     "data": {
      "text/plain": [
       "Fraction(-8, 5)"
      ]
     },
     "execution_count": 67,
     "metadata": {},
     "output_type": "execute_result"
    }
   ],
   "source": [
    "from fractions import Fraction #导入fraction模块中Fraction类的所有函数\n",
    "Fraction(16, -10) #构造分数实例-16/10"
   ]
  },
  {
   "cell_type": "code",
   "execution_count": 68,
   "metadata": {},
   "outputs": [
    {
     "data": {
      "text/plain": [
       "Fraction(123, 1)"
      ]
     },
     "execution_count": 68,
     "metadata": {},
     "output_type": "execute_result"
    }
   ],
   "source": [
    "Fraction(123) #构造分数实例123"
   ]
  },
  {
   "cell_type": "code",
   "execution_count": 69,
   "metadata": {},
   "outputs": [
    {
     "data": {
      "text/plain": [
       "Fraction(0, 1)"
      ]
     },
     "execution_count": 69,
     "metadata": {},
     "output_type": "execute_result"
    }
   ],
   "source": [
    "Fraction() #构造分数实例，使用默认值"
   ]
  },
  {
   "cell_type": "code",
   "execution_count": 70,
   "metadata": {},
   "outputs": [
    {
     "data": {
      "text/plain": [
       "Fraction(3, 7)"
      ]
     },
     "execution_count": 70,
     "metadata": {},
     "output_type": "execute_result"
    }
   ],
   "source": [
    "Fraction('3/7') #构造分数实例3/7"
   ]
  },
  {
   "cell_type": "code",
   "execution_count": 71,
   "metadata": {},
   "outputs": [
    {
     "data": {
      "text/plain": [
       "Fraction(-3, 7)"
      ]
     },
     "execution_count": 71,
     "metadata": {},
     "output_type": "execute_result"
    }
   ],
   "source": [
    "Fraction('-3/7')   #构造分数实例-3/7"
   ]
  },
  {
   "cell_type": "code",
   "execution_count": 72,
   "metadata": {},
   "outputs": [
    {
     "data": {
      "text/plain": [
       "Fraction(707, 500)"
      ]
     },
     "execution_count": 72,
     "metadata": {},
     "output_type": "execute_result"
    }
   ],
   "source": [
    "Fraction('1.414') #构造最接近1.414的分数实例"
   ]
  },
  {
   "cell_type": "code",
   "execution_count": 73,
   "metadata": {},
   "outputs": [
    {
     "data": {
      "text/plain": [
       "Fraction(7, 1000000)"
      ]
     },
     "execution_count": 73,
     "metadata": {},
     "output_type": "execute_result"
    }
   ],
   "source": [
    "Fraction('7e-6')   #构造值为7e-6的分数实例"
   ]
  },
  {
   "cell_type": "code",
   "execution_count": 74,
   "metadata": {},
   "outputs": [
    {
     "data": {
      "text/plain": [
       "Fraction(2476979795053773, 2251799813685248)"
      ]
     },
     "execution_count": 74,
     "metadata": {},
     "output_type": "execute_result"
    }
   ],
   "source": [
    "Fraction(1.1) #构造值为1.1的分数实例"
   ]
  },
  {
   "cell_type": "code",
   "execution_count": 75,
   "metadata": {},
   "outputs": [
    {
     "data": {
      "text/plain": [
       "Fraction(11, 10)"
      ]
     },
     "execution_count": 75,
     "metadata": {},
     "output_type": "execute_result"
    }
   ],
   "source": [
    "from decimal import Decimal #导入decimal模块中Decimal类所有函数\n",
    "Fraction(Decimal('1.1')) #构造值为十进制1.1的分数实例"
   ]
  },
  {
   "cell_type": "code",
   "execution_count": 76,
   "metadata": {},
   "outputs": [
    {
     "data": {
      "text/plain": [
       "Fraction(5134103575202365, 4503599627370496)"
      ]
     },
     "execution_count": 76,
     "metadata": {},
     "output_type": "execute_result"
    }
   ],
   "source": [
    "from fractions import Fraction  #导入fraction模块中Fraction类的所有函数\n",
    "from decimal import Decimal     #导入decimal模块中Decimal类所有函数\n",
    "Fraction().from_float(1.14)     #将1.14转换为分数实例"
   ]
  },
  {
   "cell_type": "code",
   "execution_count": 77,
   "metadata": {},
   "outputs": [
    {
     "data": {
      "text/plain": [
       "Fraction(11, 10)"
      ]
     },
     "execution_count": 77,
     "metadata": {},
     "output_type": "execute_result"
    }
   ],
   "source": [
    "Fraction().from_decimal(Decimal('1.1'))     #将十进制1.1转换为分数实例"
   ]
  },
  {
   "cell_type": "code",
   "execution_count": 78,
   "metadata": {},
   "outputs": [
    {
     "data": {
      "text/plain": [
       "1"
      ]
     },
     "execution_count": 78,
     "metadata": {},
     "output_type": "execute_result"
    }
   ],
   "source": [
    "Fraction('1.5').__floor__()     #求向上取整值"
   ]
  },
  {
   "cell_type": "code",
   "execution_count": 79,
   "metadata": {},
   "outputs": [
    {
     "data": {
      "text/plain": [
       "2"
      ]
     },
     "execution_count": 79,
     "metadata": {},
     "output_type": "execute_result"
    }
   ],
   "source": [
    "Fraction('1.5').__ceil__()     #求向下取整值"
   ]
  },
  {
   "cell_type": "code",
   "execution_count": 80,
   "metadata": {},
   "outputs": [
    {
     "data": {
      "text/plain": [
       "2"
      ]
     },
     "execution_count": 80,
     "metadata": {},
     "output_type": "execute_result"
    }
   ],
   "source": [
    "Fraction('1.5').__round__()     #求舍入为整数的值"
   ]
  },
  {
   "cell_type": "code",
   "execution_count": 81,
   "metadata": {},
   "outputs": [
    {
     "data": {
      "text/plain": [
       "Fraction(3, 2)"
      ]
     },
     "execution_count": 81,
     "metadata": {},
     "output_type": "execute_result"
    }
   ],
   "source": [
    "Fraction('1.5').__round__(1)      #求1.5的满足1/10的倍数的分数值"
   ]
  },
  {
   "cell_type": "code",
   "execution_count": 82,
   "metadata": {},
   "outputs": [
    {
     "data": {
      "text/plain": [
       "Fraction(11, 10)"
      ]
     },
     "execution_count": 82,
     "metadata": {},
     "output_type": "execute_result"
    }
   ],
   "source": [
    "Fraction(1.1).limit_denominator() #求浮点数1.1的近似分数值"
   ]
  },
  {
   "cell_type": "markdown",
   "metadata": {},
   "source": [
    "# 8.2.4"
   ]
  },
  {
   "cell_type": "code",
   "execution_count": 83,
   "metadata": {},
   "outputs": [
    {
     "data": {
      "text/plain": [
       "7"
      ]
     },
     "execution_count": 83,
     "metadata": {},
     "output_type": "execute_result"
    }
   ],
   "source": [
    "import random\n",
    "random.getrandbits(4)     #生成4位的随机整数"
   ]
  },
  {
   "cell_type": "code",
   "execution_count": 84,
   "metadata": {},
   "outputs": [
    {
     "data": {
      "text/plain": [
       "63794"
      ]
     },
     "execution_count": 84,
     "metadata": {},
     "output_type": "execute_result"
    }
   ],
   "source": [
    "random.getrandbits(16)    #生成16位的随机整数"
   ]
  },
  {
   "cell_type": "code",
   "execution_count": 85,
   "metadata": {},
   "outputs": [
    {
     "data": {
      "text/plain": [
       "1"
      ]
     },
     "execution_count": 85,
     "metadata": {},
     "output_type": "execute_result"
    }
   ],
   "source": [
    "from random import *     #导入random模块所有函数\n",
    "randrange(1,10,2)         #返回[1,9]范围内以2为步长的随机整数"
   ]
  },
  {
   "cell_type": "code",
   "execution_count": 86,
   "metadata": {},
   "outputs": [
    {
     "data": {
      "text/plain": [
       "1"
      ]
     },
     "execution_count": 86,
     "metadata": {},
     "output_type": "execute_result"
    }
   ],
   "source": [
    "randint(1, 10)            #返回[1, 9]范围内的随机整数"
   ]
  },
  {
   "cell_type": "code",
   "execution_count": 87,
   "metadata": {},
   "outputs": [
    {
     "data": {
      "text/plain": [
       "7"
      ]
     },
     "execution_count": 87,
     "metadata": {},
     "output_type": "execute_result"
    }
   ],
   "source": [
    "from random import *      #导入random模块所有函数\n",
    "choice(range(1,10))       #返回range(1,10)之间的随机元素"
   ]
  },
  {
   "cell_type": "code",
   "execution_count": 88,
   "metadata": {},
   "outputs": [
    {
     "data": {
      "text/plain": [
       "[3, 1, 2]"
      ]
     },
     "execution_count": 88,
     "metadata": {},
     "output_type": "execute_result"
    }
   ],
   "source": [
    "choices(range(1,10),k=3)      #返回range(1,10)之间3个随机元素的新列表"
   ]
  },
  {
   "cell_type": "code",
   "execution_count": 89,
   "metadata": {},
   "outputs": [
    {
     "data": {
      "text/plain": [
       "[8, 4, 3]"
      ]
     },
     "execution_count": 89,
     "metadata": {},
     "output_type": "execute_result"
    }
   ],
   "source": [
    "sample(range(1,10),3)         #返回range(1,10)之间的无重复抽样3个元素的新列表"
   ]
  },
  {
   "cell_type": "code",
   "execution_count": 90,
   "metadata": {},
   "outputs": [
    {
     "name": "stdout",
     "output_type": "stream",
     "text": [
      "[1, 2, 3, 4, 5]\n"
     ]
    }
   ],
   "source": [
    "seq = [1,2,3,4,5]        #定义一个列表seq\n",
    "print(seq)               #输出seq"
   ]
  },
  {
   "cell_type": "code",
   "execution_count": 91,
   "metadata": {},
   "outputs": [
    {
     "name": "stdout",
     "output_type": "stream",
     "text": [
      "[3, 2, 1, 5, 4]\n"
     ]
    }
   ],
   "source": [
    "shuffle(seq)             #打乱seq\n",
    "print(seq)               #输出打乱后的seq"
   ]
  },
  {
   "cell_type": "code",
   "execution_count": 92,
   "metadata": {},
   "outputs": [
    {
     "data": {
      "text/plain": [
       "0.5328464582381577"
      ]
     },
     "execution_count": 92,
     "metadata": {},
     "output_type": "execute_result"
    }
   ],
   "source": [
    "from random import *      #导入random模块所有函数\n",
    "random()                   #生成[0.0,1.0)内的随机浮点数"
   ]
  },
  {
   "cell_type": "code",
   "execution_count": 93,
   "metadata": {},
   "outputs": [
    {
     "data": {
      "text/plain": [
       "2.9127695152867297"
      ]
     },
     "execution_count": 93,
     "metadata": {},
     "output_type": "execute_result"
    }
   ],
   "source": [
    "uniform(2.0,3.0)          #生成[2.0,3.0]内的随机浮点数"
   ]
  },
  {
   "cell_type": "code",
   "execution_count": 94,
   "metadata": {},
   "outputs": [
    {
     "data": {
      "text/plain": [
       "0.28605464798438374"
      ]
     },
     "execution_count": 94,
     "metadata": {},
     "output_type": "execute_result"
    }
   ],
   "source": [
    "triangular(-1,1)          #生成[-1,1]内的以0为中点的对称分布的随机函数值"
   ]
  },
  {
   "cell_type": "code",
   "execution_count": 95,
   "metadata": {},
   "outputs": [
    {
     "data": {
      "text/plain": [
       "-1.5331989132493637"
      ]
     },
     "execution_count": 95,
     "metadata": {},
     "output_type": "execute_result"
    }
   ],
   "source": [
    "normalvariate(0,1)        #生成以0为均值，1为标准差的正态分布的随机函数值"
   ]
  },
  {
   "cell_type": "markdown",
   "metadata": {},
   "source": [
    "# 8.3.2\n",
    "\n",
    "**注意：**\n",
    "在使用`turtle`模块时，只要不是在IDLE中运行`turtle`代码，在其它图形界面的程序里都需要在最后调用`mainloop()`函数。\n",
    "\n",
    "**建议：**\n",
    "1. 在`IDEL`环境中运行`turtle`代码\n",
    "2. 如果在`Jupyer`中引用`turtle`模块，需要调用`mainloop()`函数，且有时需要运行两次才能正确打开`turtle`窗口"
   ]
  },
  {
   "cell_type": "code",
   "execution_count": 105,
   "metadata": {},
   "outputs": [
    {
     "name": "stdout",
     "output_type": "stream",
     "text": [
      "(0.00,0.00)\n"
     ]
    }
   ],
   "source": [
    "import turtle\n",
    "\n",
    "print(turtle.position())      #获取海龟当前位置\n",
    "turtle.forward(100)    #从当前画笔方向移动100个像素\n",
    "turtle.left(90)        #逆时针移动90°\n",
    "turtle.backward(200)   #在当前画笔方向的反方向移动200个像素\n",
    "turtle.right(90)       #顺时针移动90°\n",
    "turtle.circle(200)     #画一个半径为200的圆，圆心在画笔左边\n",
    "turtle.pendown()        #落下画笔\n",
    "turtle.goto(150,150)    #移动到（150，150）的位置\n",
    "turtle.speed(60)        #速度为60\n",
    "turtle.home()           #海龟回到初始坐标(0.00,0.00)\n",
    "\n",
    "turtle.mainloop()"
   ]
  },
  {
   "cell_type": "code",
   "execution_count": 109,
   "metadata": {},
   "outputs": [
    {
     "name": "stdout",
     "output_type": "stream",
     "text": [
      "(10.00,10.00)\n"
     ]
    }
   ],
   "source": [
    "import turtle\n",
    "turtle.goto(10, 10)      #海龟移至(10, 10)\n",
    "turtle.towards(0, 0)      #计算海龟位置到(0, 0)连线与初始朝向之间的夹角\n",
    "\n",
    "print(turtle.position())\n",
    "\n",
    "turtle.mainloop()"
   ]
  },
  {
   "cell_type": "code",
   "execution_count": 1,
   "metadata": {},
   "outputs": [
    {
     "name": "stdout",
     "output_type": "stream",
     "text": [
      "67.0\n"
     ]
    }
   ],
   "source": [
    "import turtle\n",
    "turtle.home()\n",
    "turtle.left(67)     #海龟左转67度\n",
    "\n",
    "print(turtle.heading())    #获取当前海龟朝向\n",
    "\n",
    "turtle.mainloop()"
   ]
  },
  {
   "cell_type": "code",
   "execution_count": 5,
   "metadata": {},
   "outputs": [
    {
     "name": "stdout",
     "output_type": "stream",
     "text": [
      "50.0\n"
     ]
    }
   ],
   "source": [
    "import turtle\n",
    "print(turtle.distance(30, 40))     #计算海龟到(30, 40)的距离\n",
    "\n",
    "turtle.mainloop()"
   ]
  },
  {
   "cell_type": "code",
   "execution_count": 7,
   "metadata": {},
   "outputs": [
    {
     "name": "stdout",
     "output_type": "stream",
     "text": [
      "90.0\n"
     ]
    }
   ],
   "source": [
    "import turtle\n",
    "turtle.setheading(90)     #设置海龟朝向为90度\n",
    "print(turtle.heading())          #获取当前海龟朝向\n",
    "\n",
    "turtle.mainloop()"
   ]
  },
  {
   "cell_type": "code",
   "execution_count": 15,
   "metadata": {},
   "outputs": [
    {
     "name": "stdout",
     "output_type": "stream",
     "text": [
      "0.0\n"
     ]
    }
   ],
   "source": [
    "import turtle\n",
    "turtle.degrees(400)     #设置一个圆周为400度\n",
    "print(turtle.heading())\n",
    "\n",
    "turtle.mainloop()"
   ]
  },
  {
   "cell_type": "code",
   "execution_count": 13,
   "metadata": {},
   "outputs": [
    {
     "name": "stdout",
     "output_type": "stream",
     "text": [
      "0.0\n"
     ]
    }
   ],
   "source": [
    "import turtle\n",
    "turtle.radians()      #将角度度量单位设置为弧度\n",
    "print(turtle.heading())\n",
    "\n",
    "turtle.mainloop()"
   ]
  },
  {
   "cell_type": "code",
   "execution_count": 19,
   "metadata": {},
   "outputs": [
    {
     "name": "stdout",
     "output_type": "stream",
     "text": [
      "False\n"
     ]
    }
   ],
   "source": [
    "import turtle\n",
    "turtle.hideturtle()     #隐藏海龟\n",
    "print(turtle.isvisible())      #获取海龟是否可见状态\n",
    "\n",
    "turtle.mainloop()"
   ]
  },
  {
   "cell_type": "code",
   "execution_count": 21,
   "metadata": {},
   "outputs": [
    {
     "name": "stdout",
     "output_type": "stream",
     "text": [
      "True\n"
     ]
    }
   ],
   "source": [
    "import turtle\n",
    "turtle.showturtle()     #显示海龟\n",
    "print(turtle.isvisible())      #获取海龟是否可见状态\n",
    "\n",
    "turtle.mainloop()"
   ]
  },
  {
   "cell_type": "code",
   "execution_count": 23,
   "metadata": {},
   "outputs": [
    {
     "name": "stdout",
     "output_type": "stream",
     "text": [
      "classic\n"
     ]
    }
   ],
   "source": [
    "import turtle\n",
    "print(turtle.shape())     #获取当前海龟形状\n",
    "\n",
    "turtle.mainloop()"
   ]
  },
  {
   "cell_type": "code",
   "execution_count": 25,
   "metadata": {},
   "outputs": [
    {
     "name": "stdout",
     "output_type": "stream",
     "text": [
      "turtle\n"
     ]
    }
   ],
   "source": [
    "import turtle\n",
    "turtle.shape(\"turtle\")    #将海龟形状设置为\"turtle\"\n",
    "print(turtle.shape())\n",
    "\n",
    "turtle.mainloop()"
   ]
  },
  {
   "cell_type": "code",
   "execution_count": 29,
   "metadata": {},
   "outputs": [
    {
     "name": "stdout",
     "output_type": "stream",
     "text": [
      "False\n"
     ]
    }
   ],
   "source": [
    "import turtle\n",
    "turtle.penup()     #抬起画笔\n",
    "print(turtle.isdown())\n",
    "\n",
    "turtle.mainloop()"
   ]
  },
  {
   "cell_type": "code",
   "execution_count": 31,
   "metadata": {},
   "outputs": [
    {
     "name": "stdout",
     "output_type": "stream",
     "text": [
      "True\n"
     ]
    }
   ],
   "source": [
    "import turtle\n",
    "turtle.pendown()     #落下画笔\n",
    "print(turtle.isdown())\n",
    "\n",
    "turtle.mainloop()"
   ]
  },
  {
   "cell_type": "code",
   "execution_count": 37,
   "metadata": {},
   "outputs": [
    {
     "name": "stdout",
     "output_type": "stream",
     "text": [
      "10\n"
     ]
    }
   ],
   "source": [
    "import turtle\n",
    "turtle.pensize(10)     #将画笔粗细设为10\n",
    "turtle.forward(100)\n",
    "print(turtle.pensize())       #获取当前画笔粗细值\n",
    "\n",
    "turtle.mainloop()"
   ]
  },
  {
   "cell_type": "code",
   "execution_count": 39,
   "metadata": {},
   "outputs": [
    {
     "name": "stdout",
     "output_type": "stream",
     "text": [
      "(0.2, 0.8, 0.5490196078431373)\n"
     ]
    }
   ],
   "source": [
    "import turtle\n",
    "tup = (0.2, 0.8, 0.55)\n",
    "turtle.pencolor(tup)     #将画笔颜色设置为tup元组值\n",
    "turtle.forward(100)\n",
    "print(turtle.pencolor())\n",
    "\n",
    "turtle.mainloop()"
   ]
  },
  {
   "cell_type": "code",
   "execution_count": 41,
   "metadata": {},
   "outputs": [
    {
     "name": "stdout",
     "output_type": "stream",
     "text": [
      "(1.0, 1.0, 1.0)\n"
     ]
    }
   ],
   "source": [
    "import turtle\n",
    "turtle.fillcolor(\"#ffffff\")     #将填充颜色设置为#ffffff\n",
    "turtle.forward(100)\n",
    "print(turtle.fillcolor())\n",
    "\n",
    "turtle.mainloop()"
   ]
  },
  {
   "cell_type": "code",
   "execution_count": 43,
   "metadata": {},
   "outputs": [
    {
     "name": "stdout",
     "output_type": "stream",
     "text": [
      "('red', 'green')\n"
     ]
    }
   ],
   "source": [
    "import turtle\n",
    "turtle.color(\"red\",\"green\")     #将画笔颜色和填充颜色分别设置为红色和绿色\n",
    "turtle.forward(100)\n",
    "print(turtle.color())\n",
    "\n",
    "turtle.mainloop()"
   ]
  },
  {
   "cell_type": "code",
   "execution_count": 45,
   "metadata": {},
   "outputs": [],
   "source": [
    "import turtle\n",
    "turtle.color(\"blue\", \"red\")     #将画笔颜色和填充颜色分别设为蓝色和红色\n",
    "turtle.begin_fill()\n",
    "turtle.circle(150)     #绘制一个半径为150的整圆\n",
    "turtle.end_fill()      #进行填充\n",
    "\n",
    "turtle.mainloop()"
   ]
  },
  {
   "cell_type": "code",
   "execution_count": 51,
   "metadata": {},
   "outputs": [
    {
     "name": "stdout",
     "output_type": "stream",
     "text": [
      "(0.00,-22.00)\n",
      "(0.00,0.00)\n",
      "0.0\n"
     ]
    }
   ],
   "source": [
    "import turtle\n",
    "turtle.goto(0,-22)     #将海龟移至坐标点(0,-22)\n",
    "turtle.left(200)       #海龟左转100度\n",
    "print(turtle.position())      #获取当前海龟位置\n",
    "turtle.heading()       #获取当前海龟朝向\n",
    "turtle.reset()         #重置海龟位置和状态\n",
    "print(turtle.position())\n",
    "print(turtle.heading())\n",
    "\n",
    "turtle.mainloop()"
   ]
  },
  {
   "cell_type": "markdown",
   "metadata": {},
   "source": [
    "# 8.3.3"
   ]
  },
  {
   "cell_type": "code",
   "execution_count": 1,
   "metadata": {},
   "outputs": [
    {
     "name": "stdout",
     "output_type": "stream",
     "text": [
      "orange\n"
     ]
    }
   ],
   "source": [
    "from turtle import Screen\n",
    "screen = Screen()\n",
    "screen.bgcolor(\"orange\")      #将画布背景设为橘色\n",
    "print(screen.bgcolor())\n",
    "\n",
    "screen.mainloop()"
   ]
  },
  {
   "cell_type": "code",
   "execution_count": 2,
   "metadata": {},
   "outputs": [
    {
     "name": "stdout",
     "output_type": "stream",
     "text": [
      "(0.5019607843137255, 0.0, 0.5019607843137255)\n"
     ]
    }
   ],
   "source": [
    "from turtle import Screen\n",
    "screen = Screen()\n",
    "screen.bgcolor(\"#800080\")     #将画笔背景颜色设为”#800080”\n",
    "print(screen.bgcolor())\n",
    "\n",
    "screen.mainloop()"
   ]
  },
  {
   "cell_type": "code",
   "execution_count": 3,
   "metadata": {},
   "outputs": [
    {
     "name": "stdout",
     "output_type": "stream",
     "text": [
      "nopic\n"
     ]
    }
   ],
   "source": [
    "from turtle import Screen\n",
    "screen = Screen()\n",
    "print(screen.bgpic())     #获取当前画布背景图片名称\n",
    "\n",
    "screen.mainloop()"
   ]
  },
  {
   "cell_type": "code",
   "execution_count": 5,
   "metadata": {},
   "outputs": [
    {
     "name": "stdout",
     "output_type": "stream",
     "text": [
      "landscape.gif\n"
     ]
    }
   ],
   "source": [
    "from turtle import Screen\n",
    "screen = Screen()\n",
    "screen.setup(width=330, height=550, startx=600, starty=200)\n",
    "'''将窗口设为200x200，位于屏幕左上角'''\n",
    "screen.bgpic(\"landscape.gif\")     #将画布背景图片设为landscape.gif文件\n",
    "print(screen.bgpic())\n",
    "\n",
    "screen.mainloop()"
   ]
  },
  {
   "cell_type": "markdown",
   "metadata": {},
   "source": [
    "**注意：**\n",
    "Screen只能装入GIF图片，也就是扩展名是.gif的图片文件，想要显示其他类型的图片，如png或jpg, 需要用到其它模块 "
   ]
  },
  {
   "cell_type": "code",
   "execution_count": 3,
   "metadata": {},
   "outputs": [
    {
     "name": "stdout",
     "output_type": "stream",
     "text": [
      "(2000, 1500)\n"
     ]
    }
   ],
   "source": [
    "from turtle import Screen\n",
    "screen = Screen()\n",
    "screen.screensize(2000,1500)     #将画布宽度和高度分别设为2000像素和1500像素\n",
    "print(screen.screensize())\n",
    "\n",
    "screen.mainloop()"
   ]
  },
  {
   "cell_type": "code",
   "execution_count": 4,
   "metadata": {},
   "outputs": [],
   "source": [
    "from turtle import Screen\n",
    "screen = Screen()\n",
    "screen.resetscreen()     #将画布上所有海龟重置为初始位置和状态\n",
    "screen.setworldcoordinates(-50,-7.5,50,7.5)      #设置自定义坐标系\n",
    "\n",
    "screen.mainloop()"
   ]
  },
  {
   "cell_type": "code",
   "execution_count": 7,
   "metadata": {},
   "outputs": [],
   "source": [
    "from turtle import Screen\n",
    "screen = Screen()\n",
    "screen.setup(width=200, height=200, startx=0, starty=0)\n",
    "'''将窗口设为200x200，位于屏幕左上角'''\n",
    "screen.setup(width=.75, height=0.5, startx=None, starty=None)\n",
    "'''将窗口设为屏幕75%宽，50%高，并居中'''\n",
    "screen.title(\"Welcome to the turtle zoo!\") #设置窗口标题\n",
    "\n",
    "screen.mainloop()"
   ]
  },
  {
   "cell_type": "markdown",
   "metadata": {},
   "source": [
    "# 8.4 上机实践"
   ]
  },
  {
   "cell_type": "markdown",
   "metadata": {},
   "source": [
    "1. 请使用 datetime 模块求取用户年龄(用户生日由用户输入)并判断用户属于青年人、中年人还是老年人。\n",
    "\n",
    "注: 根据 2017 年联合国世界卫生组织发布的年龄分段，44 岁及以下为青年人，45 岁到 59 岁为中年人，60 岁到 74 岁为年轻老年人，75 岁到 89 岁为老年人，90 岁及以上为长寿老 年人。"
   ]
  },
  {
   "cell_type": "code",
   "execution_count": 1,
   "metadata": {},
   "outputs": [
    {
     "name": "stdout",
     "output_type": "stream",
     "text": [
      "请输入出生日期（格式为xxxx年xx月xx日）：1983年03月26日\n",
      "年龄：37\n",
      "青年人\n"
     ]
    }
   ],
   "source": [
    "#encoding:utf-8\n",
    "from datetime import datetime   #从datetime模块中导入datetime类\n",
    "birthday = input(\"请输入出生日期（格式为xxxx年xx月xx日）：\")   #获取用户生日字符串\n",
    "birthday = datetime.strptime(birthday,\"%Y年%m月%d日\")   #将字符串转换为datetime对象\n",
    "today = datetime.today()   #获取当时的datetime对象\n",
    "'''计算用户的年龄'''\n",
    "t = today.replace(year=birthday.year)   #t为替换年份的datetime对象，用于运算\n",
    "if t > birthday:\n",
    "    flag = 0\n",
    "else:\n",
    "    flag = 1\n",
    "age = today.year-birthday.year-flag\n",
    "print(\"年龄：{:}\".format(age))\n",
    "'''计算用户的年龄分段'''\n",
    "if age < 45:\n",
    "    print(\"青年人\")\n",
    "elif age < 60:\n",
    "    print(\"中年人\")\n",
    "elif age < 75:\n",
    "    print(\"年轻老年人\")\n",
    "elif age < 90:\n",
    "    print(\"老年人\")\n",
    "else:\n",
    "    print(\"长寿老年人\")"
   ]
  },
  {
   "cell_type": "markdown",
   "metadata": {},
   "source": [
    "2. 时间模块提供三种时间表示方式，分别是时间戳 timestamp、格式化时间字符串 format string 以及时间元组 struct_time。其中，时间戳和格式化时间字符串可通过特定函数与时间元组之间进行相互转换。\n",
    "请获取系统当前时间戳并转换为时间元组和格式化时间字符串输出，\n",
    "时间字符串格式要求为:xxxx 年 xx 月 xx 日 xx:xx:xx。"
   ]
  },
  {
   "cell_type": "code",
   "execution_count": 11,
   "metadata": {},
   "outputs": [
    {
     "name": "stdout",
     "output_type": "stream",
     "text": [
      "当前时间戳：1585054240.5704582\n",
      "时间元组：time.struct_time(tm_year=2020, tm_mon=3, tm_mday=24, tm_hour=20, tm_min=50, tm_sec=40, tm_wday=1, tm_yday=84, tm_isdst=0)\n",
      "格式化时间字符串：2020年03月24日 20:50:40\n"
     ]
    }
   ],
   "source": [
    "#该段代码推荐在Python的IDLE中运行\n",
    "import time\n",
    "timestamp = time.time()   #获取当前时间戳\n",
    "struct_time = time.localtime(timestamp)   #将时间戳转换为当地时间的时间元组\n",
    "format_string = time.strftime(\"%Y年%m月%d日 %H:%M:%S\",struct_time)   #格式化字符串\n",
    "print(\"当前时间戳：{:}\\n\".format(timestamp)+\"时间元组：{:}\\n\".format(struct_time)+\"格式化时间字符串：\"+format_string)"
   ]
  },
  {
   "cell_type": "markdown",
   "metadata": {},
   "source": [
    "3. 已知蒙特卡洛方法使用随机数(或更常见的伪随机数)来解决计算问题，可以通过撒点 后点的分布得出面积比，进而求出圆周率的近似值。请使用蒙特卡洛方法计算圆周率的近似值，并输出程序执行时间。"
   ]
  },
  {
   "cell_type": "code",
   "execution_count": 12,
   "metadata": {},
   "outputs": [
    {
     "name": "stdout",
     "output_type": "stream",
     "text": [
      "3.139972\n",
      "0.67s\n"
     ]
    }
   ],
   "source": [
    "import random,math,time\n",
    "start_time = time.perf_counter()   #记录程序开始运行时间\n",
    "s = 1000*1000   #设置循环次数（即撒点数量）\n",
    "hits = 0   #初始化落入圆中的点的数量\n",
    "for i in range(s):\n",
    "    x = random.random()\n",
    "    y = random.random()\n",
    "    z = math.sqrt(x**2+y**2)   #z为点到原点的距离\n",
    "    if z <= 1:   #若z落入圆内hits+1\n",
    "        hits += 1\n",
    "PI = 4*(hits/s)   #求圆周率的近似值\n",
    "print(PI)\n",
    "end_time = time.perf_counter()   #记录程序结束时间\n",
    "print(\"{:.2f}s\".format(end_time-start_time))"
   ]
  },
  {
   "cell_type": "markdown",
   "metadata": {},
   "source": [
    "4. 请编写程序实现当前日期的七段晶体管绘制。"
   ]
  },
  {
   "cell_type": "code",
   "execution_count": 14,
   "metadata": {},
   "outputs": [],
   "source": [
    "#该段代码推荐在Python的IDLE中运行\n",
    "import turtle,time\n",
    "'''定义函数drawGap用于前进线条之间的分隔5个像素'''\n",
    "def drawGap():   \n",
    "    turtle.penup()\n",
    "    turtle.fd(5)\n",
    "'''定义函数drawLine用于绘制一段线条'''\n",
    "def drawLine(draw):  \n",
    "    drawGap()\n",
    "    turtle.pendown() if draw else turtle.penup()\n",
    "    turtle.fd(40)\n",
    "    drawGap()\n",
    "    turtle.right(90)\n",
    "'''定义函数drawDigit用于绘制数字'''\n",
    "def drawDigit(dight):   \n",
    "    drawLine(True) if dight in [2,3,4,5,6,8,9] else drawLine(False)\n",
    "    drawLine(True) if dight in [0,1,3,4,5,6,7,8,9] else drawLine(False)\n",
    "    drawLine(True) if dight in [0,2,3,5,6,8,9] else drawLine(False)\n",
    "    drawLine(True) if dight in [0,2,6,8] else drawLine(False)\n",
    "    turtle.left(90)\n",
    "    drawLine(True) if dight in [0,4,5,6,8,9] else drawLine(False)\n",
    "    drawLine(True) if dight in [0,2,3,5,6,7,8,9] else drawLine(False)\n",
    "    drawLine(True) if dight in [0,1,2,3,4,7,8,9] else drawLine(False)\n",
    "    turtle.left(180)\n",
    "    turtle.penup()\n",
    "    turtle.fd(20)   #前进数字之间的分隔20像素\n",
    "'''定义函数drawDate用于设置画笔颜色和绘制汉字'''\n",
    "def drawDate(date):   \n",
    "    turtle.pencolor(\"red\")\n",
    "    for i in date:\n",
    "        if i == '-':\n",
    "            turtle.write(\"年\",font=(\"Arial\",28,\"normal\"))\n",
    "            turtle.pencolor(\"green\")\n",
    "            turtle.fd(40)\n",
    "        elif i == '=':\n",
    "            turtle.write(\"月\",font=(\"Arial\",28,\"normal\"))\n",
    "            turtle.pencolor(\"blue\")\n",
    "            turtle.fd(40)\n",
    "        elif i =='+':\n",
    "            turtle.write(\"日\",font=(\"Arial\",28,\"normal\"))\n",
    "        else:\n",
    "            drawDigit(eval(i))\n",
    "'''定义主函数'''\n",
    "def main():\n",
    "    turtle.setup(800,350,200,200)   #定义绘图窗口大小\n",
    "    turtle.penup()\n",
    "    turtle.fd(-350)\n",
    "    turtle.pensize(10)   #定义画笔粗细\n",
    "    drawDate(time.strftime(\"%Y-%m=%d+\",time.gmtime()))   \n",
    "    '''将当前日期的格式化字符串作为参数传递给drawDate函数'''\n",
    "    turtle.hideturtle()   #绘制结束后隐藏海龟\n",
    "    turtle.done()   #绘制结束后保留绘图窗口\n",
    "\n",
    "main()"
   ]
  },
  {
   "cell_type": "markdown",
   "metadata": {},
   "source": [
    "## 上机作业"
   ]
  },
  {
   "cell_type": "markdown",
   "metadata": {},
   "source": [
    "1. 获取当前日期时间，并输出当月的日历。"
   ]
  },
  {
   "cell_type": "code",
   "execution_count": null,
   "metadata": {},
   "outputs": [],
   "source": []
  },
  {
   "cell_type": "markdown",
   "metadata": {},
   "source": [
    "2. 将浮点数 $3.14$ 和 `decimal` 对象 `Decimal(3.14)`转换为 `Fraction` 实例，并求该实例的向上取 整值和向下取整值、舍入值以及近似估计值。"
   ]
  },
  {
   "cell_type": "code",
   "execution_count": null,
   "metadata": {},
   "outputs": [],
   "source": []
  },
  {
   "cell_type": "markdown",
   "metadata": {},
   "source": [
    "3. 使用 turtle 模块绘制一个红色五角星。"
   ]
  },
  {
   "cell_type": "code",
   "execution_count": null,
   "metadata": {},
   "outputs": [],
   "source": []
  },
  {
   "cell_type": "markdown",
   "metadata": {},
   "source": [
    "4. **（自选题）** 随机生成1000个符合正太分布的浮点数（均值为5，标准差为1），并从这些生成的数字中随机再随机选择100个，对这100个数字进行四舍五入，再统计操作后各个数字出现的次数。使用*数目表示不同数字的出现次数，并按数字从小到大打印出来，统计程序运行时间，观察图形分布。"
   ]
  },
  {
   "cell_type": "code",
   "execution_count": null,
   "metadata": {},
   "outputs": [],
   "source": []
  }
 ],
 "metadata": {
  "kernelspec": {
   "display_name": "Python 3",
   "language": "python",
   "name": "python3"
  },
  "language_info": {
   "codemirror_mode": {
    "name": "ipython",
    "version": 3
   },
   "file_extension": ".py",
   "mimetype": "text/x-python",
   "name": "python",
   "nbconvert_exporter": "python",
   "pygments_lexer": "ipython3",
   "version": "3.7.5"
  }
 },
 "nbformat": 4,
 "nbformat_minor": 2
}
