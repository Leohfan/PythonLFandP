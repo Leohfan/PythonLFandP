{
 "cells": [
  {
   "cell_type": "markdown",
   "metadata": {},
   "source": [
    "7.1"
   ]
  },
  {
   "cell_type": "code",
   "execution_count": 2,
   "metadata": {},
   "outputs": [],
   "source": [
    "class MyFirstClass: \n",
    "    '''This is my first class.'''     #类的说明文字，__doc__属性的值\n",
    "    i = 12345\n",
    "    def fuc():\n",
    "       print('hello world!')"
   ]
  },
  {
   "cell_type": "code",
   "execution_count": 25,
   "metadata": {},
   "outputs": [
    {
     "name": "stdout",
     "output_type": "stream",
     "text": [
      "This is my first class.\n"
     ]
    }
   ],
   "source": [
    "myClass = MyFirstClass() \t\t#使用\"()\"创建了FirstClass的实例对象\n",
    "print(myClass.__doc__) \t\t#显示属性值"
   ]
  },
  {
   "cell_type": "code",
   "execution_count": 1,
   "metadata": {},
   "outputs": [
    {
     "ename": "TypeError",
     "evalue": "volume() missing 1 required positional argument: 'z'",
     "output_type": "error",
     "traceback": [
      "\u001b[1;31m---------------------------------------------------------------------------\u001b[0m",
      "\u001b[1;31mTypeError\u001b[0m                                 Traceback (most recent call last)",
      "\u001b[1;32m<ipython-input-1-c195dc8fe5a9>\u001b[0m in \u001b[0;36m<module>\u001b[1;34m\u001b[0m\n\u001b[0;32m      3\u001b[0m         \u001b[1;32mreturn\u001b[0m \u001b[0mx\u001b[0m \u001b[1;33m*\u001b[0m \u001b[0my\u001b[0m \u001b[1;33m*\u001b[0m \u001b[0mz\u001b[0m\u001b[1;33m\u001b[0m\u001b[1;33m\u001b[0m\u001b[0m\n\u001b[0;32m      4\u001b[0m \u001b[0mclassRoom\u001b[0m \u001b[1;33m=\u001b[0m \u001b[0mRoom\u001b[0m\u001b[1;33m(\u001b[0m\u001b[1;33m)\u001b[0m\u001b[1;33m;\u001b[0m\u001b[1;33m\u001b[0m\u001b[1;33m\u001b[0m\u001b[0m\n\u001b[1;32m----> 5\u001b[1;33m \u001b[0mprint\u001b[0m\u001b[1;33m(\u001b[0m\u001b[1;34m'The room volume is'\u001b[0m\u001b[1;33m,\u001b[0m \u001b[0mRoom\u001b[0m\u001b[1;33m.\u001b[0m\u001b[0mvolume\u001b[0m\u001b[1;33m(\u001b[0m\u001b[1;36m2\u001b[0m\u001b[1;33m,\u001b[0m\u001b[1;36m3\u001b[0m\u001b[1;33m,\u001b[0m\u001b[1;36m4\u001b[0m\u001b[1;33m)\u001b[0m\u001b[1;33m)\u001b[0m    \u001b[1;31m#Error statement\u001b[0m\u001b[1;33m\u001b[0m\u001b[1;33m\u001b[0m\u001b[0m\n\u001b[0m",
      "\u001b[1;31mTypeError\u001b[0m: volume() missing 1 required positional argument: 'z'"
     ]
    }
   ],
   "source": [
    "class Room:\n",
    "    def volume(self, x, y, z):\n",
    "        return x * y * z\n",
    "classRoom = Room();\n",
    "print('The room volume is', Room.volume(2,3,4))    #Error statement"
   ]
  },
  {
   "cell_type": "code",
   "execution_count": 2,
   "metadata": {},
   "outputs": [
    {
     "name": "stdout",
     "output_type": "stream",
     "text": [
      "The room volume is 24\n"
     ]
    }
   ],
   "source": [
    "print('The room volume is', classRoom.volume(2, 3, 4))"
   ]
  },
  {
   "cell_type": "code",
   "execution_count": 4,
   "metadata": {},
   "outputs": [
    {
     "data": {
      "text/plain": [
       "24"
      ]
     },
     "execution_count": 4,
     "metadata": {},
     "output_type": "execute_result"
    }
   ],
   "source": [
    "Room.volume(42,2,3,4)"
   ]
  },
  {
   "cell_type": "code",
   "execution_count": 19,
   "metadata": {},
   "outputs": [
    {
     "name": "stdout",
     "output_type": "stream",
     "text": [
      "class_fun called bymyRoom\n"
     ]
    }
   ],
   "source": [
    "class Room:\n",
    "    @classmethod \t\t#装饰器，声明该方法是类方法\n",
    "    def class_fun(cls, str):\n",
    "        print('class_fun called by'+ str)\n",
    "myRoom = Room()\n",
    "myRoom.class_fun('myRoom') #打印 \"class_fun called by myRoom\""
   ]
  },
  {
   "cell_type": "code",
   "execution_count": 21,
   "metadata": {},
   "outputs": [
    {
     "name": "stdout",
     "output_type": "stream",
     "text": [
      "class_fun called byRoom\n"
     ]
    }
   ],
   "source": [
    "Room.class_fun('Room')     #打印 \"class_fun called by Room\""
   ]
  },
  {
   "cell_type": "code",
   "execution_count": 23,
   "metadata": {},
   "outputs": [
    {
     "name": "stdout",
     "output_type": "stream",
     "text": [
      "static_fun called by myRoom\n"
     ]
    }
   ],
   "source": [
    "class Room:\n",
    "    @staticmethod             #装饰器，声明该方法是静态方法\n",
    "    def static_fun(str):\n",
    "        print(\"static_fun called by \" + str)\n",
    "myRoom = Room()\n",
    "myRoom.static_fun(\"myRoom\")  #打印 \"static_fun called by myRoom\""
   ]
  },
  {
   "cell_type": "code",
   "execution_count": 24,
   "metadata": {},
   "outputs": [
    {
     "name": "stdout",
     "output_type": "stream",
     "text": [
      "static_fun called by Room\n"
     ]
    }
   ],
   "source": [
    "Room.static_fun(\"Room\")      #打印static_fun called by Room\""
   ]
  },
  {
   "cell_type": "code",
   "execution_count": 25,
   "metadata": {},
   "outputs": [
    {
     "name": "stdout",
     "output_type": "stream",
     "text": [
      "bedRoom it's volume is :24\n"
     ]
    }
   ],
   "source": [
    "# 定义一个类Room\n",
    "class Room:\n",
    "    def __init__(self,name, x, y ,z): \n",
    "        self.name = name\n",
    "        self.x = x;\n",
    "        self.y = y;\n",
    "        self.z = z;\n",
    "    def volume(self):\n",
    "        return self.x * self.y * self.z\n",
    "    def show(self):\n",
    "        print(self.name + \" it's volume is :\" + str(self.volume()))\n",
    "# 类的使用\n",
    "bedRoom = Room(\"bedRoom\", 2, 3, 4);\n",
    "bathRoom = Room(\"bathRoom\",1, 2, 3);\n",
    "bedRoom.show()  #打印\"This s a bedRoom it's volume is :24\""
   ]
  },
  {
   "cell_type": "code",
   "execution_count": 26,
   "metadata": {},
   "outputs": [
    {
     "name": "stdout",
     "output_type": "stream",
     "text": [
      "bathRoom it's volume is :6\n"
     ]
    }
   ],
   "source": [
    "bathRoom.show() #打印\"This s a bathRoom it's volume is :6\""
   ]
  },
  {
   "cell_type": "code",
   "execution_count": 27,
   "metadata": {},
   "outputs": [
    {
     "name": "stdout",
     "output_type": "stream",
     "text": [
      "bedRoom has been build\n"
     ]
    }
   ],
   "source": [
    "#定义一个类Room\n",
    "class Room:\n",
    "    def __init__(self,name):\n",
    "        self.name = name\n",
    "        print(name + \" has been build\")\n",
    "    def __del__(self):\n",
    "        print(self.name + \" has been destroyed\")\n",
    "bedRoom = Room(\"bedRoom\"); #打印\"bedRoom has been build\""
   ]
  },
  {
   "cell_type": "code",
   "execution_count": 28,
   "metadata": {},
   "outputs": [
    {
     "name": "stdout",
     "output_type": "stream",
     "text": [
      "bedRoom has been destroyed\n",
      "-------------\n"
     ]
    }
   ],
   "source": [
    "del bedRoom                 #打印\"bedRoom has been destroyed\"\n",
    "print(\"-------------\")"
   ]
  },
  {
   "cell_type": "code",
   "execution_count": 29,
   "metadata": {},
   "outputs": [
    {
     "name": "stdout",
     "output_type": "stream",
     "text": [
      "bedRoomhas been build\n",
      "nothing happend\n",
      "bedRoom has been destroyed\n",
      "-------------\n"
     ]
    }
   ],
   "source": [
    "class Room:\n",
    "    def __init__(self,name):\n",
    "        self.name = name\n",
    "        print(name + \"has been build\")\n",
    "    def __del__(self):\n",
    "        print(self.name + \" has been destroyed\")\n",
    "bedRoom = Room(\"bedRoom\"); #打印\"bedRoom has been build\"\n",
    "bedRoom2 = bedRoom\n",
    "del bedRoom #并没有执行析构方法\n",
    "print(\"nothing happend\")\n",
    "del bedRoom2\n",
    "print(\"-------------\")"
   ]
  },
  {
   "cell_type": "code",
   "execution_count": 30,
   "metadata": {},
   "outputs": [
    {
     "name": "stdout",
     "output_type": "stream",
     "text": [
      "color is white\n",
      "price is 100\n"
     ]
    }
   ],
   "source": [
    "class Room:\n",
    "    def __init__(self,color,price):\n",
    "        self.color = color\n",
    "        self.price = price\n",
    "    def __price(self):\n",
    "        print(\"price is \" +  str(self.price))\n",
    "    def __color(self):\n",
    "        print(\"color is \" + self.color)\n",
    "    def show(self):\n",
    "        self.__color()\n",
    "        self.__price()\n",
    "bedRoom = Room(\"white\", 100)\n",
    "#bedRoom.__price()     # 报错，提示no attribute '__price'\n",
    "bedRoom.show()"
   ]
  },
  {
   "cell_type": "code",
   "execution_count": 31,
   "metadata": {},
   "outputs": [
    {
     "name": "stdout",
     "output_type": "stream",
     "text": [
      "price is 100\n",
      "color is white\n",
      "price is 100\n"
     ]
    }
   ],
   "source": [
    "class Room:\n",
    "    def __init__(self,color,price):\n",
    "        self.color = color\n",
    "        self.price = price\n",
    "    def __price(self):\n",
    "        print(\"price is \" +  str(self.price))\n",
    "    def __color(self):\n",
    "        print(\"color is \" + self.color)\n",
    "    def show(self):\n",
    "        self.__color()\n",
    "        self.__price()\n",
    "bedRoom = Room(\"white\", 100)\n",
    "#bedRoom.__price() 报错，提示no attribute '__price'\n",
    "bedRoom._Room__price() #正常输出\n",
    "bedRoom.show()"
   ]
  },
  {
   "cell_type": "code",
   "execution_count": 32,
   "metadata": {},
   "outputs": [
    {
     "name": "stdout",
     "output_type": "stream",
     "text": [
      "bedRoom's color is red\n",
      "bathRoom's color is white\n"
     ]
    }
   ],
   "source": [
    "class Room:\n",
    "    def __init__(self,color,price):\n",
    "        self.color = color\n",
    "        self.price = price\n",
    "    def show(self):\n",
    "        print(\"price is \" + str(self.price))\n",
    "        print(\"color is \" + self.color)\n",
    "    def setColor(self, newColor):\n",
    "        self.color = newColor\n",
    "    def setPrice(self, newPrice):\n",
    "        self.price = newPrice\n",
    "bedRoom = Room(\"red\", 100)\n",
    "print(\"bedRoom's color is \" + bedRoom.color)\n",
    "bathRoom = Room(\"white\", 200)\n",
    "print(\"bathRoom's color is \" + bathRoom.color)"
   ]
  },
  {
   "cell_type": "code",
   "execution_count": 44,
   "metadata": {},
   "outputs": [
    {
     "name": "stdout",
     "output_type": "stream",
     "text": [
      "before change:\n",
      "price is 100\n",
      "color is red\n",
      "bedroom show() is done! \n",
      "price is 200\n",
      "color is white\n",
      "bathroom show() is done! \n"
     ]
    }
   ],
   "source": [
    "print(\"before change:\")\n",
    "bedRoom.show()\n",
    "print(\"bedroom show() is done! \")\n",
    "bathRoom.show()\n",
    "print(\"bathroom show() is done! \")"
   ]
  },
  {
   "cell_type": "code",
   "execution_count": 45,
   "metadata": {},
   "outputs": [
    {
     "name": "stdout",
     "output_type": "stream",
     "text": [
      "after change: \n",
      "price is 150\n",
      "color is blue\n",
      "bedroom show() is done!\n",
      "price is 250\n",
      "color is gray\n",
      "bathroom show() is done!\n"
     ]
    }
   ],
   "source": [
    "bedRoom.setColor(\"blue\")\n",
    "bedRoom.setPrice(150)\n",
    "bathRoom.setColor(\"gray\")\n",
    "bathRoom.setPrice(250)\n",
    "print(\"after change: \")\n",
    "bedRoom.show()\n",
    "print(\"bedroom show() is done!\")\n",
    "bathRoom.show()\n",
    "print(\"bathroom show() is done!\")"
   ]
  },
  {
   "cell_type": "code",
   "execution_count": 46,
   "metadata": {},
   "outputs": [
    {
     "name": "stdout",
     "output_type": "stream",
     "text": [
      "Room's color is red\n",
      "room1's color is red\n",
      "room2's color is red\n"
     ]
    }
   ],
   "source": [
    "class Room:\n",
    "    color = \"red\"\n",
    "room1 = Room()\n",
    "room2 = Room()\n",
    "print(\"Room's color is \" + Room.color)\n",
    "print(\"room1's color is \" + room1.color)\n",
    "print(\"room2's color is \" + room2.color)"
   ]
  },
  {
   "cell_type": "code",
   "execution_count": 47,
   "metadata": {},
   "outputs": [
    {
     "name": "stdout",
     "output_type": "stream",
     "text": [
      "room1 changes color to blue\n",
      "Room's color is red\n",
      "room1's color is blue\n",
      "room2's color is red\n"
     ]
    }
   ],
   "source": [
    "room1.color = \"blue\"\n",
    "print(\"room1 changes color to blue\")\n",
    "print(\"Room's color is \" + Room.color)\n",
    "print(\"room1's color is \" + room1.color)\n",
    "print(\"room2's color is \" + room2.color)"
   ]
  },
  {
   "cell_type": "code",
   "execution_count": 48,
   "metadata": {},
   "outputs": [
    {
     "name": "stdout",
     "output_type": "stream",
     "text": [
      "room2 changes color to black\n",
      "Room's color is red\n",
      "room1's color is blue\n",
      "room2's color is black\n"
     ]
    }
   ],
   "source": [
    "room2.color = \"black\"\n",
    "print(\"room2 changes color to black\")\n",
    "print(\"Room's color is \" + Room.color)\n",
    "print(\"room1's color is \" + room1.color)\n",
    "print(\"room2's color is \" + room2.color)"
   ]
  },
  {
   "cell_type": "code",
   "execution_count": 49,
   "metadata": {},
   "outputs": [
    {
     "name": "stdout",
     "output_type": "stream",
     "text": [
      "Room changes color to gray\n",
      "Room's color is gray\n",
      "room1's color is blue\n",
      "room2's color is black\n"
     ]
    }
   ],
   "source": [
    "Room.color = \"gray\"\n",
    "print(\"Room changes color to gray\")\n",
    "print(\"Room's color is \" + Room.color)\n",
    "print(\"room1's color is \" + room1.color)\n",
    "print(\"room2's color is \" + room2.color)"
   ]
  },
  {
   "cell_type": "code",
   "execution_count": 50,
   "metadata": {},
   "outputs": [
    {
     "name": "stdout",
     "output_type": "stream",
     "text": [
      "Room has ['wall', 'floor']\n",
      "room1 has ['wall', 'floor']\n",
      "room2 has ['wall', 'floor']\n"
     ]
    }
   ],
   "source": [
    "class Room:\n",
    "    things = [\"wall\",\"floor\"]\n",
    "room1 = Room()\n",
    "room2 = Room()\n",
    "print(\"Room has \" + str(Room.things))\n",
    "print(\"room1 has \" + str(room1.things))\n",
    "print(\"room2 has \" + str(room2.things))"
   ]
  },
  {
   "cell_type": "code",
   "execution_count": 51,
   "metadata": {},
   "outputs": [
    {
     "name": "stdout",
     "output_type": "stream",
     "text": [
      "room1 add chair\n",
      "Room has ['wall', 'floor', 'chair']\n",
      "room1 has ['wall', 'floor', 'chair']\n",
      "room2 has ['wall', 'floor', 'chair']\n"
     ]
    }
   ],
   "source": [
    "room1.things.append(\"chair\")\n",
    "print(\"room1 add chair\")\n",
    "print(\"Room has \" + str(Room.things))\n",
    "print(\"room1 has \" + str(room1.things))\n",
    "print(\"room2 has \" + str(room2.things))"
   ]
  },
  {
   "cell_type": "code",
   "execution_count": 52,
   "metadata": {},
   "outputs": [
    {
     "name": "stdout",
     "output_type": "stream",
     "text": [
      "room2 add desk\n",
      "Room has ['wall', 'floor', 'chair', 'desk']\n",
      "room1 has ['wall', 'floor', 'chair', 'desk']\n",
      "room2 has ['wall', 'floor', 'chair', 'desk']\n"
     ]
    }
   ],
   "source": [
    "room2.things.append(\"desk\")\n",
    "print(\"room2 add desk\")\n",
    "print(\"Room has \" + str(Room.things))\n",
    "print(\"room1 has \" + str(room1.things))\n",
    "print(\"room2 has \" + str(room2.things))"
   ]
  },
  {
   "cell_type": "code",
   "execution_count": 53,
   "metadata": {},
   "outputs": [
    {
     "name": "stdout",
     "output_type": "stream",
     "text": [
      "Room add water\n",
      "Room has ['wall', 'floor', 'chair', 'desk', 'water']\n",
      "room1 has ['wall', 'floor', 'chair', 'desk', 'water']\n",
      "room2 has ['wall', 'floor', 'chair', 'desk', 'water']\n"
     ]
    }
   ],
   "source": [
    "Room.things.append(\"water\")\n",
    "print(\"Room add water\")\n",
    "print(\"Room has \" + str(Room.things))\n",
    "print(\"room1 has \" + str(room1.things))\n",
    "print(\"room2 has \" + str(room2.things))"
   ]
  },
  {
   "cell_type": "code",
   "execution_count": 54,
   "metadata": {},
   "outputs": [
    {
     "name": "stdout",
     "output_type": "stream",
     "text": [
      "Room has ['wall', 'floor']\n",
      "room1 has ['chair']\n",
      "room2 has ['desk']\n"
     ]
    }
   ],
   "source": [
    "class Room:\n",
    "    things = [\"wall\",\"floor\"]\n",
    "    def __init__(self,things):\n",
    "        self.things = things\n",
    "room1 = Room([\"chair\"])\n",
    "room2 = Room([\"desk\"])\n",
    "print(\"Room has \" + str(Room.things))\n",
    "print(\"room1 has \" + str(room1.things))\n",
    "print(\"room2 has \" + str(room2.things))"
   ]
  },
  {
   "cell_type": "code",
   "execution_count": 55,
   "metadata": {},
   "outputs": [
    {
     "name": "stdout",
     "output_type": "stream",
     "text": [
      "room1 add chair at room1\n",
      "Room has ['wall', 'floor']\n",
      "room1 has ['chair', 'chair at room1']\n",
      "room2 has ['desk']\n"
     ]
    }
   ],
   "source": [
    "room1.things.append(\"chair at room1\")\n",
    "print(\"room1 add chair at room1\")\n",
    "print(\"Room has \" + str(Room.things))\n",
    "print(\"room1 has \" + str(room1.things))\n",
    "print(\"room2 has \" + str(room2.things))"
   ]
  },
  {
   "cell_type": "code",
   "execution_count": 56,
   "metadata": {},
   "outputs": [
    {
     "name": "stdout",
     "output_type": "stream",
     "text": [
      "room2 add desk at room2\n",
      "Room has ['wall', 'floor']\n",
      "room1 has ['chair', 'chair at room1']\n",
      "room2 has ['desk', 'desk at room2']\n"
     ]
    }
   ],
   "source": [
    "room2.things.append(\"desk at room2\")\n",
    "print(\"room2 add desk at room2\")\n",
    "print(\"Room has \" + str(Room.things))\n",
    "print(\"room1 has \" + str(room1.things))\n",
    "print(\"room2 has \" + str(room2.things))"
   ]
  },
  {
   "cell_type": "code",
   "execution_count": 57,
   "metadata": {},
   "outputs": [
    {
     "name": "stdout",
     "output_type": "stream",
     "text": [
      "Room add water\n",
      "Room has ['wall', 'floor', 'water']\n",
      "room1 has ['chair', 'chair at room1']\n",
      "room2 has ['desk', 'desk at room2']\n"
     ]
    }
   ],
   "source": [
    "Room.things.append(\"water\")\n",
    "print(\"Room add water\")\n",
    "print(\"Room has \" + str(Room.things))\n",
    "print(\"room1 has \" + str(room1.things))\n",
    "print(\"room2 has \" + str(room2.things))"
   ]
  },
  {
   "cell_type": "code",
   "execution_count": 58,
   "metadata": {},
   "outputs": [
    {
     "name": "stdout",
     "output_type": "stream",
     "text": [
      "red\n"
     ]
    }
   ],
   "source": [
    "class Room:\n",
    "    def __init__(self,things):\n",
    "        self.things = things\n",
    "room1 = Room([\"wall\"])\n",
    "room2 = Room([\"desk\"])\n",
    "room1.color = \"red\"\n",
    "print(room1.color) #打印red"
   ]
  },
  {
   "cell_type": "code",
   "execution_count": 59,
   "metadata": {},
   "outputs": [
    {
     "ename": "AttributeError",
     "evalue": "'Room' object has no attribute 'color'",
     "output_type": "error",
     "traceback": [
      "\u001b[1;31m---------------------------------------------------------------------------\u001b[0m",
      "\u001b[1;31mAttributeError\u001b[0m                            Traceback (most recent call last)",
      "\u001b[1;32m<ipython-input-59-9a6445001fe6>\u001b[0m in \u001b[0;36m<module>\u001b[1;34m\u001b[0m\n\u001b[1;32m----> 1\u001b[1;33m \u001b[0mprint\u001b[0m\u001b[1;33m(\u001b[0m\u001b[0mroom2\u001b[0m\u001b[1;33m.\u001b[0m\u001b[0mcolor\u001b[0m\u001b[1;33m)\u001b[0m   \u001b[1;31m# error,room2并没有color属性\u001b[0m\u001b[1;33m\u001b[0m\u001b[1;33m\u001b[0m\u001b[0m\n\u001b[0m",
      "\u001b[1;31mAttributeError\u001b[0m: 'Room' object has no attribute 'color'"
     ]
    }
   ],
   "source": [
    "print(room2.color)   # error,room2并没有color属性"
   ]
  },
  {
   "cell_type": "markdown",
   "metadata": {},
   "source": [
    "7.2"
   ]
  },
  {
   "cell_type": "code",
   "execution_count": 60,
   "metadata": {},
   "outputs": [
    {
     "name": "stdout",
     "output_type": "stream",
     "text": [
      "defining three classes: Room, MeetingRoom and BedRoom.\n"
     ]
    }
   ],
   "source": [
    "class Room:\n",
    "    def __init__(self,area,color):\n",
    "        self.area = area\n",
    "        self.color = \"white\"\n",
    "    def use(self):\n",
    "        print(\"this is just a Room\")\n",
    "    def show(self):\n",
    "        print(\"name: \" + self.__class__.__name__ +\n",
    "               \", area: \" + str(self.area) +\n",
    "               \", color: \" + self.color)\n",
    "class MeetingRoom(Room):\n",
    "    def __init__(self,area,color,capacity):\n",
    "        super().__init__(area,color)\n",
    "        self.capacity = capacity\n",
    "    def show(self):\n",
    "        print(\"name: \" + self.__class__.__name__ + \n",
    "               \", area: \" + str(self.area) + \n",
    "               \", capacity: \" + str(self.capacity))\n",
    "class BedRoom(Room):\n",
    "    def __init__(self,area,color,bedContain):\n",
    "        super().__init__(area,color)\n",
    "        self.bedContain = bedContain\n",
    "    def use(self):\n",
    "        print(\"this is a bedrooom\")\n",
    "    def show(self):\n",
    "        print(\"name: \" + self.__class__.__name__ + \n",
    "               \", area: \" + str(self.area) +\n",
    "               \", bedContain: \" + str(self.bedContain))\n",
    "print('defining three classes: Room, MeetingRoom and BedRoom.')"
   ]
  },
  {
   "cell_type": "code",
   "execution_count": 61,
   "metadata": {},
   "outputs": [
    {
     "name": "stdout",
     "output_type": "stream",
     "text": [
      "this is just a Room\n",
      "name: Room, area: 10, color: white\n"
     ]
    }
   ],
   "source": [
    "room = Room(10, \"white\")\n",
    "meetingRoom = MeetingRoom(50, \"white\",15)\n",
    "bedRoom = BedRoom(15,\"pink\",1)\n",
    "room.use()\n",
    "room.show()"
   ]
  },
  {
   "cell_type": "code",
   "execution_count": 62,
   "metadata": {},
   "outputs": [
    {
     "name": "stdout",
     "output_type": "stream",
     "text": [
      "this is just a Room\n",
      "name: MeetingRoom, area: 50, capacity: 15\n"
     ]
    }
   ],
   "source": [
    "meetingRoom.use()\n",
    "meetingRoom.show()"
   ]
  },
  {
   "cell_type": "code",
   "execution_count": 63,
   "metadata": {},
   "outputs": [
    {
     "name": "stdout",
     "output_type": "stream",
     "text": [
      "this is a bedrooom\n",
      "name: BedRoom, area: 15, bedContain: 1\n"
     ]
    }
   ],
   "source": [
    "bedRoom.use()\n",
    "bedRoom.show()"
   ]
  },
  {
   "cell_type": "code",
   "execution_count": 65,
   "metadata": {},
   "outputs": [
    {
     "name": "stdout",
     "output_type": "stream",
     "text": [
      "this is a meetingroom\n",
      "used by students and teachers\n",
      "---------------\n",
      "this is a meetingroom\n",
      "this is a classroom\n"
     ]
    }
   ],
   "source": [
    "class Room:\n",
    "    def use(self):\n",
    "        print(\"this is just a Room\")\n",
    "\n",
    "class MeetingRoom(Room):\n",
    "    def use(self):\n",
    "        print(\"this is a meetingroom\")\n",
    "\n",
    "class ClassRoom(Room):\n",
    "    def use(self):\n",
    "        print(\"this is a classroom\")\n",
    "    def show(self):\n",
    "        print(\"used by students and teachers\")\n",
    "\n",
    "class MulMediaRoom(MeetingRoom, ClassRoom):\n",
    "    pass\n",
    "\n",
    "class MulMediaRoom2(MeetingRoom, ClassRoom):\n",
    "    def use(self):\n",
    "        MeetingRoom.use(self)\n",
    "        ClassRoom.use(self)\n",
    "mediaRoom = MulMediaRoom()\n",
    "mediaRoom2 = MulMediaRoom2()\n",
    "mediaRoom.use()\n",
    "mediaRoom.show()\n",
    "print(\"---------------\")\n",
    "mediaRoom2.use()"
   ]
  },
  {
   "cell_type": "code",
   "execution_count": 66,
   "metadata": {},
   "outputs": [
    {
     "name": "stdout",
     "output_type": "stream",
     "text": [
      "this is just a Room\n",
      "this is a MeetingRoom\n",
      "this is a BedRoom\n"
     ]
    }
   ],
   "source": [
    "class Room:\n",
    "    def use(self):\n",
    "        print(\"this is just a Room\")\n",
    "\n",
    "class MeetingRoom(Room):\n",
    "    def use(self):\n",
    "        print(\"this is a MeetingRoom\")\n",
    "\n",
    "class BedRoom(Room):\n",
    "    def use(self):\n",
    "        print(\"this is a BedRoom\")\n",
    "\n",
    "def showUse(x):\n",
    "    x.use()\n",
    "\n",
    "room = Room()\n",
    "meetingRoom = MeetingRoom()\n",
    "bedRoom = BedRoom()\n",
    "showUse(room)\n",
    "showUse(meetingRoom)\n",
    "showUse(bedRoom)"
   ]
  },
  {
   "cell_type": "code",
   "execution_count": 67,
   "metadata": {},
   "outputs": [
    {
     "name": "stdout",
     "output_type": "stream",
     "text": [
      "this is just a Room\n",
      "this is NOT a room!\n",
      "this is a BedRoom\n"
     ]
    }
   ],
   "source": [
    "class Room:\n",
    "    def use(self):\n",
    "        print(\"this is just a Room\")\n",
    "\n",
    "class BedRoom(Room):\n",
    "    def use(self):\n",
    "        print(\"this is a BedRoom\")\n",
    "\n",
    "class OtherClass:\n",
    "    def use(self):\n",
    "        print(\"this is NOT a room!\")\n",
    "\n",
    "def showUse(x):\n",
    "    x.use()\n",
    "\n",
    "room = Room()\n",
    "bedRoom = BedRoom()\n",
    "other = OtherClass()\n",
    "showUse(room)\n",
    "showUse(other)\n",
    "showUse(bedRoom)"
   ]
  },
  {
   "cell_type": "markdown",
   "metadata": {},
   "source": [
    "7.3"
   ]
  },
  {
   "cell_type": "code",
   "execution_count": 68,
   "metadata": {},
   "outputs": [
    {
     "name": "stdout",
     "output_type": "stream",
     "text": [
      "hello world\n"
     ]
    },
    {
     "ename": "NotImplementedError",
     "evalue": "method 'use()' not implemented",
     "output_type": "error",
     "traceback": [
      "\u001b[1;31m---------------------------------------------------------------------------\u001b[0m",
      "\u001b[1;31mNotImplementedError\u001b[0m                       Traceback (most recent call last)",
      "\u001b[1;32m<ipython-input-68-602cf022b46c>\u001b[0m in \u001b[0;36m<module>\u001b[1;34m\u001b[0m\n\u001b[0;32m      6\u001b[0m     \u001b[1;32mpass\u001b[0m\u001b[1;33m\u001b[0m\u001b[1;33m\u001b[0m\u001b[0m\n\u001b[0;32m      7\u001b[0m \u001b[0mclassroom\u001b[0m \u001b[1;33m=\u001b[0m \u001b[0mClassRoom\u001b[0m\u001b[1;33m(\u001b[0m\u001b[1;33m)\u001b[0m\u001b[1;33m\u001b[0m\u001b[1;33m\u001b[0m\u001b[0m\n\u001b[1;32m----> 8\u001b[1;33m \u001b[0mclassroom\u001b[0m\u001b[1;33m.\u001b[0m\u001b[0muse\u001b[0m\u001b[1;33m(\u001b[0m\u001b[1;33m)\u001b[0m\u001b[1;33m\u001b[0m\u001b[1;33m\u001b[0m\u001b[0m\n\u001b[0m",
      "\u001b[1;32m<ipython-input-68-602cf022b46c>\u001b[0m in \u001b[0;36muse\u001b[1;34m(self)\u001b[0m\n\u001b[0;32m      2\u001b[0m     \u001b[1;32mdef\u001b[0m \u001b[0muse\u001b[0m\u001b[1;33m(\u001b[0m\u001b[0mself\u001b[0m\u001b[1;33m)\u001b[0m\u001b[1;33m:\u001b[0m\u001b[1;33m\u001b[0m\u001b[1;33m\u001b[0m\u001b[0m\n\u001b[0;32m      3\u001b[0m         \u001b[0mprint\u001b[0m\u001b[1;33m(\u001b[0m\u001b[1;34m\"hello world\"\u001b[0m\u001b[1;33m)\u001b[0m \u001b[1;31m#父类中的方法会被重写\u001b[0m\u001b[1;33m\u001b[0m\u001b[1;33m\u001b[0m\u001b[0m\n\u001b[1;32m----> 4\u001b[1;33m         \u001b[1;32mraise\u001b[0m \u001b[0mNotImplementedError\u001b[0m\u001b[1;33m(\u001b[0m\u001b[1;34m\"method 'use()' not implemented\"\u001b[0m\u001b[1;33m)\u001b[0m\u001b[1;33m\u001b[0m\u001b[1;33m\u001b[0m\u001b[0m\n\u001b[0m\u001b[0;32m      5\u001b[0m \u001b[1;32mclass\u001b[0m \u001b[0mClassRoom\u001b[0m\u001b[1;33m(\u001b[0m\u001b[0mRoom\u001b[0m\u001b[1;33m)\u001b[0m\u001b[1;33m:\u001b[0m\u001b[1;33m\u001b[0m\u001b[1;33m\u001b[0m\u001b[0m\n\u001b[0;32m      6\u001b[0m     \u001b[1;32mpass\u001b[0m\u001b[1;33m\u001b[0m\u001b[1;33m\u001b[0m\u001b[0m\n",
      "\u001b[1;31mNotImplementedError\u001b[0m: method 'use()' not implemented"
     ]
    }
   ],
   "source": [
    "class Room:\n",
    "    def use(self):\n",
    "        print(\"hello world\") #父类中的方法会被重写\n",
    "        raise NotImplementedError(\"method 'use()' not implemented\")\n",
    "class ClassRoom(Room):\n",
    "    pass\n",
    "classroom = ClassRoom()\n",
    "classroom.use()"
   ]
  },
  {
   "cell_type": "code",
   "execution_count": 69,
   "metadata": {},
   "outputs": [
    {
     "name": "stdout",
     "output_type": "stream",
     "text": [
      "this is a classroom\n",
      "This is a abstarct room\n",
      "return a word\n",
      "area: 15 color: blue\n"
     ]
    }
   ],
   "source": [
    "import abc\n",
    "class Room(metaclass=abc.ABCMeta):\n",
    "    def __init__(self,color,area):\n",
    "        self.color = color\n",
    "        self.area = area\n",
    "    @abc.abstractmethod\n",
    "    def use(self):\n",
    "        print(\"This is a abstarct room\")\n",
    "        return \"return a word\"\n",
    "    def show(self):\n",
    "        print(\"area: %i color: %s\"%(self.area,self.color))\n",
    "class ClassRoom(Room):\n",
    "    def use(self):\n",
    "        print(\"this is a classroom\")\n",
    "        var = Room.use(self)\n",
    "        print(var)\n",
    "\n",
    "#room = Room(\"white\",10)    #报错语句\n",
    "classroom = ClassRoom(\"blue\", 15)\n",
    "classroom.use()\n",
    "classroom.show()"
   ]
  },
  {
   "cell_type": "code",
   "execution_count": 11,
   "metadata": {},
   "outputs": [
    {
     "name": "stdout",
     "output_type": "stream",
     "text": [
      "[StoreRoom area: 6; volume: 18; price: 300]\n",
      "[BathRoom area: 4; volume: 12; price: 4200]\n"
     ]
    }
   ],
   "source": [
    "import abc\n",
    "class Room(metaclass=abc.ABCMeta):\n",
    "    def __init__(self,length,width,height,pps):\n",
    "        self.length = length\n",
    "        self.width = width\n",
    "        self.height = height\n",
    "        self.pps = pps\n",
    "\n",
    "class IRoom(metaclass=abc.ABCMeta): #房间方法接口类\n",
    "    @abc.abstractmethod\n",
    "    def area(self):\n",
    "        pass\n",
    "\n",
    "    @abc.abstractmethod\n",
    "    def volume(self):\n",
    "        pass\n",
    "\n",
    "    @abc.abstractmethod\n",
    "    def price(self):\n",
    "        pass\n",
    "\n",
    "    @abc.abstractmethod\n",
    "    def show(self):\n",
    "        pass\n",
    "\n",
    "class StoreRoom(Room,IRoom):\n",
    "    def __init__(self,length,width,height,pps):\n",
    "        super().__init__(length,width,height,pps)\n",
    "    def area(self):\n",
    "        return self.length * self.width\n",
    "    def volume(self):\n",
    "        return self.length * self.width * self.height\n",
    "    def price(self):\n",
    "        return self.pps * self.area()\n",
    "    def show(self):\n",
    "        print(\"[%s area: %i; volume: %i; price: %i]\"\n",
    "              %(self.__class__.__name__,\n",
    "                self.area(),\n",
    "                self.volume(),\n",
    "                self.price()))\n",
    "class BathRoom(Room,IRoom):\n",
    "    def __init__(self,length,width,height,pps):\n",
    "        super().__init__(length,width,height,pps)\n",
    "    def area(self):\n",
    "        return self.length * self.width\n",
    "    def volume(self):\n",
    "        return self.length * self.width * self.height\n",
    "    def price(self):\n",
    "        return self.pps * (self.area()\n",
    "                           + 2 * self.width * self.height\n",
    "                           + 2 * self.length * self.height)\n",
    "    def show(self):\n",
    "        print(\"[%s area: %i; volume: %i; price: %i]\"\n",
    "              %(self.__class__.__name__,\n",
    "                self.area(),\n",
    "                self.volume(),\n",
    "                self.price()))\n",
    "\n",
    "storeRoom = StoreRoom(2,3,3,50)\n",
    "bathRoom = BathRoom(2,2,3,150)\n",
    "storeRoom.show()\n",
    "bathRoom.show()\n"
   ]
  },
  {
   "cell_type": "markdown",
   "metadata": {},
   "source": [
    "7.4"
   ]
  },
  {
   "cell_type": "code",
   "execution_count": 72,
   "metadata": {},
   "outputs": [
    {
     "ename": "IndentationError",
     "evalue": "expected an indented block (<ipython-input-72-9aa43d3dde92>, line 13)",
     "output_type": "error",
     "traceback": [
      "\u001b[1;36m  File \u001b[1;32m\"<ipython-input-72-9aa43d3dde92>\"\u001b[1;36m, line \u001b[1;32m13\u001b[0m\n\u001b[1;33m    print(\"name : %s; price %i$/m²\"%(self.name, self.getPricePerUnit()))\u001b[0m\n\u001b[1;37m        ^\u001b[0m\n\u001b[1;31mIndentationError\u001b[0m\u001b[1;31m:\u001b[0m expected an indented block\n"
     ]
    }
   ],
   "source": [
    "class Room:\n",
    "    count = 0\n",
    "    def __init__(self,price, area, name):\n",
    "        self.__price = price\n",
    "        self.area = area\n",
    "        self.name = name\n",
    "        Room.count += 1\n",
    "\n",
    "def getPricePerUnit(self):\n",
    "        return self.__price / self.area\n",
    "\n",
    "def show(self):\n",
    "print(\"name : %s; price %i$/m²\"%(self.name, self.getPricePerUnit()))\n",
    "\n",
    "room = Room()\n",
    "bedRoom = Room(50000, 80, \"bedRoom\")\n",
    "print(bedRoom.price)\n",
    "price = bedRoom.getPricePerUnit\n",
    "bedRoom.show()"
   ]
  },
  {
   "cell_type": "code",
   "execution_count": 73,
   "metadata": {},
   "outputs": [
    {
     "ename": "IndentationError",
     "evalue": "expected an indented block (<ipython-input-73-316db2483eec>, line 2)",
     "output_type": "error",
     "traceback": [
      "\u001b[1;36m  File \u001b[1;32m\"<ipython-input-73-316db2483eec>\"\u001b[1;36m, line \u001b[1;32m2\u001b[0m\n\u001b[1;33m    count = 0\u001b[0m\n\u001b[1;37m        ^\u001b[0m\n\u001b[1;31mIndentationError\u001b[0m\u001b[1;31m:\u001b[0m expected an indented block\n"
     ]
    }
   ],
   "source": [
    "class Room:\n",
    "count = 0\n",
    "    def __init__(self):\n",
    "        Room.count += 1;\n",
    "\n",
    "def __del__(self):\n",
    "        Room.count -= 1;\n",
    "\n",
    "room1 = Room()\n",
    "room2 = Room()\n",
    "room3 = Room()\n",
    "print(Room.count)\n",
    "room = room1\n",
    "del room2\n",
    "del room1\n",
    "room3 = 1\n",
    "print(Room.count)\n",
    "print(\"----------\")"
   ]
  },
  {
   "cell_type": "code",
   "execution_count": 3,
   "metadata": {},
   "outputs": [
    {
     "name": "stdout",
     "output_type": "stream",
     "text": [
      "defining three classes: Room, MeetingRoom and BedRoom.\n"
     ]
    }
   ],
   "source": [
    "class Room:\n",
    "    def __init__(self,area,color):\n",
    "        self.area = area\n",
    "        self.color = \"white\"\n",
    "    def use(self):\n",
    "        print(\"this is just a Room\")\n",
    "    def show(self):\n",
    "        print(\"name: \" + self.__class__.__name__ +\n",
    "               \", area: \" + str(self.area) +\n",
    "               \", color: \" + self.color)\n",
    "class MeetingRoom(Room):\n",
    "    def __init__(self,area,color,capacity):\n",
    "        super().__init__(area,color)\n",
    "        self.capacity = capacity\n",
    "    def show(self):\n",
    "        print(\"name: \" + self.__class__.__name__ + \n",
    "               \", area: \" + str(self.area) + \n",
    "               \", capacity: \" + str(self.capacity))\n",
    "class BedRoom(Room):\n",
    "    def __init__(self,area,color,bedContain):\n",
    "        super().__init__(area,color)\n",
    "        self.bedContain = bedContain\n",
    "    def use(self):\n",
    "        print(\"this is a bedrooom\")\n",
    "    def show(self):\n",
    "        print(\"name: \" + self.__class__.__name__ + \n",
    "               \", area: \" + str(self.area) +\n",
    "               \", bedContain: \" + str(self.bedContain))\n",
    "\n",
    "print('defining three classes: Room, MeetingRoom and BedRoom.')\n"
   ]
  },
  {
   "cell_type": "code",
   "execution_count": 4,
   "metadata": {},
   "outputs": [
    {
     "name": "stdout",
     "output_type": "stream",
     "text": [
      "this is just a Room\n",
      "name: Room, area: 10, color: white\n"
     ]
    }
   ],
   "source": [
    "room = Room(10, \"white\")\n",
    "meetingRoom = MeetingRoom(50, \"white\",15)\n",
    "bedRoom = BedRoom(15,\"pink\",1)\n",
    "room.use()\n",
    "room.show()\n"
   ]
  },
  {
   "cell_type": "code",
   "execution_count": 5,
   "metadata": {},
   "outputs": [
    {
     "name": "stdout",
     "output_type": "stream",
     "text": [
      "this is just a Room\n",
      "name: MeetingRoom, area: 50, capacity: 15\n"
     ]
    }
   ],
   "source": [
    "meetingRoom.use()\n",
    "meetingRoom.show()\n"
   ]
  },
  {
   "cell_type": "code",
   "execution_count": 6,
   "metadata": {},
   "outputs": [
    {
     "name": "stdout",
     "output_type": "stream",
     "text": [
      "this is a bedrooom\n",
      "name: BedRoom, area: 15, bedContain: 1\n"
     ]
    }
   ],
   "source": [
    "bedRoom.use()\n",
    "bedRoom.show()\n"
   ]
  },
  {
   "cell_type": "code",
   "execution_count": 7,
   "metadata": {},
   "outputs": [
    {
     "name": "stdout",
     "output_type": "stream",
     "text": [
      "this is a meetingroom\n",
      "used by students and teachers\n",
      "---------------\n",
      "this is a meetingroom\n",
      "this is a classroom\n"
     ]
    }
   ],
   "source": [
    "class Room:\n",
    "    def use(self):\n",
    "        print(\"this is just a Room\")\n",
    "\n",
    "class MeetingRoom(Room):\n",
    "    def use(self):\n",
    "        print(\"this is a meetingroom\")\n",
    "\n",
    "class ClassRoom(Room):\n",
    "    def use(self):\n",
    "        print(\"this is a classroom\")\n",
    "    def show(self):\n",
    "        print(\"used by students and teachers\")\n",
    "\n",
    "class MulMediaRoom(MeetingRoom, ClassRoom):\n",
    "    pass\n",
    "\n",
    "class MulMediaRoom2(MeetingRoom, ClassRoom):\n",
    "    def use(self):\n",
    "        MeetingRoom.use(self)\n",
    "        ClassRoom.use(self)\n",
    "mediaRoom = MulMediaRoom()\n",
    "mediaRoom2 = MulMediaRoom2()\n",
    "mediaRoom.use()\n",
    "mediaRoom.show()\n",
    "print(\"---------------\")\n",
    "mediaRoom2.use()\n"
   ]
  },
  {
   "cell_type": "code",
   "execution_count": 8,
   "metadata": {},
   "outputs": [
    {
     "name": "stdout",
     "output_type": "stream",
     "text": [
      "this is just a Room\n",
      "this is a MeetingRoom\n",
      "this is a BedRoom\n"
     ]
    }
   ],
   "source": [
    "class Room:\n",
    "    def use(self):\n",
    "        print(\"this is just a Room\")\n",
    "\n",
    "class MeetingRoom(Room):\n",
    "    def use(self):\n",
    "        print(\"this is a MeetingRoom\")\n",
    "class BedRoom(Room):\n",
    "    def use(self):\n",
    "        print(\"this is a BedRoom\")\n",
    "\n",
    "def showUse(x):\n",
    "    x.use()\n",
    "\n",
    "room = Room()\n",
    "meetingRoom = MeetingRoom()\n",
    "bedRoom = BedRoom()\n",
    "showUse(room)\n",
    "showUse(meetingRoom)\n",
    "showUse(bedRoom)\n"
   ]
  },
  {
   "cell_type": "code",
   "execution_count": 9,
   "metadata": {},
   "outputs": [
    {
     "name": "stdout",
     "output_type": "stream",
     "text": [
      "this is just a Room\n",
      "this is NOT a room!\n",
      "this is a BedRoom\n"
     ]
    }
   ],
   "source": [
    "class Room:\n",
    "    def use(self):\n",
    "        print(\"this is just a Room\")\n",
    "\n",
    "class BedRoom(Room):\n",
    "    def use(self):\n",
    "        print(\"this is a BedRoom\")\n",
    "\n",
    "class OtherClass:\n",
    "    def use(self):\n",
    "        print(\"this is NOT a room!\")\n",
    "\n",
    "def showUse(x):\n",
    "    x.use()\n",
    "room = Room()\n",
    "bedRoom = BedRoom()\n",
    "other = OtherClass()\n",
    "showUse(room)\n",
    "showUse(other)\n",
    "showUse(bedRoom)\n"
   ]
  },
  {
   "cell_type": "code",
   "execution_count": 10,
   "metadata": {},
   "outputs": [
    {
     "name": "stdout",
     "output_type": "stream",
     "text": [
      "hello world\n"
     ]
    },
    {
     "ename": "NotImplementedError",
     "evalue": "method 'use()' not implemented",
     "output_type": "error",
     "traceback": [
      "\u001b[1;31m---------------------------------------------------------------------------\u001b[0m",
      "\u001b[1;31mNotImplementedError\u001b[0m                       Traceback (most recent call last)",
      "\u001b[1;32m<ipython-input-10-602cf022b46c>\u001b[0m in \u001b[0;36m<module>\u001b[1;34m\u001b[0m\n\u001b[0;32m      6\u001b[0m     \u001b[1;32mpass\u001b[0m\u001b[1;33m\u001b[0m\u001b[1;33m\u001b[0m\u001b[0m\n\u001b[0;32m      7\u001b[0m \u001b[0mclassroom\u001b[0m \u001b[1;33m=\u001b[0m \u001b[0mClassRoom\u001b[0m\u001b[1;33m(\u001b[0m\u001b[1;33m)\u001b[0m\u001b[1;33m\u001b[0m\u001b[1;33m\u001b[0m\u001b[0m\n\u001b[1;32m----> 8\u001b[1;33m \u001b[0mclassroom\u001b[0m\u001b[1;33m.\u001b[0m\u001b[0muse\u001b[0m\u001b[1;33m(\u001b[0m\u001b[1;33m)\u001b[0m\u001b[1;33m\u001b[0m\u001b[1;33m\u001b[0m\u001b[0m\n\u001b[0m",
      "\u001b[1;32m<ipython-input-10-602cf022b46c>\u001b[0m in \u001b[0;36muse\u001b[1;34m(self)\u001b[0m\n\u001b[0;32m      2\u001b[0m     \u001b[1;32mdef\u001b[0m \u001b[0muse\u001b[0m\u001b[1;33m(\u001b[0m\u001b[0mself\u001b[0m\u001b[1;33m)\u001b[0m\u001b[1;33m:\u001b[0m\u001b[1;33m\u001b[0m\u001b[1;33m\u001b[0m\u001b[0m\n\u001b[0;32m      3\u001b[0m         \u001b[0mprint\u001b[0m\u001b[1;33m(\u001b[0m\u001b[1;34m\"hello world\"\u001b[0m\u001b[1;33m)\u001b[0m \u001b[1;31m#父类中的方法会被重写\u001b[0m\u001b[1;33m\u001b[0m\u001b[1;33m\u001b[0m\u001b[0m\n\u001b[1;32m----> 4\u001b[1;33m         \u001b[1;32mraise\u001b[0m \u001b[0mNotImplementedError\u001b[0m\u001b[1;33m(\u001b[0m\u001b[1;34m\"method 'use()' not implemented\"\u001b[0m\u001b[1;33m)\u001b[0m\u001b[1;33m\u001b[0m\u001b[1;33m\u001b[0m\u001b[0m\n\u001b[0m\u001b[0;32m      5\u001b[0m \u001b[1;32mclass\u001b[0m \u001b[0mClassRoom\u001b[0m\u001b[1;33m(\u001b[0m\u001b[0mRoom\u001b[0m\u001b[1;33m)\u001b[0m\u001b[1;33m:\u001b[0m\u001b[1;33m\u001b[0m\u001b[1;33m\u001b[0m\u001b[0m\n\u001b[0;32m      6\u001b[0m     \u001b[1;32mpass\u001b[0m\u001b[1;33m\u001b[0m\u001b[1;33m\u001b[0m\u001b[0m\n",
      "\u001b[1;31mNotImplementedError\u001b[0m: method 'use()' not implemented"
     ]
    }
   ],
   "source": [
    "class Room:\n",
    "    def use(self):\n",
    "        print(\"hello world\") #父类中的方法会被重写\n",
    "        raise NotImplementedError(\"method 'use()' not implemented\")\n",
    "class ClassRoom(Room):\n",
    "    pass\n",
    "classroom = ClassRoom()\n",
    "classroom.use()\n"
   ]
  },
  {
   "cell_type": "code",
   "execution_count": null,
   "metadata": {},
   "outputs": [],
   "source": []
  }
 ],
 "metadata": {
  "kernelspec": {
   "display_name": "Python 3",
   "language": "python",
   "name": "python3"
  },
  "language_info": {
   "codemirror_mode": {
    "name": "ipython",
    "version": 3
   },
   "file_extension": ".py",
   "mimetype": "text/x-python",
   "name": "python",
   "nbconvert_exporter": "python",
   "pygments_lexer": "ipython3",
   "version": "3.7.3"
  }
 },
 "nbformat": 4,
 "nbformat_minor": 2
}
