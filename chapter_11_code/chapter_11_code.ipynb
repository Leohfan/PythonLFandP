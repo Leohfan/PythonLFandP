{
 "cells": [
  {
   "cell_type": "markdown",
   "metadata": {},
   "source": [
    "# 11.2 科学计算工具Numpy"
   ]
  },
  {
   "cell_type": "markdown",
   "metadata": {},
   "source": [
    "## 11.2.2 Numpy数据类型"
   ]
  },
  {
   "cell_type": "markdown",
   "metadata": {},
   "source": [
    "Python原生数组与NumPy数组执行效率对比"
   ]
  },
  {
   "cell_type": "code",
   "execution_count": 11,
   "metadata": {},
   "outputs": [
    {
     "name": "stdout",
     "output_type": "stream",
     "text": [
      "Wall time: 7 ms\n",
      "Wall time: 2 ms\n"
     ]
    }
   ],
   "source": [
    "import random\n",
    "import time\n",
    "import numpy as np\n",
    "a = []\n",
    "for i in range(1000000):\n",
    "    a.append(random.random())\n",
    "# 通过%time方法, 查看当前行的代码运行一次所花费的时间\n",
    "%time sum1=sum(a)\n",
    "b=np.array(a)\n",
    "%time sum2=np.sum(b)"
   ]
  },
  {
   "cell_type": "markdown",
   "metadata": {},
   "source": [
    "## 11.2.3 Numpy数组操作"
   ]
  },
  {
   "cell_type": "markdown",
   "metadata": {},
   "source": [
    "### （1）Numpy数组创建"
   ]
  },
  {
   "cell_type": "markdown",
   "metadata": {},
   "source": [
    "#### ①\t从常规Python列表或元组中创建数组"
   ]
  },
  {
   "cell_type": "code",
   "execution_count": 12,
   "metadata": {},
   "outputs": [
    {
     "data": {
      "text/plain": [
       "array([2, 3, 4])"
      ]
     },
     "execution_count": 12,
     "metadata": {},
     "output_type": "execute_result"
    }
   ],
   "source": [
    "import numpy as np\n",
    "a = np.array([2,3,4])\n",
    "a"
   ]
  },
  {
   "cell_type": "code",
   "execution_count": 13,
   "metadata": {},
   "outputs": [
    {
     "data": {
      "text/plain": [
       "dtype('int32')"
      ]
     },
     "execution_count": 13,
     "metadata": {},
     "output_type": "execute_result"
    }
   ],
   "source": [
    "a.dtype"
   ]
  },
  {
   "cell_type": "code",
   "execution_count": 14,
   "metadata": {},
   "outputs": [
    {
     "data": {
      "text/plain": [
       "dtype('float64')"
      ]
     },
     "execution_count": 14,
     "metadata": {},
     "output_type": "execute_result"
    }
   ],
   "source": [
    "b = np.array([1.2, 3.5, 5.1])\n",
    "b.dtype"
   ]
  },
  {
   "cell_type": "markdown",
   "metadata": {},
   "source": [
    "#### ②\t从序列中创建数组"
   ]
  },
  {
   "cell_type": "code",
   "execution_count": 15,
   "metadata": {},
   "outputs": [
    {
     "data": {
      "text/plain": [
       "array([[1.5, 2. , 3. ],\n",
       "       [4. , 5. , 6. ]])"
      ]
     },
     "execution_count": 15,
     "metadata": {},
     "output_type": "execute_result"
    }
   ],
   "source": [
    "import numpy as np\n",
    "b = np.array([(1.5,2,3), (4,5,6)])\n",
    "b"
   ]
  },
  {
   "cell_type": "code",
   "execution_count": 16,
   "metadata": {},
   "outputs": [
    {
     "data": {
      "text/plain": [
       "array([[1.+0.j, 2.+0.j],\n",
       "       [3.+0.j, 4.+0.j]])"
      ]
     },
     "execution_count": 16,
     "metadata": {},
     "output_type": "execute_result"
    }
   ],
   "source": [
    "import numpy as np\n",
    "c = np.array( [ [1,2], [3,4] ], dtype=complex )     #转换为复数形式\n",
    "c"
   ]
  },
  {
   "cell_type": "markdown",
   "metadata": {},
   "source": [
    "#### ③\t使用函数创建数组"
   ]
  },
  {
   "cell_type": "code",
   "execution_count": 17,
   "metadata": {},
   "outputs": [
    {
     "data": {
      "text/plain": [
       "array([[0., 0., 0., 0.],\n",
       "       [0., 0., 0., 0.],\n",
       "       [0., 0., 0., 0.]])"
      ]
     },
     "execution_count": 17,
     "metadata": {},
     "output_type": "execute_result"
    }
   ],
   "source": [
    "import numpy as np\n",
    "np.zeros((3,4))"
   ]
  },
  {
   "cell_type": "code",
   "execution_count": 18,
   "metadata": {},
   "outputs": [
    {
     "data": {
      "text/plain": [
       "array([[[1., 1., 1., 1.],\n",
       "        [1., 1., 1., 1.],\n",
       "        [1., 1., 1., 1.]],\n",
       "\n",
       "       [[1., 1., 1., 1.],\n",
       "        [1., 1., 1., 1.],\n",
       "        [1., 1., 1., 1.]]])"
      ]
     },
     "execution_count": 18,
     "metadata": {},
     "output_type": "execute_result"
    }
   ],
   "source": [
    "np.ones((2,3,4)) "
   ]
  },
  {
   "cell_type": "code",
   "execution_count": 19,
   "metadata": {},
   "outputs": [
    {
     "data": {
      "text/plain": [
       "array([[1.5, 2. , 3. ],\n",
       "       [4. , 5. , 6. ]])"
      ]
     },
     "execution_count": 19,
     "metadata": {},
     "output_type": "execute_result"
    }
   ],
   "source": [
    "np.empty((2,3))"
   ]
  },
  {
   "cell_type": "code",
   "execution_count": 20,
   "metadata": {},
   "outputs": [
    {
     "data": {
      "text/plain": [
       "array([10, 15, 20, 25, 30, 35, 40, 45])"
      ]
     },
     "execution_count": 20,
     "metadata": {},
     "output_type": "execute_result"
    }
   ],
   "source": [
    "np.arange(10, 50, 5)               #第三个参数为步长，若空，则默认步长为1"
   ]
  },
  {
   "cell_type": "code",
   "execution_count": 21,
   "metadata": {},
   "outputs": [
    {
     "data": {
      "text/plain": [
       "array([3. , 3.4, 3.8, 4.2, 4.6])"
      ]
     },
     "execution_count": 21,
     "metadata": {},
     "output_type": "execute_result"
    }
   ],
   "source": [
    "np.arange( 3, 5, 0.4 )                    # 允许参数为浮点数"
   ]
  },
  {
   "cell_type": "markdown",
   "metadata": {},
   "source": [
    "### （2）Numpy切片和索引"
   ]
  },
  {
   "cell_type": "code",
   "execution_count": 27,
   "metadata": {},
   "outputs": [
    {
     "name": "stdout",
     "output_type": "stream",
     "text": [
      "原始数组a： [0 1 2 3 4 5 6 7 8 9]\n",
      "切片后的数组为： [2 4 6]\n"
     ]
    }
   ],
   "source": [
    "import numpy as np\n",
    "a = np.arange(10)                            #使用arange()函数创建ndarray对象\n",
    "print(\"原始数组a：\",a)\n",
    "s = slice(2,7,2)                           #从索引 2 开始到索引 7 停止，间隔为2\n",
    "print (\"切片后的数组为：\",a[s])"
   ]
  },
  {
   "cell_type": "code",
   "execution_count": 28,
   "metadata": {},
   "outputs": [
    {
     "name": "stdout",
     "output_type": "stream",
     "text": [
      "[1 4 7]\n"
     ]
    }
   ],
   "source": [
    "import numpy as np\n",
    "a = np.arange(10)  \n",
    "b = a[1:9:3]   # 从索引 1 开始到索引9 停止，间隔为3\n",
    "print(b)"
   ]
  },
  {
   "cell_type": "code",
   "execution_count": 29,
   "metadata": {},
   "outputs": [
    {
     "name": "stdout",
     "output_type": "stream",
     "text": [
      "a[13]:  \t 13\n",
      "a[13:]: \t [13 14 15 16 17 18 19]\n",
      "d[13:15]:\t [13 14]\n"
     ]
    }
   ],
   "source": [
    "import numpy as np\n",
    "a = np.arange(20) \n",
    "b = a[13]\n",
    "print(\"a[13]:  \\t\",b)\n",
    "c = a[13:]\n",
    "print(\"a[13:]: \\t\",c)\n",
    "d = a[13:15]\n",
    "print(\"d[13:15]:\\t\",d)"
   ]
  },
  {
   "cell_type": "markdown",
   "metadata": {},
   "source": [
    "#### ①\t整数数组索引"
   ]
  },
  {
   "cell_type": "code",
   "execution_count": 30,
   "metadata": {},
   "outputs": [
    {
     "name": "stdout",
     "output_type": "stream",
     "text": [
      "原数组是：\n",
      "[[ 0  1  2]\n",
      " [ 3  4  5]\n",
      " [ 6  7  8]\n",
      " [ 9 10 11]]\n",
      "这个数组的四个角元素是：\n",
      "[[ 0  2]\n",
      " [ 9 11]]\n"
     ]
    }
   ],
   "source": [
    "import numpy as np                        #整数数组索引\n",
    "x = np.array([[  0,  1,  2],[  3,  4,  5],[  6,  7,  8],[  9,  10,  11]])  \n",
    "print ('原数组是：' )\n",
    "print (x)\n",
    "rows = np.array([[0,0],[3,3]])\n",
    "cols = np.array([[0,2],[0,2]])\n",
    "y = x[rows,cols]  \n",
    "print  ('这个数组的四个角元素是：')\n",
    "print (y)"
   ]
  },
  {
   "cell_type": "markdown",
   "metadata": {},
   "source": [
    "#### ②\t布尔索引"
   ]
  },
  {
   "cell_type": "code",
   "execution_count": 31,
   "metadata": {},
   "outputs": [
    {
     "name": "stdout",
     "output_type": "stream",
     "text": [
      "[0 1 2 3 4 5 6]\n",
      "[0 3 4]\n"
     ]
    }
   ],
   "source": [
    "import numpy as np                     #布尔数组索引\n",
    "arr = np.arange(7)\n",
    "booling1 = np.array([True,False,False,True,True,False,False])\n",
    "print(arr)\n",
    "print(arr[booling1])"
   ]
  },
  {
   "cell_type": "code",
   "execution_count": 32,
   "metadata": {},
   "outputs": [
    {
     "name": "stdout",
     "output_type": "stream",
     "text": [
      "[0 1 2 3 4 5 6]\n"
     ]
    },
    {
     "ename": "IndexError",
     "evalue": "boolean index did not match indexed array along dimension 0; dimension is 7 but corresponding boolean dimension is 6",
     "output_type": "error",
     "traceback": [
      "\u001b[1;31m---------------------------------------------------------------------------\u001b[0m",
      "\u001b[1;31mIndexError\u001b[0m                                Traceback (most recent call last)",
      "\u001b[1;32m<ipython-input-32-f2f8506d8d75>\u001b[0m in \u001b[0;36m<module>\u001b[1;34m\u001b[0m\n\u001b[0;32m      3\u001b[0m \u001b[0mbooling1\u001b[0m \u001b[1;33m=\u001b[0m \u001b[0mnp\u001b[0m\u001b[1;33m.\u001b[0m\u001b[0marray\u001b[0m\u001b[1;33m(\u001b[0m\u001b[1;33m[\u001b[0m\u001b[1;32mTrue\u001b[0m\u001b[1;33m,\u001b[0m\u001b[1;32mFalse\u001b[0m\u001b[1;33m,\u001b[0m\u001b[1;32mFalse\u001b[0m\u001b[1;33m,\u001b[0m\u001b[1;32mTrue\u001b[0m\u001b[1;33m,\u001b[0m\u001b[1;32mTrue\u001b[0m\u001b[1;33m,\u001b[0m\u001b[1;32mFalse\u001b[0m\u001b[1;33m]\u001b[0m\u001b[1;33m)\u001b[0m\u001b[1;33m\u001b[0m\u001b[1;33m\u001b[0m\u001b[0m\n\u001b[0;32m      4\u001b[0m \u001b[0mprint\u001b[0m\u001b[1;33m(\u001b[0m\u001b[0marr\u001b[0m\u001b[1;33m)\u001b[0m\u001b[1;33m\u001b[0m\u001b[1;33m\u001b[0m\u001b[0m\n\u001b[1;32m----> 5\u001b[1;33m \u001b[0mprint\u001b[0m\u001b[1;33m(\u001b[0m\u001b[0marr\u001b[0m\u001b[1;33m[\u001b[0m\u001b[0mbooling1\u001b[0m\u001b[1;33m]\u001b[0m\u001b[1;33m)\u001b[0m\u001b[1;33m\u001b[0m\u001b[1;33m\u001b[0m\u001b[0m\n\u001b[0m",
      "\u001b[1;31mIndexError\u001b[0m: boolean index did not match indexed array along dimension 0; dimension is 7 but corresponding boolean dimension is 6"
     ]
    }
   ],
   "source": [
    "import numpy as np                     #布尔数组索引\n",
    "arr = np.arange(7)\n",
    "booling1 = np.array([True,False,False,True,True,False])\n",
    "print(arr)\n",
    "print(arr[booling1])"
   ]
  },
  {
   "cell_type": "code",
   "execution_count": 33,
   "metadata": {},
   "outputs": [
    {
     "name": "stdout",
     "output_type": "stream",
     "text": [
      "[[ 0  1  2  3]\n",
      " [ 4  5  6  7]\n",
      " [ 8  9 10 11]\n",
      " [12 13 14 15]]\n",
      "-------------------------\n",
      "[ True False  True False]\n",
      "-------------------------\n",
      "[[ 0  1  2  3]\n",
      " [ 8  9 10 11]]\n"
     ]
    }
   ],
   "source": [
    "arr = np.arange(16).reshape((4,4))                     #布尔运算索引\n",
    "print(arr)\n",
    "print(\"-------------------------\")\n",
    "names = np.array(['Ben','Tom','Ben','Jeremy'])\n",
    "print(names == 'Ben')\n",
    "print(\"-------------------------\")\n",
    "print(arr[names == 'Ben'])"
   ]
  },
  {
   "cell_type": "code",
   "execution_count": 34,
   "metadata": {},
   "outputs": [
    {
     "name": "stdout",
     "output_type": "stream",
     "text": [
      "[[ 0  1  2  3]\n",
      " [ 4  5  6  7]\n",
      " [ 8  9 10 11]]\n",
      "----------------\n",
      "[[ 0  0  0  0]\n",
      " [ 0  0  6  7]\n",
      " [ 8  9 10 11]]\n"
     ]
    }
   ],
   "source": [
    "arr = np.arange(12).reshape((3,4))                       #比较运算索引\n",
    "print(arr)\n",
    "arr[arr<=5]=0                     #数组中小于或者等于5的数字归零\n",
    "print(\"----------------\")\n",
    "print(arr)"
   ]
  },
  {
   "cell_type": "markdown",
   "metadata": {},
   "source": [
    "#### ③\t花式索引"
   ]
  },
  {
   "cell_type": "code",
   "execution_count": 35,
   "metadata": {},
   "outputs": [
    {
     "name": "stdout",
     "output_type": "stream",
     "text": [
      "[[ 9 10 11]\n",
      " [ 3  4  5]]\n",
      "-------------------------\n",
      "[7 5]\n"
     ]
    }
   ],
   "source": [
    "import numpy as np                    #花式索引\n",
    "x = np.array([[0,1,2],[3,4,5],[6,7,8],[9,10,11]])  \n",
    "y = np.array([0,1,2,3,4,5,6,7])\n",
    "print(x[[-1,-3]])\n",
    "print(\"-------------------------\")\n",
    "print(y[[-1,-3]])"
   ]
  },
  {
   "cell_type": "markdown",
   "metadata": {},
   "source": [
    "### （3）Numpy数组运算"
   ]
  },
  {
   "cell_type": "markdown",
   "metadata": {},
   "source": [
    "#### ①\t修改数组形状"
   ]
  },
  {
   "cell_type": "code",
   "execution_count": 36,
   "metadata": {},
   "outputs": [
    {
     "name": "stdout",
     "output_type": "stream",
     "text": [
      "原始数组：\n",
      "[0 1 2 3]\n",
      "修改后的数组：\n",
      "[[0 1]\n",
      " [2 3]]\n"
     ]
    }
   ],
   "source": [
    "import numpy as np\n",
    "a = np.arange(4)\n",
    "print ('原始数组：')\n",
    "print (a)\n",
    "b = a.reshape(2,2)         #修改数组为两行两列的数组\n",
    "print ('修改后的数组：')\n",
    "print (b)"
   ]
  },
  {
   "cell_type": "markdown",
   "metadata": {},
   "source": [
    "#### ②\t迭代数组"
   ]
  },
  {
   "cell_type": "code",
   "execution_count": 37,
   "metadata": {},
   "outputs": [
    {
     "name": "stdout",
     "output_type": "stream",
     "text": [
      "原始数组：\n",
      "[0 1]\n",
      "[3 4]\n",
      "迭代后的数组：\n",
      "0\n",
      "1\n",
      "3\n",
      "4\n",
      "按 F顺序展开的数组：\n",
      "[0 3 1 4]\n"
     ]
    }
   ],
   "source": [
    "import numpy as np\n",
    "x = np.array([[0, 1],[3,4]]) \n",
    "print ('原始数组：')\n",
    "for row in x:\n",
    "    print (row)\n",
    "print ('迭代后的数组：')\n",
    "for element in x.flat:\n",
    "    print (element)\n",
    "print ('按 F顺序展开的数组：')\n",
    "print (x.flatten(order = 'F'))"
   ]
  },
  {
   "cell_type": "markdown",
   "metadata": {},
   "source": [
    "#### ③\t转置数组"
   ]
  },
  {
   "cell_type": "code",
   "execution_count": 38,
   "metadata": {},
   "outputs": [
    {
     "name": "stdout",
     "output_type": "stream",
     "text": [
      "原数组：\n",
      "[[ 0  1  2  3]\n",
      " [ 4  5  6  7]\n",
      " [ 8  9 10 11]]\n",
      "转置数组：\n",
      "[[ 0  4  8]\n",
      " [ 1  5  9]\n",
      " [ 2  6 10]\n",
      " [ 3  7 11]]\n"
     ]
    }
   ],
   "source": [
    "import numpy as np\n",
    "a = np.arange(12).reshape(3,4)\n",
    "print ('原数组：')\n",
    "print (a )\n",
    "print ('转置数组：')\n",
    "print (a.T)"
   ]
  },
  {
   "cell_type": "code",
   "execution_count": 39,
   "metadata": {},
   "outputs": [
    {
     "name": "stdout",
     "output_type": "stream",
     "text": [
      "[[[ 0  1  2  3]\n",
      "  [ 4  5  6  7]\n",
      "  [ 8  9 10 11]]\n",
      "\n",
      " [[12 13 14 15]\n",
      "  [16 17 18 19]\n",
      "  [20 21 22 23]]]\n",
      "-------------------------\n",
      "[[[ 0  1  2  3]\n",
      "  [12 13 14 15]]\n",
      "\n",
      " [[ 4  5  6  7]\n",
      "  [16 17 18 19]]\n",
      "\n",
      " [[ 8  9 10 11]\n",
      "  [20 21 22 23]]]\n"
     ]
    }
   ],
   "source": [
    "import numpy as np\n",
    "data = np.arange(24).reshape(2,3,4)\n",
    "print(data)\n",
    "print(\"-------------------------\")\n",
    "print(data.transpose(1,0,2))"
   ]
  },
  {
   "cell_type": "code",
   "execution_count": 40,
   "metadata": {},
   "outputs": [
    {
     "name": "stdout",
     "output_type": "stream",
     "text": [
      "-----data.T result-----\n",
      "[[[ 0 12]\n",
      "  [ 4 16]\n",
      "  [ 8 20]]\n",
      "\n",
      " [[ 1 13]\n",
      "  [ 5 17]\n",
      "  [ 9 21]]\n",
      "\n",
      " [[ 2 14]\n",
      "  [ 6 18]\n",
      "  [10 22]]\n",
      "\n",
      " [[ 3 15]\n",
      "  [ 7 19]\n",
      "  [11 23]]]\n",
      "-----transpose result-----\n",
      "[[[ 0 12]\n",
      "  [ 4 16]\n",
      "  [ 8 20]]\n",
      "\n",
      " [[ 1 13]\n",
      "  [ 5 17]\n",
      "  [ 9 21]]\n",
      "\n",
      " [[ 2 14]\n",
      "  [ 6 18]\n",
      "  [10 22]]\n",
      "\n",
      " [[ 3 15]\n",
      "  [ 7 19]\n",
      "  [11 23]]]\n"
     ]
    }
   ],
   "source": [
    "import numpy as np\n",
    "data = np.arange(24).reshape(2,3,4)\n",
    "print('-----data.T result-----')\n",
    "print(data.T)\n",
    "print('-----transpose result-----')\n",
    "print(data.transpose(2,1,0)) "
   ]
  },
  {
   "cell_type": "code",
   "execution_count": 41,
   "metadata": {},
   "outputs": [
    {
     "name": "stdout",
     "output_type": "stream",
     "text": [
      "-----original data-----\n",
      "[[[ 0  1  2  3]\n",
      "  [ 4  5  6  7]\n",
      "  [ 8  9 10 11]]\n",
      "\n",
      " [[12 13 14 15]\n",
      "  [16 17 18 19]\n",
      "  [20 21 22 23]]]\n",
      "-----transpose result-----\n",
      "[[[ 0  1  2  3]\n",
      "  [12 13 14 15]]\n",
      "\n",
      " [[ 4  5  6  7]\n",
      "  [16 17 18 19]]\n",
      "\n",
      " [[ 8  9 10 11]\n",
      "  [20 21 22 23]]]\n",
      "-----swapaxes result------\n",
      "[[[ 0  1  2  3]\n",
      "  [12 13 14 15]]\n",
      "\n",
      " [[ 4  5  6  7]\n",
      "  [16 17 18 19]]\n",
      "\n",
      " [[ 8  9 10 11]\n",
      "  [20 21 22 23]]]\n"
     ]
    }
   ],
   "source": [
    "import numpy as np\n",
    "data = np.arange(24).reshape(2,3,4)\n",
    "print('-----original data-----')\n",
    "print(data)\n",
    "print('-----transpose result-----')\n",
    "print(data.transpose(1,0,2))\n",
    "print('-----swapaxes result------')\n",
    "print(data.swapaxes(0,1)) "
   ]
  },
  {
   "cell_type": "markdown",
   "metadata": {},
   "source": [
    "#### ④\t广播数组"
   ]
  },
  {
   "cell_type": "code",
   "execution_count": 42,
   "metadata": {},
   "outputs": [
    {
     "name": "stdout",
     "output_type": "stream",
     "text": [
      "[ 10  40  90 160]\n"
     ]
    }
   ],
   "source": [
    "import numpy as np \n",
    "a = np.array([1,2,3,4]) \n",
    "b = np.array([10,20,30,40]) \n",
    "c = a * b \n",
    "print (c)"
   ]
  },
  {
   "cell_type": "code",
   "execution_count": 43,
   "metadata": {},
   "outputs": [
    {
     "name": "stdout",
     "output_type": "stream",
     "text": [
      "[[11 12 13]\n",
      " [21 22 23]\n",
      " [31 32 33]]\n"
     ]
    }
   ],
   "source": [
    "import numpy as np \n",
    "a = np.array([[10,10,10],\n",
    "           [20,20,20],\n",
    "           [30,30,30]])\n",
    "b = np.array([1,2,3])\n",
    "print(a + b)"
   ]
  },
  {
   "cell_type": "code",
   "execution_count": 45,
   "metadata": {},
   "outputs": [
    {
     "ename": "ValueError",
     "evalue": "operands could not be broadcast together with shapes (3,3) (2,) ",
     "output_type": "error",
     "traceback": [
      "\u001b[1;31m---------------------------------------------------------------------------\u001b[0m",
      "\u001b[1;31mValueError\u001b[0m                                Traceback (most recent call last)",
      "\u001b[1;32m<ipython-input-45-311a42d576b5>\u001b[0m in \u001b[0;36m<module>\u001b[1;34m\u001b[0m\n\u001b[0;32m      4\u001b[0m            [30,30,30]])                   #a.shape = (3,3)\n\u001b[0;32m      5\u001b[0m \u001b[0mb\u001b[0m \u001b[1;33m=\u001b[0m \u001b[0mnp\u001b[0m\u001b[1;33m.\u001b[0m\u001b[0marray\u001b[0m\u001b[1;33m(\u001b[0m\u001b[1;33m[\u001b[0m\u001b[1;36m1\u001b[0m\u001b[1;33m,\u001b[0m\u001b[1;36m2\u001b[0m\u001b[1;33m]\u001b[0m\u001b[1;33m)\u001b[0m                      \u001b[1;31m#b.shape = (2,)\u001b[0m\u001b[1;33m\u001b[0m\u001b[1;33m\u001b[0m\u001b[0m\n\u001b[1;32m----> 6\u001b[1;33m \u001b[0mprint\u001b[0m\u001b[1;33m(\u001b[0m\u001b[0ma\u001b[0m \u001b[1;33m+\u001b[0m \u001b[0mb\u001b[0m\u001b[1;33m)\u001b[0m\u001b[1;33m\u001b[0m\u001b[1;33m\u001b[0m\u001b[0m\n\u001b[0m",
      "\u001b[1;31mValueError\u001b[0m: operands could not be broadcast together with shapes (3,3) (2,) "
     ]
    }
   ],
   "source": [
    "import numpy as np \n",
    "a = np.array([[10,10,10],\n",
    "           [20,20,20],\n",
    "           [30,30,30]])                   #a.shape = (3,3)\n",
    "b = np.array([1,2])                      #b.shape = (2,)\n",
    "print(a + b)"
   ]
  },
  {
   "cell_type": "code",
   "execution_count": 46,
   "metadata": {},
   "outputs": [
    {
     "name": "stdout",
     "output_type": "stream",
     "text": [
      "[[1 1 1]\n",
      " [3 3 3]\n",
      " [5 5 5]\n",
      " [7 7 7]]\n"
     ]
    }
   ],
   "source": [
    "import numpy as np\n",
    "a = np.array([[0, 0, 0],[1, 1, 1],[2, 2, 2], [3, 3, 3]])  #a.shape = (4,3)\n",
    "b = np.array([[1],[2],[3],[4]])                         #b.shape = (4, 1)\n",
    "print(a+b)"
   ]
  },
  {
   "cell_type": "code",
   "execution_count": 47,
   "metadata": {},
   "outputs": [
    {
     "name": "stdout",
     "output_type": "stream",
     "text": [
      "[1 2 3]\n",
      "广播后：\n",
      "[[1 2 3]\n",
      " [1 2 3]\n",
      " [1 2 3]\n",
      " [1 2 3]\n",
      " [1 2 3]]\n"
     ]
    }
   ],
   "source": [
    "import numpy as np\n",
    "x = np.array([1, 2, 3])\n",
    "y = np.broadcast_to(x, (5, 3))\n",
    "print(x)\n",
    "print(\"广播后：\")\n",
    "print(y)"
   ]
  },
  {
   "cell_type": "code",
   "execution_count": 48,
   "metadata": {},
   "outputs": [
    {
     "name": "stdout",
     "output_type": "stream",
     "text": [
      "数组 x：\n",
      "[[1 2]\n",
      " [3 4]]\n",
      "数组 y：\n",
      "[[[1 2]\n",
      "  [3 4]]]\n",
      "数组 x,y,z 的形状：\n",
      "(2, 2) (1, 2, 2) (2, 2)\n"
     ]
    }
   ],
   "source": [
    "import numpy as np\n",
    "x = np.array(([1,2],[3,4]))\n",
    "print('数组 x：')\n",
    "print(x)\n",
    "y = np.expand_dims(x, axis = 0)          #为二维数组x添加一个维度\n",
    "print('数组 y：')\n",
    "print(y)\n",
    "z = np.squeeze(y)                          #为三维数组y减少一个维度\n",
    "print('数组 x,y,z 的形状：')\n",
    "print(x.shape, y.shape,z.shape)"
   ]
  },
  {
   "cell_type": "markdown",
   "metadata": {},
   "source": [
    "#### ⑤\t连接数组"
   ]
  },
  {
   "cell_type": "code",
   "execution_count": 49,
   "metadata": {},
   "outputs": [
    {
     "name": "stdout",
     "output_type": "stream",
     "text": [
      "第一个数组：\n",
      "[[1 2]\n",
      " [3 4]]\n",
      "第二个数组：\n",
      "[[5 6]\n",
      " [7 8]]\n"
     ]
    }
   ],
   "source": [
    "import numpy as np\n",
    "a = np.array([[1,2],[3,4]])\n",
    "print('第一个数组：')\n",
    "print(a)\n",
    "b = np.array([[5,6],[7,8]])\n",
    "print('第二个数组：')\n",
    "print(b)"
   ]
  },
  {
   "cell_type": "code",
   "execution_count": 50,
   "metadata": {},
   "outputs": [
    {
     "name": "stdout",
     "output_type": "stream",
     "text": [
      "沿轴 0 连接两个数组：\n",
      "[[1 2]\n",
      " [3 4]\n",
      " [5 6]\n",
      " [7 8]]\n",
      "沿轴 1 连接两个数组：\n",
      "[[1 2 5 6]\n",
      " [3 4 7 8]]\n"
     ]
    }
   ],
   "source": [
    "# 两个数组的维度相同\n",
    "print('沿轴 0 连接两个数组：')\n",
    "print(np.concatenate((a,b)))\n",
    "print('沿轴 1 连接两个数组：')\n",
    "print(np.concatenate((a,b),axis = 1))"
   ]
  },
  {
   "cell_type": "code",
   "execution_count": 51,
   "metadata": {},
   "outputs": [
    {
     "name": "stdout",
     "output_type": "stream",
     "text": [
      "第一个数组：\n",
      "[[1 2]\n",
      " [3 4]]\n"
     ]
    }
   ],
   "source": [
    "import numpy as np\n",
    "a = np.array([[1,2],[3,4]])\n",
    "print ('第一个数组：')\n",
    "print (a)"
   ]
  },
  {
   "cell_type": "code",
   "execution_count": 52,
   "metadata": {},
   "outputs": [
    {
     "name": "stdout",
     "output_type": "stream",
     "text": [
      "第二个数组：\n",
      "[[5 6]\n",
      " [7 8]]\n"
     ]
    }
   ],
   "source": [
    "b = np.array([[5,6],[7,8]])\n",
    "print ('第二个数组：')\n",
    "print (b)"
   ]
  },
  {
   "cell_type": "code",
   "execution_count": 53,
   "metadata": {},
   "outputs": [
    {
     "name": "stdout",
     "output_type": "stream",
     "text": [
      "沿轴 0 堆叠两个数组：\n",
      "[[[1 2]\n",
      "  [3 4]]\n",
      "\n",
      " [[5 6]\n",
      "  [7 8]]]\n"
     ]
    }
   ],
   "source": [
    "print ('沿轴 0 堆叠两个数组：')\n",
    "print (np.stack((a,b),0))"
   ]
  },
  {
   "cell_type": "code",
   "execution_count": 54,
   "metadata": {},
   "outputs": [
    {
     "name": "stdout",
     "output_type": "stream",
     "text": [
      "沿轴 1 堆叠两个数组：\n",
      "[[[1 2]\n",
      "  [5 6]]\n",
      "\n",
      " [[3 4]\n",
      "  [7 8]]]\n"
     ]
    }
   ],
   "source": [
    "print ('沿轴 1 堆叠两个数组：')\n",
    "print (np.stack((a,b),1))"
   ]
  },
  {
   "cell_type": "code",
   "execution_count": 55,
   "metadata": {},
   "outputs": [
    {
     "name": "stdout",
     "output_type": "stream",
     "text": [
      "水平堆叠：\n",
      "[[1 2 5 6]\n",
      " [3 4 7 8]]\n"
     ]
    }
   ],
   "source": [
    "print ('水平堆叠：')\n",
    "c = np.hstack((a,b))\n",
    "print (c)"
   ]
  },
  {
   "cell_type": "code",
   "execution_count": 56,
   "metadata": {},
   "outputs": [
    {
     "name": "stdout",
     "output_type": "stream",
     "text": [
      "竖直堆叠：\n",
      "[[1 2]\n",
      " [3 4]\n",
      " [5 6]\n",
      " [7 8]]\n"
     ]
    }
   ],
   "source": [
    "print ('竖直堆叠：')\n",
    "d = np.vstack((a,b))\n",
    "print (d)"
   ]
  },
  {
   "cell_type": "markdown",
   "metadata": {},
   "source": [
    "#### ⑥\t分割数组"
   ]
  },
  {
   "cell_type": "code",
   "execution_count": 57,
   "metadata": {},
   "outputs": [
    {
     "name": "stdout",
     "output_type": "stream",
     "text": [
      "第一个数组：\n",
      "[[ 0  1  2  3]\n",
      " [ 4  5  6  7]\n",
      " [ 8  9 10 11]\n",
      " [12 13 14 15]]\n"
     ]
    }
   ],
   "source": [
    "import numpy as np\n",
    "a = np.arange(16).reshape(4,4)\n",
    "print ('第一个数组：')\n",
    "print (a)"
   ]
  },
  {
   "cell_type": "code",
   "execution_count": 58,
   "metadata": {},
   "outputs": [
    {
     "name": "stdout",
     "output_type": "stream",
     "text": [
      "将数组分为两个大小相等的子数组：\n",
      "[array([[0, 1, 2, 3],\n",
      "       [4, 5, 6, 7]]), array([[ 8,  9, 10, 11],\n",
      "       [12, 13, 14, 15]])]\n"
     ]
    }
   ],
   "source": [
    "print ('将数组分为两个大小相等的子数组：')\n",
    "b = np.split(a,2)\n",
    "print (b)"
   ]
  },
  {
   "cell_type": "code",
   "execution_count": 59,
   "metadata": {},
   "outputs": [
    {
     "name": "stdout",
     "output_type": "stream",
     "text": [
      "将数组在一维数组中标的位置分割：\n",
      "[array([[0, 1, 2, 3],\n",
      "       [4, 5, 6, 7]]), array([[ 8,  9, 10, 11],\n",
      "       [12, 13, 14, 15]]), array([], shape=(0, 4), dtype=int32)]\n"
     ]
    }
   ],
   "source": [
    "print ('将数组在一维数组中标的位置分割：')\n",
    "b = np.split(a,[2,4])\n",
    "print (b)"
   ]
  },
  {
   "cell_type": "code",
   "execution_count": 60,
   "metadata": {},
   "outputs": [
    {
     "name": "stdout",
     "output_type": "stream",
     "text": [
      "按水平拆分后：\n",
      "[array([[ 0,  1],\n",
      "       [ 4,  5],\n",
      "       [ 8,  9],\n",
      "       [12, 13]]), array([[ 2,  3],\n",
      "       [ 6,  7],\n",
      "       [10, 11],\n",
      "       [14, 15]])]\n"
     ]
    }
   ],
   "source": [
    "print ('按水平拆分后：')\n",
    "print(np.hsplit(a, 2))"
   ]
  },
  {
   "cell_type": "code",
   "execution_count": 61,
   "metadata": {},
   "outputs": [
    {
     "name": "stdout",
     "output_type": "stream",
     "text": [
      "按垂直拆分后：\n",
      "[array([[0, 1, 2, 3],\n",
      "       [4, 5, 6, 7]]), array([[ 8,  9, 10, 11],\n",
      "       [12, 13, 14, 15]])]\n"
     ]
    }
   ],
   "source": [
    "print ('按垂直拆分后：')\n",
    "print(np.vsplit(a, 2))"
   ]
  },
  {
   "cell_type": "markdown",
   "metadata": {},
   "source": [
    "#### ⑦\t添加与删除数组元素"
   ]
  },
  {
   "cell_type": "code",
   "execution_count": 62,
   "metadata": {},
   "outputs": [
    {
     "name": "stdout",
     "output_type": "stream",
     "text": [
      "第一个数组：\n",
      "[[6 5 4]\n",
      " [3 2 1]]\n",
      "第一个数组的形状：\n",
      "(2, 3)\n"
     ]
    }
   ],
   "source": [
    "import numpy as np\n",
    "a = np.array([[6,5,4],[3,2,1]])\n",
    "print ('第一个数组：')\n",
    "print (a)\n",
    "print ('第一个数组的形状：')\n",
    "print (a.shape)\n",
    "b = np.resize(a, (3,2))"
   ]
  },
  {
   "cell_type": "code",
   "execution_count": 63,
   "metadata": {},
   "outputs": [
    {
     "name": "stdout",
     "output_type": "stream",
     "text": [
      "第二个数组：\n",
      "[[6 5]\n",
      " [4 3]\n",
      " [2 1]]\n",
      "第二个数组的形状：\n",
      "(3, 2)\n"
     ]
    }
   ],
   "source": [
    "print ('第二个数组：')\n",
    "print (b)\n",
    "print ('第二个数组的形状：')\n",
    "print (b.shape)"
   ]
  },
  {
   "cell_type": "code",
   "execution_count": 64,
   "metadata": {},
   "outputs": [
    {
     "name": "stdout",
     "output_type": "stream",
     "text": [
      "修改第二个数组的大小：\n",
      "[[6 5 4]\n",
      " [3 2 1]\n",
      " [6 5 4]]\n"
     ]
    }
   ],
   "source": [
    "# 要注意 a 的第一行在 b 中重复出现，因为尺寸变大了\n",
    "print ('修改第二个数组的大小：')\n",
    "b = np.resize(a,(3,3))\n",
    "print (b)"
   ]
  },
  {
   "cell_type": "code",
   "execution_count": 65,
   "metadata": {},
   "outputs": [
    {
     "name": "stdout",
     "output_type": "stream",
     "text": [
      "第一个数组：\n",
      "[[1 2 3]\n",
      " [4 5 6]]\n"
     ]
    }
   ],
   "source": [
    "import numpy as np\n",
    "a = np.array([[1,2,3],[4,5,6]])\n",
    "print ('第一个数组：')\n",
    "print (a)"
   ]
  },
  {
   "cell_type": "code",
   "execution_count": 66,
   "metadata": {},
   "outputs": [
    {
     "name": "stdout",
     "output_type": "stream",
     "text": [
      "向数组添加元素：\n",
      "[1 2 3 4 5 6 7 8 9]\n"
     ]
    }
   ],
   "source": [
    "print ('向数组添加元素：')\n",
    "print (np.append(a, [7,8,9]))"
   ]
  },
  {
   "cell_type": "code",
   "execution_count": 67,
   "metadata": {},
   "outputs": [
    {
     "name": "stdout",
     "output_type": "stream",
     "text": [
      "沿轴 0 添加元素：\n",
      "[[1 2 3]\n",
      " [4 5 6]\n",
      " [7 8 9]]\n"
     ]
    }
   ],
   "source": [
    "print ('沿轴 0 添加元素：')\n",
    "print (np.append(a, [[7,8,9]],axis = 0))"
   ]
  },
  {
   "cell_type": "code",
   "execution_count": 68,
   "metadata": {},
   "outputs": [
    {
     "name": "stdout",
     "output_type": "stream",
     "text": [
      "沿轴 1 添加元素：\n",
      "[[1 2 3 5 5 5]\n",
      " [4 5 6 7 8 9]]\n"
     ]
    }
   ],
   "source": [
    "print ('沿轴 1 添加元素：')\n",
    "print (np.append(a, [[5,5,5],[7,8,9]],axis = 1))"
   ]
  },
  {
   "cell_type": "code",
   "execution_count": 69,
   "metadata": {},
   "outputs": [
    {
     "name": "stdout",
     "output_type": "stream",
     "text": [
      "第一个数组：\n",
      "[[1 2]\n",
      " [3 4]\n",
      " [5 6]]\n"
     ]
    }
   ],
   "source": [
    "import numpy as np\n",
    "a = np.array([[1,2],[3,4],[5,6]])\n",
    "print ('第一个数组：')\n",
    "print (a)"
   ]
  },
  {
   "cell_type": "code",
   "execution_count": 70,
   "metadata": {},
   "outputs": [
    {
     "name": "stdout",
     "output_type": "stream",
     "text": [
      "不传递 Axis 参数：\n",
      "[ 1  2  3 11 12  4  5  6]\n"
     ]
    }
   ],
   "source": [
    "print ('不传递 Axis 参数：')\n",
    "print (np.insert(a,3,[11,12]))"
   ]
  },
  {
   "cell_type": "code",
   "execution_count": 71,
   "metadata": {},
   "outputs": [
    {
     "name": "stdout",
     "output_type": "stream",
     "text": [
      "传递 Axis 参数：\n",
      "沿轴 0 ：\n",
      "[[ 1  2]\n",
      " [11 11]\n",
      " [ 3  4]\n",
      " [ 5  6]]\n",
      "沿轴 1 ：\n",
      "[[ 1 11  2]\n",
      " [ 3 11  4]\n",
      " [ 5 11  6]]\n"
     ]
    }
   ],
   "source": [
    "print ('传递 Axis 参数：')\n",
    "print ('沿轴 0 ：')\n",
    "print (np.insert(a,1,[11],axis = 0))\n",
    "print ('沿轴 1 ：')\n",
    "print (np.insert(a,1,11,axis = 1))"
   ]
  },
  {
   "cell_type": "code",
   "execution_count": 72,
   "metadata": {},
   "outputs": [
    {
     "name": "stdout",
     "output_type": "stream",
     "text": [
      "第一个数组：\n",
      "[[0 1 2 3]\n",
      " [4 5 6 7]]\n",
      "未传递 Axis 参数：\n",
      "[0 1 2 3 4 6 7]\n",
      "删除第二列：\n",
      "[[0 2 3]\n",
      " [4 6 7]]\n"
     ]
    }
   ],
   "source": [
    "import numpy as np\n",
    "a = np.arange(8).reshape(2,4)\n",
    "print ('第一个数组：')\n",
    "print (a)\n",
    "print ('未传递 Axis 参数：')\n",
    "print (np.delete(a,5))\n",
    "print ('删除第二列：')\n",
    "print (np.delete(a,1,axis = 1))"
   ]
  },
  {
   "cell_type": "code",
   "execution_count": 73,
   "metadata": {},
   "outputs": [
    {
     "name": "stdout",
     "output_type": "stream",
     "text": [
      "第一个数组：\n",
      "[1 3 7 4 5 2 6 2 7 5 6 8 2 9]\n",
      "去重数组：\n",
      "[1 2 3 4 5 6 7 8 9]\n"
     ]
    }
   ],
   "source": [
    "import numpy as np\n",
    "a = np.array([1,3,7,4,5,2,6,2,7,5,6,8,2,9])\n",
    "print ('第一个数组：')\n",
    "print (a)\n",
    "print ('去重数组：')\n",
    "u = np.unique(a)\n",
    "print (u)"
   ]
  },
  {
   "cell_type": "code",
   "execution_count": 74,
   "metadata": {},
   "outputs": [
    {
     "name": "stdout",
     "output_type": "stream",
     "text": [
      "去重数组元素在原数组中的下标：\n",
      "[ 0  5  1  3  4  6  2 11 13]\n"
     ]
    }
   ],
   "source": [
    "print ('去重数组元素在原数组中的下标：')\n",
    "u,indices = np.unique(a, return_index = True)\n",
    "print (indices)"
   ]
  },
  {
   "cell_type": "code",
   "execution_count": 75,
   "metadata": {},
   "outputs": [
    {
     "name": "stdout",
     "output_type": "stream",
     "text": [
      "原数组元素在去重数组中的下标：\n",
      "[0 2 6 3 4 1 5 1 6 4 5 7 1 8]\n",
      "使用下标重构原数组：\n",
      "[1 3 7 4 5 2 6 2 7 5 6 8 2 9]\n",
      "返回去重元素的重复数量：\n",
      "[1 2 3 4 5 6 7 8 9]\n",
      "[1 3 1 1 2 2 2 1 1]\n"
     ]
    }
   ],
   "source": [
    "print ('原数组元素在去重数组中的下标：')\n",
    "u,indices = np.unique(a,return_inverse = True)\n",
    "print (indices)\n",
    "print ('使用下标重构原数组：')\n",
    "print (u[indices])\n",
    "print ('返回去重元素的重复数量：')\n",
    "u,indices = np.unique(a,return_counts = True)\n",
    "print (u)\n",
    "print (indices)"
   ]
  },
  {
   "cell_type": "markdown",
   "metadata": {},
   "source": [
    "### （4）Numpy数组元素位运算"
   ]
  },
  {
   "cell_type": "code",
   "execution_count": 76,
   "metadata": {},
   "outputs": [
    {
     "name": "stdout",
     "output_type": "stream",
     "text": [
      "12 和 15 的二进制形式：\n",
      "0b1101 0b10001\n",
      "12 和 15 的位与：\n",
      "12\n",
      "12 和 15 的位或：\n",
      "15\n",
      "12 的按位取反\n",
      "[-13]\n",
      "将 12 左移两位：\n",
      "48\n",
      "将 12 右移两位：\n",
      "3\n"
     ]
    }
   ],
   "source": [
    "import numpy as np \n",
    "print ('12 和 15 的二进制形式：')\n",
    "a,b = 13,17\n",
    "print (bin(a), bin(b))\n",
    "print ('12 和 15 的位与：')\n",
    "print (np.bitwise_and(12, 15))\n",
    "print ('12 和 15 的位或：')\n",
    "print (np.bitwise_or(12, 15))\n",
    "print ('12 的按位取反')\n",
    "print (np.invert(np.array([12])))\n",
    "print ('将 12 左移两位：')\n",
    "print (np.left_shift(12,2))\n",
    "print ('将 12 右移两位：')\n",
    "print (np.right_shift(12,2))"
   ]
  },
  {
   "cell_type": "markdown",
   "metadata": {},
   "source": [
    "## 11.2.4 Numpy字符串函数"
   ]
  },
  {
   "cell_type": "code",
   "execution_count": 78,
   "metadata": {},
   "outputs": [
    {
     "name": "stdout",
     "output_type": "stream",
     "text": [
      "applethis is, A pEN\n",
      "appleapple\n",
      "-------apple--------\n",
      "This is, a pen\n",
      "This Is, A Pen\n",
      "this is, a pen\n",
      "THIS IS, A PEN\n",
      "['this', 'is,', 'A', 'pEN']\n",
      "['this is', ' A pEN']\n",
      "pple\n",
      "['a^p^p^l^e']\n",
      "['a-p-p-l-e' 't-h-i-s- -i-s-,- -A- -p-E-N']\n",
      "ammle\n",
      "b'\\x81\\x97\\x97\\x93\\x85'\n",
      "apple\n"
     ]
    }
   ],
   "source": [
    "import numpy as np \n",
    "str1 = \"apple\"\n",
    "str2 = \"this is, A pEN\"\n",
    "print(np.char.add(str1,str2))           #连接str1与str2\n",
    "print(np.char.multiply(str1,2))         #复制2次str1\n",
    "print(np.char.center(str1,20,'-'))      #str1居中，用-填充\n",
    "print(np.char.capitalize(str2))         #str2首字母大写\n",
    "print(np.char.title(str2))              #str2所有单词的首字母大写\n",
    "print(np.char.lower(str2))              #str2所有单词的字母小写\n",
    "print(np.char.upper(str2))              #str2所有单词的字母大写\n",
    "print(np.char.split(str2))              #空格分隔str2所有单词\n",
    "print(np.char.split(str2,','))          #','分隔str2所有单词\n",
    "print(np.char.strip(str1,'a'))          #移除str1的首字母a\n",
    "print(np.char.join(['^'],str1))         #用^连接str1\n",
    "print(np.char.join(['-'],[str1,str2]))  #用-连接str1和str2\n",
    "print(np.char.replace(str1,\"pp\",\"mm\"))  #用mm替换apple中的pp\n",
    "a = np.char.encode('apple','cp500')\n",
    "print(a)    #对'apple'进行编码\n",
    "print(np.char.decode(a,'cp500'))        #解码"
   ]
  },
  {
   "cell_type": "markdown",
   "metadata": {},
   "source": [
    "## 11.2.5 Numpy计算函数"
   ]
  },
  {
   "cell_type": "markdown",
   "metadata": {},
   "source": [
    "### （1）算术函数"
   ]
  },
  {
   "cell_type": "code",
   "execution_count": 79,
   "metadata": {},
   "outputs": [
    {
     "name": "stdout",
     "output_type": "stream",
     "text": [
      "第一个数组：\n",
      "[[0. 1. 2. 3.]\n",
      " [4. 5. 6. 7.]]\n",
      "第二个数组：\n",
      "[3 3 3 3]\n",
      "两个数组相加：\n",
      "[[ 3.  4.  5.  6.]\n",
      " [ 7.  8.  9. 10.]]\n",
      "两个数组相减：\n",
      "[[-3. -2. -1.  0.]\n",
      " [ 1.  2.  3.  4.]]\n",
      "两个数组相乘：\n",
      "[[ 0.  3.  6.  9.]\n",
      " [12. 15. 18. 21.]]\n",
      "两个数组相除：\n",
      "[[0.         0.33333333 0.66666667 1.        ]\n",
      " [1.33333333 1.66666667 2.         2.33333333]]\n",
      "返回第二个数组的倒数\n",
      "[0 0 0 0]\n",
      "第二个数组作为第一个数组的幂进行计算\n",
      "[[  0.   1.   8.  27.]\n",
      " [ 64. 125. 216. 343.]]\n",
      "两个数组相除后的余数：\n",
      "[[0. 1. 2. 0.]\n",
      " [1. 2. 0. 1.]]\n",
      "两个数组相除后的余数：\n",
      "[[0. 1. 2. 0.]\n",
      " [1. 2. 0. 1.]]\n"
     ]
    }
   ],
   "source": [
    "import numpy as np \n",
    "a = np.arange(8, dtype = np.float_).reshape(2,4)  \n",
    "print ('第一个数组：')\n",
    "print (a)\n",
    "print ('第二个数组：')\n",
    "b = np.array([3,3,3,3])  \n",
    "print (b)\n",
    "print ('两个数组相加：')\n",
    "print (np.add(a,b))\n",
    "print ('两个数组相减：')\n",
    "print (np.subtract(a,b))\n",
    "print ('两个数组相乘：')\n",
    "print (np.multiply(a,b))\n",
    "print ('两个数组相除：')\n",
    "print (np.divide(a,b))\n",
    "print ('返回第二个数组的倒数')\n",
    "print (np.reciprocal(b))\n",
    "print ('第二个数组作为第一个数组的幂进行计算')\n",
    "print (np.power(a,b))\n",
    "print ('两个数组相除后的余数：')\n",
    "print (np.mod(a,b))\n",
    "print ('两个数组相除后的余数：')\n",
    "print (np.remainder(a,b))"
   ]
  },
  {
   "cell_type": "markdown",
   "metadata": {},
   "source": [
    "### （2）数学函数"
   ]
  },
  {
   "cell_type": "markdown",
   "metadata": {},
   "source": [
    "#### •\t三角函数"
   ]
  },
  {
   "cell_type": "code",
   "execution_count": 80,
   "metadata": {},
   "outputs": [
    {
     "name": "stdout",
     "output_type": "stream",
     "text": [
      "角的正弦值 [0.         0.5        0.70710678 0.8660254 ]\n",
      "角的余弦值 [1.         0.8660254  0.70710678 0.5       ]\n",
      "角的正切值 [0.         0.57735027 1.         1.73205081]\n",
      "计算角度的反正弦，返回值以弧度为单位：\n",
      "[0.         0.52359878 0.78539816 1.04719755]\n",
      "通过转化为角度制来检查结果：\n",
      "[ 0. 30. 45. 60.]\n",
      "计算角度的反余弦，返回值以弧度为单位：\n",
      "[0.         0.52359878 0.78539816 1.04719755]\n",
      "计算角度的反正切，返回值以弧度为单位：\n",
      "[0.         0.52359878 0.78539816 1.04719755]\n"
     ]
    }
   ],
   "source": [
    "import numpy as np  \n",
    "arr = np.array([0,30,45,60])  \n",
    "print(\"角的正弦值\",end=' ')  \n",
    "sin = np.sin(arr * np.pi/180)\n",
    "print(sin)  \n",
    "print(\"角的余弦值\",end=' ')  \n",
    "cos = np.cos(arr * np.pi/180)\n",
    "print(cos)  \n",
    "print(\"角的正切值\",end=' ')  \n",
    "tan = np.tan(arr * np.pi/180)\n",
    "print(tan)\n",
    "print ('计算角度的反正弦，返回值以弧度为单位：')\n",
    "arcsin = np.arcsin(sin)  \n",
    "print(arcsin)\n",
    "print ('通过转化为角度制来检查结果：')\n",
    "print (np.degrees(arcsin))\n",
    "print ('计算角度的反余弦，返回值以弧度为单位：')\n",
    "print(np.arccos(cos))\n",
    "print ('计算角度的反正切，返回值以弧度为单位：')\n",
    "print(np.arctan(tan))"
   ]
  },
  {
   "cell_type": "markdown",
   "metadata": {},
   "source": [
    "#### •\t舍入函数"
   ]
  },
  {
   "cell_type": "code",
   "execution_count": 81,
   "metadata": {},
   "outputs": [
    {
     "name": "stdout",
     "output_type": "stream",
     "text": [
      "原数组：\n",
      "[  1.      5.55  123.     -0.2     0.567  25.532]\n",
      "舍入后：\n",
      "[  1.   6. 123.  -0.   1.  26.]\n",
      "[  1.    5.6 123.   -0.2   0.6  25.5]\n",
      "[  0.  10. 120.  -0.   0.  30.]\n",
      "向下取整：\n",
      "[  1.   5. 123.  -1.   0.  25.]\n",
      "向上取整：\n",
      "[  1.   6. 123.  -0.   1.  26.]\n"
     ]
    }
   ],
   "source": [
    "import numpy as np\n",
    "a = np.array([1.0,5.55,123,-0.2,0.567,25.532])  \n",
    "print  ('原数组：')\n",
    "print (a)\n",
    "print ('舍入后：')\n",
    "print (np.around(a))\n",
    "print (np.around(a, decimals =  1))\n",
    "print (np.around(a, decimals =  -1))\n",
    "print ('向下取整：')\n",
    "print (np.floor(a))\n",
    "print ('向上取整：')\n",
    "print (np.ceil(a))"
   ]
  },
  {
   "cell_type": "markdown",
   "metadata": {},
   "source": [
    "### （3）统计函数"
   ]
  },
  {
   "cell_type": "code",
   "execution_count": 82,
   "metadata": {},
   "outputs": [
    {
     "name": "stdout",
     "output_type": "stream",
     "text": [
      "原始数组是：\n",
      "[[3 7 5]\n",
      " [8 4 3]\n",
      " [2 4 9]]\n",
      " amin() 函数查看轴1的最小值：\n",
      "[3 3 2]\n",
      " amin() 函数查看轴0的最小值：\n",
      "[2 4 3]\n",
      " amax() 函数查看整个数组的最大值：\n",
      "9\n",
      "amax() 函数查看轴0的最大值：\n",
      "[8 7 9]\n"
     ]
    }
   ],
   "source": [
    "import numpy as np \n",
    "a = np.array([[3,7,5],[8,4,3],[2,4,9]])  \n",
    "print('原始数组是：')\n",
    "print(a)\n",
    "print(' amin() 函数查看轴1的最小值：')\n",
    "print(np.amin(a,1))\n",
    "print(' amin() 函数查看轴0的最小值：')\n",
    "print(np.amin(a,0))\n",
    "print(' amax() 函数查看整个数组的最大值：')\n",
    "print(np.amax(a))\n",
    "print('amax() 函数查看轴0的最大值：')\n",
    "print(np.amax(a, axis =  0))"
   ]
  },
  {
   "cell_type": "code",
   "execution_count": 83,
   "metadata": {},
   "outputs": [
    {
     "name": "stdout",
     "output_type": "stream",
     "text": [
      "原始数组是：\n",
      "[[3 7 5]\n",
      " [8 4 3]\n",
      " [2 4 9]]\n"
     ]
    }
   ],
   "source": [
    "import numpy as np \n",
    "a = np.array([[3,7,5],[8,4,3],[2,4,9]])  \n",
    "print('原始数组是：')\n",
    "print(a)"
   ]
  },
  {
   "cell_type": "code",
   "execution_count": 84,
   "metadata": {},
   "outputs": [
    {
     "name": "stdout",
     "output_type": "stream",
     "text": [
      "调用 ptp() 函数：\n",
      "7\n",
      "沿轴 1 调用 ptp() 函数：\n",
      "[4 5 7]\n",
      "沿轴 0 调用 ptp() 函数：\n",
      "[6 3 6]\n"
     ]
    }
   ],
   "source": [
    "print('调用 ptp() 函数：')\n",
    "print(np.ptp(a))\n",
    "print('沿轴 1 调用 ptp() 函数：')\n",
    "print(np.ptp(a, axis =  1))\n",
    "print('沿轴 0 调用 ptp() 函数：')\n",
    "print(np.ptp(a, axis =  0))"
   ]
  },
  {
   "cell_type": "code",
   "execution_count": 85,
   "metadata": {},
   "outputs": [
    {
     "name": "stdout",
     "output_type": "stream",
     "text": [
      "原始数组是：\n",
      "[[10  7  4]\n",
      " [ 3  2  1]]\n",
      "调用 percentile() 函数求数组的中位数：\n",
      "3.5\n",
      "在纵列上求中位数：\n",
      "[6.5 4.5 2.5]\n",
      "在横行上求中位数：\n",
      "[7. 2.]\n",
      "在横行上求中位数且保持维度不变：\n",
      "[[7.]\n",
      " [2.]]\n"
     ]
    }
   ],
   "source": [
    "import numpy as np \n",
    "a = np.array([[10, 7, 4], [3, 2, 1]])\n",
    "print('原始数组是：')\n",
    "print(a)\n",
    "print('调用 percentile() 函数求数组的中位数：')\n",
    "print(np.percentile(a, 50))     # 50% 的分位数，就是 a 里排序之后的中位数\n",
    "print('在纵列上求中位数：')\n",
    "print(np.percentile(a, 50, axis=0))    # axis 为 0，在纵列上求\n",
    "print('在横行上求中位数：')\n",
    "print(np.percentile(a, 50, axis=1))    # axis 为 1，在横行上求\n",
    "print('在横行上求中位数且保持维度不变：')\n",
    "print(np.percentile(a, 50, axis=1, keepdims=True))    # 保持维度不变"
   ]
  },
  {
   "cell_type": "code",
   "execution_count": 86,
   "metadata": {},
   "outputs": [
    {
     "name": "stdout",
     "output_type": "stream",
     "text": [
      "原始数组是：\n",
      "[[30 65 70]\n",
      " [80 95 10]\n",
      " [50 90 60]]\n",
      "调用 median() 函数：\n",
      "65.0\n",
      "沿轴 0 调用 median() 函数：\n",
      "[50. 90. 60.]\n",
      "沿轴 1 调用 median() 函数：\n",
      "[65. 80. 60.]\n"
     ]
    }
   ],
   "source": [
    "import numpy as np \n",
    "a = np.array([[30,65,70],[80,95,10],[50,90,60]])  \n",
    "print('原始数组是：')\n",
    "print(a)\n",
    "print('调用 median() 函数：')\n",
    "print(np.median(a))\n",
    "print('沿轴 0 调用 median() 函数：')\n",
    "print(np.median(a, axis =  0))\n",
    "print('沿轴 1 调用 median() 函数：')\n",
    "print(np.median(a, axis =  1))"
   ]
  },
  {
   "cell_type": "code",
   "execution_count": 87,
   "metadata": {},
   "outputs": [
    {
     "name": "stdout",
     "output_type": "stream",
     "text": [
      "原始数组是：\n",
      "[[1 2 3]\n",
      " [3 4 5]\n",
      " [4 5 6]]\n",
      "调用 mean() 函数：\n",
      "3.6666666666666665\n",
      "沿轴 0 调用 mean() 函数：\n",
      "[2.66666667 3.66666667 4.66666667]\n",
      "沿轴 1 调用 mean() 函数：\n",
      "[2. 4. 5.]\n"
     ]
    }
   ],
   "source": [
    "import numpy as np \n",
    "a = np.array([[1,2,3],[3,4,5],[4,5,6]])  \n",
    "print('原始数组是：')\n",
    "print(a)\n",
    "print('调用 mean() 函数：')\n",
    "print(np.mean(a))\n",
    "print('沿轴 0 调用 mean() 函数：')\n",
    "print(np.mean(a, axis =  0))\n",
    "print('沿轴 1 调用 mean() 函数：')\n",
    "print(np.mean(a, axis =  1))"
   ]
  },
  {
   "cell_type": "code",
   "execution_count": 88,
   "metadata": {},
   "outputs": [
    {
     "name": "stdout",
     "output_type": "stream",
     "text": [
      "原始数组是：\n",
      "[1 2 3 4]\n",
      "调用 average() 函数：\n",
      "2.5\n",
      "赋权重后，再次调用 average() 函数：\n",
      "2.0\n"
     ]
    }
   ],
   "source": [
    "import numpy as np \n",
    "a = np.array([1,2,3,4])  \n",
    "print('原始数组是：')\n",
    "print(a)\n",
    "print('调用 average() 函数：')\n",
    "print(np.average(a))\n",
    "print('赋权重后，再次调用 average() 函数：')\n",
    "print(np.average(a,weights = [4,3,2,1]))"
   ]
  },
  {
   "cell_type": "code",
   "execution_count": 89,
   "metadata": {},
   "outputs": [
    {
     "name": "stdout",
     "output_type": "stream",
     "text": [
      "1.25\n"
     ]
    }
   ],
   "source": [
    "import numpy as np\n",
    "print(np.var([1,2,3,4]))"
   ]
  },
  {
   "cell_type": "code",
   "execution_count": 90,
   "metadata": {},
   "outputs": [
    {
     "name": "stdout",
     "output_type": "stream",
     "text": [
      "1.118033988749895\n"
     ]
    }
   ],
   "source": [
    "import numpy as np \n",
    "print(np.std([1,2,3,4]))"
   ]
  },
  {
   "cell_type": "markdown",
   "metadata": {},
   "source": [
    "## 11.2.6 Numpy其他函数"
   ]
  },
  {
   "cell_type": "markdown",
   "metadata": {},
   "source": [
    "### （1）字节交换"
   ]
  },
  {
   "cell_type": "code",
   "execution_count": 91,
   "metadata": {},
   "outputs": [
    {
     "name": "stdout",
     "output_type": "stream",
     "text": [
      "数组： [   1  225 6666]\n",
      "以十六进制表示内存中的数据： <map object at 0x00000248B9C88DA0>\n",
      "调用 byteswap() 函数： [  256 -7936  2586]\n",
      "十六进制形式： <map object at 0x00000248B9C88198>\n"
     ]
    }
   ],
   "source": [
    "import numpy as np \n",
    "a = np.array([1,225,6666], dtype = np.int16)  \n",
    "print('数组：',end=' ')\n",
    "print(a)\n",
    "print('以十六进制表示内存中的数据：',end=' ')\n",
    "print(map(hex,a))\n",
    "# byteswap() 函数通过传入 true 来原地交换 \n",
    "print('调用 byteswap() 函数：',end=' ')\n",
    "print(a.byteswap(True))\n",
    "print('十六进制形式：',end=' ')\n",
    "print(map(hex,a))"
   ]
  },
  {
   "cell_type": "markdown",
   "metadata": {},
   "source": [
    "### （2）线性代数"
   ]
  },
  {
   "cell_type": "code",
   "execution_count": 92,
   "metadata": {},
   "outputs": [
    {
     "name": "stdout",
     "output_type": "stream",
     "text": [
      "[2 3 4 5 6 7]\n",
      "[7 8 6 6 9 2]\n",
      "160\n"
     ]
    }
   ],
   "source": [
    "import numpy as np\n",
    "x=np.array([2, 3, 4, 5, 6, 7])#等价于:x=np.arange(2,8)\n",
    "y=np.random.randint(0,10,6)\n",
    "print(x)\n",
    "print(y)\n",
    "print(np.dot(x,y))"
   ]
  },
  {
   "cell_type": "code",
   "execution_count": 93,
   "metadata": {},
   "outputs": [
    {
     "name": "stdout",
     "output_type": "stream",
     "text": [
      "[0 1 2 3 4]\n",
      "[[6]\n",
      " [5]\n",
      " [7]\n",
      " [0]\n",
      " [7]]\n",
      "x.shape:(5,)\n",
      "y.shape(5, 1)\n",
      "[47]\n"
     ]
    }
   ],
   "source": [
    "import numpy as np\n",
    "x=np.arange(0,5)\n",
    "y=np.random.randint(0,10,size=(5,1))\n",
    "print(x)\n",
    "print(y)\n",
    "print(\"x.shape:\"+str(x.shape))\n",
    "print(\"y.shape\"+str(y.shape))\n",
    "print(np.dot(x,y))"
   ]
  },
  {
   "cell_type": "code",
   "execution_count": 98,
   "metadata": {},
   "outputs": [
    {
     "name": "stdout",
     "output_type": "stream",
     "text": [
      "[[0 1 2]\n",
      " [3 4 5]]\n",
      "[[1 5]\n",
      " [5 5]\n",
      " [3 9]]\n",
      "x.shape:(2, 3)\n",
      "y.shape(3, 2)\n",
      "[[11 23]\n",
      " [38 80]]\n"
     ]
    }
   ],
   "source": [
    "import numpy as np\n",
    "x=np.arange(0,6).reshape(2,3)\n",
    "y=np.random.randint(0,10,size=(3,2))\n",
    "print(x)\n",
    "print(y)\n",
    "print( \"x.shape:\"+ str(x.shape))\n",
    "print (\"y.shape\" + str(y.shape))\n",
    "print (np.dot(x,y))"
   ]
  },
  {
   "cell_type": "markdown",
   "metadata": {},
   "source": [
    "### （3）排序函数"
   ]
  },
  {
   "cell_type": "code",
   "execution_count": 99,
   "metadata": {},
   "outputs": [
    {
     "name": "stdout",
     "output_type": "stream",
     "text": [
      "按行排序：\n",
      "[[ 0  1 14]\n",
      " [ 4 12 48]\n",
      " [ 7 18 99]]\n",
      "按列排序：\n",
      "[[ 0 12 48]\n",
      " [ 4 14 18]\n",
      " [ 1  7 99]]\n",
      "按name排序：\n",
      "[(b'Bob', 17) (b'Jane', 27) (b'Mike', 21) (b'Nancy', 25)]\n",
      "按age排序：\n",
      "[(b'Bob', 17) (b'Mike', 21) (b'Nancy', 25) (b'Jane', 27)]\n"
     ]
    }
   ],
   "source": [
    "import numpy as np\n",
    "x=np.array([[0,12,48],[4,18,14],[7,1,99]])\n",
    "np.sort(x)\n",
    "print(\"按行排序：\")\n",
    "print(np.sort(x,axis=0))\n",
    "print(\"按列排序：\")\n",
    "print(np.sort(x,axis=1))\n",
    "x.sort()\n",
    "dt = np.dtype([('name',  'S10'),('age',  int)]) \n",
    "a = np.array([(\"Mike\",21),(\"Nancy\",25),(\"Bob\",17),(\"Jane\",27)], dtype = dt)\n",
    "print(\"按name排序：\")\n",
    "print(np.sort(a, order =  'name'))\n",
    "print(\"按age排序：\")\n",
    "print(np.sort(a, order =  'age'))"
   ]
  },
  {
   "cell_type": "markdown",
   "metadata": {},
   "source": [
    "## 11.2.7 Numpy副本和视图"
   ]
  },
  {
   "cell_type": "markdown",
   "metadata": {},
   "source": [
    "## 11.2.8 Numpy矩阵库"
   ]
  },
  {
   "cell_type": "code",
   "execution_count": 100,
   "metadata": {},
   "outputs": [
    {
     "name": "stdout",
     "output_type": "stream",
     "text": [
      "[[2.25 0.25]\n",
      " [0.25 2.25]]\n"
     ]
    }
   ],
   "source": [
    "import numpy.matlib \n",
    "import numpy as np\n",
    "print (np.matlib.empty((2,2)))\n",
    "# 填充为随机数据"
   ]
  },
  {
   "cell_type": "code",
   "execution_count": 101,
   "metadata": {},
   "outputs": [
    {
     "name": "stdout",
     "output_type": "stream",
     "text": [
      "[[0. 0. 0. 0. 0.]\n",
      " [0. 0. 0. 0. 0.]]\n"
     ]
    }
   ],
   "source": [
    "print (np.matlib.zeros((2,5)))"
   ]
  },
  {
   "cell_type": "code",
   "execution_count": 102,
   "metadata": {},
   "outputs": [
    {
     "name": "stdout",
     "output_type": "stream",
     "text": [
      "[[1. 1.]\n",
      " [1. 1.]]\n"
     ]
    }
   ],
   "source": [
    "print (np.matlib.ones((2,2)))"
   ]
  },
  {
   "cell_type": "code",
   "execution_count": 103,
   "metadata": {},
   "outputs": [
    {
     "name": "stdout",
     "output_type": "stream",
     "text": [
      "[[1. 0. 0. 0.]\n",
      " [0. 1. 0. 0.]\n",
      " [0. 0. 1. 0.]]\n"
     ]
    }
   ],
   "source": [
    "print (np.matlib.eye(n=3, M=4, k=0, dtype=float))"
   ]
  },
  {
   "cell_type": "markdown",
   "metadata": {},
   "source": [
    "# 11.3 数据分析工具Pandas"
   ]
  },
  {
   "cell_type": "markdown",
   "metadata": {},
   "source": [
    "## 11.3.1 Pandas安装\n",
    "## 11.3.2 Pandas数据类型\n",
    "### （1）Series类型"
   ]
  },
  {
   "cell_type": "code",
   "execution_count": 104,
   "metadata": {},
   "outputs": [
    {
     "name": "stdout",
     "output_type": "stream",
     "text": [
      "从列表创建：\n",
      "0    0\n",
      "1    1\n",
      "2    2\n",
      "3    3\n",
      "4    4\n",
      "dtype: int64\n"
     ]
    }
   ],
   "source": [
    "import pandas as pd\n",
    "arr = [0, 1, 2, 3, 4]\n",
    "s1 = pd.Series(arr) # 如果不指定标签索引，则默认从 0 开始\n",
    "print(\"从列表创建：\")\n",
    "print(s1)"
   ]
  },
  {
   "cell_type": "code",
   "execution_count": 105,
   "metadata": {},
   "outputs": [
    {
     "name": "stdout",
     "output_type": "stream",
     "text": [
      "加入标签索引创建\n",
      "a   -0.947678\n",
      "b    0.184481\n",
      "c    1.218491\n",
      "d   -0.682160\n",
      "e    1.810709\n",
      "dtype: float64\n"
     ]
    }
   ],
   "source": [
    "n = np.random.randn(5) # 创建一个随机 Ndarray 数组\n",
    "index = ['a', 'b','c','d','e']\n",
    "s2 = pd.Series(n, index=index)\n",
    "print(\"加入标签索引创建\")\n",
    "print(s2)"
   ]
  },
  {
   "cell_type": "code",
   "execution_count": 106,
   "metadata": {},
   "outputs": [
    {
     "name": "stdout",
     "output_type": "stream",
     "text": [
      "从字典创建\n",
      "a    1\n",
      "b    2\n",
      "c    3\n",
      "d    4\n",
      "e    5\n",
      "dtype: int64\n"
     ]
    }
   ],
   "source": [
    "d = {'a':1,  'b':2, 'c': 3, 'd': 4, 'e': 5}\n",
    "s3 = pd.Series(d)\n",
    "print(\"从字典创建\")\n",
    "print(s3)"
   ]
  },
  {
   "cell_type": "code",
   "execution_count": 107,
   "metadata": {},
   "outputs": [
    {
     "name": "stdout",
     "output_type": "stream",
     "text": [
      "两个序列相加\n",
      "0     5\n",
      "1     7\n",
      "2     9\n",
      "3    11\n",
      "4    13\n",
      "dtype: int64\n"
     ]
    }
   ],
   "source": [
    "import pandas as pd\n",
    "arr1 = [0, 1, 2, 3, 4]\n",
    "arr2 = [5, 6, 7, 8, 9]\n",
    "s1 = pd.Series(arr1)\n",
    "s2 = pd.Series(arr2)\n",
    "print(\"两个序列相加\")\n",
    "print(s1.add(s2))"
   ]
  },
  {
   "cell_type": "code",
   "execution_count": 109,
   "metadata": {},
   "outputs": [
    {
     "name": "stdout",
     "output_type": "stream",
     "text": [
      "两个序列相减\n",
      "0   -5\n",
      "1   -5\n",
      "2   -5\n",
      "3   -5\n",
      "4   -5\n",
      "dtype: int64\n"
     ]
    }
   ],
   "source": [
    "print(\"两个序列相减\")\n",
    "print(s1.sub(s2))"
   ]
  },
  {
   "cell_type": "code",
   "execution_count": 110,
   "metadata": {},
   "outputs": [
    {
     "name": "stdout",
     "output_type": "stream",
     "text": [
      "两个序列相乘\n",
      "0     0\n",
      "1     6\n",
      "2    14\n",
      "3    24\n",
      "4    36\n",
      "dtype: int64\n"
     ]
    }
   ],
   "source": [
    "print(\"两个序列相乘\")\n",
    "print(s1.mul(s2))"
   ]
  },
  {
   "cell_type": "code",
   "execution_count": 111,
   "metadata": {},
   "outputs": [
    {
     "name": "stdout",
     "output_type": "stream",
     "text": [
      "两个序列相除\n",
      "0    0.000000\n",
      "1    0.166667\n",
      "2    0.285714\n",
      "3    0.375000\n",
      "4    0.444444\n",
      "dtype: float64\n"
     ]
    }
   ],
   "source": [
    "print(\"两个序列相除\")\n",
    "print(s1.div(s2))"
   ]
  },
  {
   "cell_type": "code",
   "execution_count": 112,
   "metadata": {},
   "outputs": [
    {
     "name": "stdout",
     "output_type": "stream",
     "text": [
      "2.0 \t 4 \t 0 \t 10\n"
     ]
    }
   ],
   "source": [
    "print(s1.median(),\"\\t\",s1.max(),\"\\t\",s1.min(),\"\\t\",s1.sum())"
   ]
  },
  {
   "cell_type": "markdown",
   "metadata": {},
   "source": [
    "### （2）DataFrame类型"
   ]
  },
  {
   "cell_type": "code",
   "execution_count": 113,
   "metadata": {},
   "outputs": [
    {
     "name": "stdout",
     "output_type": "stream",
     "text": [
      "通过numpy创建：\n",
      "                                   1         2         3         4\n",
      "2020-02-12 21:28:34.938635  1.218815  0.888946 -0.639056  0.934186\n",
      "2020-02-13 21:28:34.938635 -0.420068  0.930008  0.916125  0.733019\n",
      "2020-02-14 21:28:34.938635 -1.275246  0.762553 -0.353253  0.933175\n",
      "2020-02-15 21:28:34.938635 -0.527845 -0.781266 -1.205466  0.110819\n",
      "2020-02-16 21:28:34.938635 -0.455233 -0.942764  1.824587  0.560300\n",
      "2020-02-17 21:28:34.938635  1.194986  0.708424  1.362298  1.331574\n"
     ]
    }
   ],
   "source": [
    "import pandas as pd\n",
    "import numpy as np\n",
    "dates = pd.date_range('today', periods=6)  # 定义时间序列作为 index\n",
    "num_arr = np.random.randn(6, 4)  # 传入 numpy 随机数组\n",
    "columns = ['1', '2', '3', '4']  # 将列表columns作为列名\n",
    "df1 = pd.DataFrame(num_arr, index=dates, columns=columns)\n",
    "print(\"通过numpy创建：\")\n",
    "print(df1)"
   ]
  },
  {
   "cell_type": "code",
   "execution_count": 114,
   "metadata": {},
   "outputs": [
    {
     "name": "stdout",
     "output_type": "stream",
     "text": [
      "通过字典创建：\n",
      "  animal  age  visits priority\n",
      "a    cat  2.5       1      yes\n",
      "b  snake  3.0       3      yes\n",
      "c    dog  NaN       2       no\n"
     ]
    }
   ],
   "source": [
    "data = {'animal': ['cat', 'snake', 'dog'],\n",
    "        'age': [2.5, 3, np.nan],\n",
    "        'visits': [1, 3, 2],\n",
    "        'priority': ['yes', 'yes', 'no']}\n",
    "labels = ['a', 'b', 'c']\n",
    "df2 = pd.DataFrame(data, index=labels)\n",
    "print(\"通过字典创建：\")\n",
    "print(df2)\n"
   ]
  },
  {
   "cell_type": "markdown",
   "metadata": {},
   "source": [
    "## 11.3.3 Pandas数据表操作\n",
    "### （1）数据查看"
   ]
  },
  {
   "cell_type": "code",
   "execution_count": 115,
   "metadata": {},
   "outputs": [
    {
     "name": "stdout",
     "output_type": "stream",
     "text": [
      "DataFrame：\n",
      "  animal  age  visits priority\n",
      "a    cat  2.5       1      yes\n",
      "b  snake  3.0       3      yes\n",
      "c    dog  1.5       2       no\n"
     ]
    }
   ],
   "source": [
    "import pandas as pd\n",
    "data = {'animal': ['cat', 'snake', 'dog'],\n",
    "        'age': [2.5, 3,1.5], 'visits': [1, 3, 2],\n",
    "        'priority': ['yes', 'yes', 'no']}\n",
    "labels = ['a', 'b', 'c']\n",
    "df = pd.DataFrame(data, index=labels)\n",
    "print(\"DataFrame：\")\n",
    "print(df)\n"
   ]
  },
  {
   "cell_type": "code",
   "execution_count": 116,
   "metadata": {},
   "outputs": [
    {
     "name": "stdout",
     "output_type": "stream",
     "text": [
      "查看二维数组的前两行：\n",
      "  animal  age  visits priority\n",
      "a    cat  2.5       1      yes\n",
      "b  snake  3.0       3      yes\n"
     ]
    }
   ],
   "source": [
    "print(\"查看二维数组的前两行：\")\n",
    "print(df.head(2))\n"
   ]
  },
  {
   "cell_type": "code",
   "execution_count": 117,
   "metadata": {},
   "outputs": [
    {
     "name": "stdout",
     "output_type": "stream",
     "text": [
      "查看二维数组的后两行：\n",
      "  animal  age  visits priority\n",
      "b  snake  3.0       3      yes\n",
      "c    dog  1.5       2       no\n"
     ]
    }
   ],
   "source": [
    "print(\"查看二维数组的后两行：\")\n",
    "print(df.tail(2))\n"
   ]
  },
  {
   "cell_type": "code",
   "execution_count": 118,
   "metadata": {},
   "outputs": [
    {
     "name": "stdout",
     "output_type": "stream",
     "text": [
      "查看二维数组的形状：\n",
      "(3, 4)\n"
     ]
    }
   ],
   "source": [
    "print(\"查看二维数组的形状：\")\n",
    "print(df.shape)\n"
   ]
  },
  {
   "cell_type": "code",
   "execution_count": 119,
   "metadata": {},
   "outputs": [
    {
     "name": "stdout",
     "output_type": "stream",
     "text": [
      "查看二维数组的列标：\n",
      "Index(['animal', 'age', 'visits', 'priority'], dtype='object')\n"
     ]
    }
   ],
   "source": [
    "print(\"查看二维数组的列标：\")\n",
    "print(df.columns)\n"
   ]
  },
  {
   "cell_type": "code",
   "execution_count": 120,
   "metadata": {},
   "outputs": [
    {
     "name": "stdout",
     "output_type": "stream",
     "text": [
      "查看二维数组的第2行的数据：\n",
      "  animal  age  visits priority\n",
      "b  snake  3.0       3      yes\n"
     ]
    }
   ],
   "source": [
    "print(\"查看二维数组的第2行的数据：\")\n",
    "print(df.iloc[1:2])\n"
   ]
  },
  {
   "cell_type": "markdown",
   "metadata": {},
   "source": [
    "### （2）数据清洗\n",
    "### （3）索引"
   ]
  },
  {
   "cell_type": "code",
   "execution_count": 121,
   "metadata": {},
   "outputs": [
    {
     "name": "stdout",
     "output_type": "stream",
     "text": [
      "                   A         B         C         D\n",
      "2013-01-01 -2.857438  1.151273 -0.267758  1.071481\n",
      "2013-01-02  0.714538 -0.628621  0.606667  0.311074\n",
      "2013-01-03 -1.617556  0.225789  0.734152  0.057209\n",
      "2013-01-04  0.292442 -0.694416 -1.643562  1.037897\n",
      "2013-01-05  1.723396 -0.529898 -0.760442 -0.926109\n",
      "2013-01-06  1.760820 -1.090288 -0.605358  0.605122\n",
      "对2013-01-02：2013-01-04进行索引\n",
      "                   A         B         C         D\n",
      "2013-01-02  0.714538 -0.628621  0.606667  0.311074\n",
      "2013-01-03 -1.617556  0.225789  0.734152  0.057209\n",
      "2013-01-04  0.292442 -0.694416 -1.643562  1.037897\n",
      "索引2013-01-02对应的单个行\n",
      "A    0.714538\n",
      "B   -0.628621\n",
      "C    0.606667\n",
      "D    0.311074\n",
      "Name: 2013-01-02 00:00:00, dtype: float64\n",
      "索引标签'2013-01-02','B'对应的数据\n",
      "-0.62862059971006\n",
      "索引第二行对应的数据\n",
      "A    0.714538\n",
      "B   -0.628621\n",
      "C    0.606667\n",
      "D    0.311074\n",
      "Name: 2013-01-02 00:00:00, dtype: float64\n",
      "索引第二列对应的数据\n",
      "2013-01-01    1.151273\n",
      "2013-01-02   -0.628621\n",
      "2013-01-03    0.225789\n",
      "2013-01-04   -0.694416\n",
      "2013-01-05   -0.529898\n",
      "2013-01-06   -1.090288\n",
      "Freq: D, Name: B, dtype: float64\n",
      "索引第二行第二列对应的数据\n",
      "-0.62862059971006\n"
     ]
    }
   ],
   "source": [
    "import pandas as pd\n",
    "dates = pd.date_range('20130101', periods=6)\n",
    "df = pd.DataFrame(np.random.randn(6,4), index=dates, columns=list('ABCD'))\n",
    "print(df)\n",
    "print(\"对2013-01-02：2013-01-04进行索引\")\n",
    "print(df['2013-01-02':'2013-01-04'])\n",
    "print(\"索引2013-01-02对应的单个行\")\n",
    "print(df.loc['2013-01-02'])\n",
    "print(\"索引标签'2013-01-02','B'对应的数据\")\n",
    "print(df.loc['2013-01-02','B'])\n",
    "print(\"索引第二行对应的数据\")\n",
    "print(df.iloc[1])\n",
    "print(\"索引第二列对应的数据\")\n",
    "print(df.iloc[:,1])\n",
    "print(\"索引第二行第二列对应的数据\")\n",
    "print(df.iloc[1,1])\n"
   ]
  },
  {
   "cell_type": "markdown",
   "metadata": {},
   "source": [
    "### （4）排序"
   ]
  },
  {
   "cell_type": "code",
   "execution_count": 122,
   "metadata": {},
   "outputs": [
    {
     "name": "stdout",
     "output_type": "stream",
     "text": [
      "   b  a  c\n",
      "2  1  4  1\n",
      "0  2  3  3\n",
      "1  3  2  8\n",
      "3  2  1  2\n",
      "按b列升序排序：\n",
      "   b  a  c\n",
      "2  1  4  1\n",
      "0  2  3  3\n",
      "3  2  1  2\n",
      "1  3  2  8\n",
      "先按b列降序，再按a列升序排序：\n",
      "   b  a  c\n",
      "1  3  2  8\n",
      "3  2  1  2\n",
      "0  2  3  3\n",
      "2  1  4  1\n",
      "按行3升序排列\n",
      "   a  b  c\n",
      "2  4  1  1\n",
      "0  3  2  3\n",
      "1  2  3  8\n",
      "3  1  2  2\n",
      "按行3升序，行0降排列\n",
      "   a  c  b\n",
      "2  4  1  1\n",
      "0  3  3  2\n",
      "1  2  8  3\n",
      "3  1  2  2\n"
     ]
    }
   ],
   "source": [
    "import pandas as pd\n",
    "df=pd.DataFrame({'b':[1,2,3,2],'a':[4,3,2,1],'c':[1,3,8,2]},index=[2,0,1,3]) \n",
    "print(df)\n",
    "print(\"按b列升序排序：\")\n",
    "print(df.sort_values(by='b'))    #等同于df.sort_values(by='b',axis=0)\n",
    "print(\"先按b列降序，再按a列升序排序：\")\n",
    "print(df.sort_values(by=['b','a'],axis=0,ascending=[False,True]))\n",
    "#等同于df.sort_values(by=['b','a'],axis=0,ascending=[False,True]) \n",
    "print(\"按行3升序排列\")\n",
    "print(df.sort_values(by=3,axis=1)) #必须指定axis=1\n",
    "print(\"按行3升序，行0降排列\")\n",
    "print(df.sort_values(by=[3,0],axis=1,ascending=[True,False]))\n"
   ]
  },
  {
   "cell_type": "code",
   "execution_count": 123,
   "metadata": {},
   "outputs": [
    {
     "name": "stdout",
     "output_type": "stream",
     "text": [
      "   b  a  c\n",
      "2  1  4  1\n",
      "0  2  3  3\n",
      "1  3  2  8\n",
      "3  2  1  2\n",
      "默认按“行标签”升序排列：\n",
      "   b  a  c\n",
      "0  2  3  3\n",
      "1  3  2  8\n",
      "2  1  4  1\n",
      "3  2  1  2\n",
      "按“列标签”升序排列：\n",
      "   a  b  c\n",
      "2  4  1  1\n",
      "0  3  2  3\n",
      "1  2  3  8\n",
      "3  1  2  2\n",
      "指定“多列”排序\n",
      "   b  a  c\n",
      "1  3  2  8\n",
      "3  2  1  2\n",
      "0  2  3  3\n",
      "2  1  4  1\n"
     ]
    },
    {
     "name": "stderr",
     "output_type": "stream",
     "text": [
      "D:\\Anaconda3\\lib\\site-packages\\ipykernel_launcher.py:11: FutureWarning: by argument to sort_index is deprecated, please use .sort_values(by=...)\n",
      "  # This is added back by InteractiveShellApp.init_path()\n"
     ]
    }
   ],
   "source": [
    "import pandas as pd\n",
    "df=pd.DataFrame({'b':[1,2,3,2],'a':[4,3,2,1],'c':[1,3,8,2]},index=[2,0,1,3]) \n",
    "print(df)\n",
    "print(\"默认按“行标签”升序排列：\")\n",
    "print(df.sort_index())\n",
    "#默认按“行标签”升序排序，等价于df.sort_index(axis=0, ascending=True)\n",
    "print(\"按“列标签”升序排列：\")\n",
    "print(df.sort_index(axis=1))     #按“列标签”升序排序\n",
    "print(\"指定“多列”排序\")\n",
    "#先按b列“降序”排列，因为b列中有相同值，相同值再按a列的“升序”排列\n",
    "print(df.sort_index(by = ['b','a'],ascending = [False,True]))\n"
   ]
  },
  {
   "cell_type": "markdown",
   "metadata": {},
   "source": [
    "## 11.3.4 Pandas数据统计"
   ]
  },
  {
   "cell_type": "code",
   "execution_count": 124,
   "metadata": {},
   "outputs": [
    {
     "name": "stdout",
     "output_type": "stream",
     "text": [
      "查看数组的前5行：\n",
      "          A         B         C         D\n",
      "0  0.624094  1.274963 -1.659604  0.507950\n",
      "1 -0.220914  0.087326 -0.769793 -0.563945\n",
      "2  0.643137 -1.856903  0.065747 -0.334846\n",
      "3 -0.148285  1.383846  0.171603  0.914018\n",
      "4 -0.540344 -1.127328 -2.245613 -0.277435\n",
      "抽取数组中的任意两行\n",
      "           A         B         C         D\n",
      "29  0.832836  0.280771  0.389746 -0.569840\n",
      "47 -0.795336 -0.704923 -1.303940  0.208034\n",
      "查看数据值列的汇总统计\n",
      "               A          B          C          D\n",
      "count  90.000000  90.000000  90.000000  90.000000\n",
      "mean    0.155216   0.013836   0.001115  -0.005970\n",
      "std     0.951849   1.044072   0.948925   1.065934\n",
      "min    -3.093253  -2.545695  -2.245613  -2.372215\n",
      "25%    -0.319846  -0.708213  -0.756502  -0.720217\n",
      "50%     0.166186  -0.025201   0.058330  -0.138358\n",
      "75%     0.739681   0.728162   0.525397   0.833774\n",
      "max     2.413741   2.978871   2.224619   2.416655\n"
     ]
    }
   ],
   "source": [
    "import pandas as pd\n",
    "import numpy as np\n",
    "np.random.seed(99999)\n",
    "df = pd.DataFrame(np.random.randn(90, 4), columns=list('ABCD'))\n",
    "print(\"查看数组的前5行：\")\n",
    "print(df.head(5)) \n",
    "print(\"抽取数组中的任意两行\")\n",
    "print(df.sample(2, replace=True))\n",
    "print(\"查看数据值列的汇总统计\")\n",
    "print(df.describe())\n"
   ]
  },
  {
   "cell_type": "markdown",
   "metadata": {},
   "source": [
    "## 11.3.5 Pandas IO操作\n",
    "### ①\t读取Excel文件的两种方式："
   ]
  },
  {
   "cell_type": "code",
   "execution_count": 127,
   "metadata": {},
   "outputs": [
    {
     "name": "stdout",
     "output_type": "stream",
     "text": [
      "获取所有的值:\n",
      "  NAME  AGE  GENDER  TELEPHONE\n",
      "0    A   20    MALE     569513\n",
      "1    B   21  FEMALE     235613\n",
      "2    C   22    MALE     546864\n",
      "3    D   23  FEMALE     841521\n"
     ]
    }
   ],
   "source": [
    "#方法一：默认读取第一个表单\n",
    "import  pandas  as pd\n",
    "df=pd.read_excel('E:\\example.xls')         #默认读取到Excel的第一个表单\n",
    "data=df.head()                                #默认读取前5行的数据\n",
    "print(\"获取所有的值:\\n{0}\".format(data))     #格式化输出"
   ]
  },
  {
   "cell_type": "code",
   "execution_count": 128,
   "metadata": {},
   "outputs": [
    {
     "name": "stdout",
     "output_type": "stream",
     "text": [
      "获取到所有的值:\n",
      "   ID   TITLE  PRICE\n",
      "0   1   APPLE     50\n",
      "1   2  WINNER     55\n"
     ]
    }
   ],
   "source": [
    "#方法二：通过指定表单名的方式来读取\n",
    "import  pandas  as pd\n",
    "df=pd.read_excel('E:\\example.xls',sheet_name='BOOK')\n",
    "#可以通过sheet_name来指定读取的表单\n",
    "data=df.head()                               #默认读取前5行的数据\n",
    "print(\"获取到所有的值:\\n{0}\".format(data))  #格式化输出\n"
   ]
  },
  {
   "cell_type": "markdown",
   "metadata": {},
   "source": [
    "### ②\t写入Excel文件"
   ]
  },
  {
   "cell_type": "code",
   "execution_count": 149,
   "metadata": {
    "scrolled": true
   },
   "outputs": [],
   "source": [
    "import  pandas  as pd\n",
    "from pandas import DataFrame\n",
    "write = pd.ExcelWriter('E:\\example1.xlsx')\n",
    "data = {'name': ['cat', 'snake'],\n",
    "        'age': [2.5, 3]}\n",
    "labels = ['a', 'b']\n",
    "df1 = pd.DataFrame(data, index=labels)\n",
    "excel_header = ['name','age']#excel的标题\n",
    "df1.to_excel(write,sheet_name='Sheet1',header=excel_header,index=False)"
   ]
  },
  {
   "cell_type": "code",
   "execution_count": 151,
   "metadata": {},
   "outputs": [],
   "source": [
    "import  pandas  as pd\n",
    "from pandas import DataFrame\n",
    "#构建一组数据\n",
    "data = pd.DataFrame([['文章阅读量', 982000], \n",
    "                   ['查看原文访问详情页', 8912], \n",
    "                   [ '翻到详情页底部', 4514], \n",
    "                   [ '点击购买', 1207], \n",
    "                   ['支付成功', 124]],\n",
    "                   columns=['action','count'])\n",
    "DataFrame(data).to_excel('E:\\example.xls',sheet_name='sheet1', index=False, header=True)\n"
   ]
  },
  {
   "cell_type": "markdown",
   "metadata": {},
   "source": [
    "# 11.4 上机实践"
   ]
  },
  {
   "cell_type": "markdown",
   "metadata": {},
   "source": [
    "（1）使用numpy中的arange函数来创建三个包含1~10的整数的numpy数组，使三个数组的形状分别为10*1，2*5，5*2。\n",
    "参考代码如下：\n"
   ]
  },
  {
   "cell_type": "code",
   "execution_count": 157,
   "metadata": {},
   "outputs": [
    {
     "name": "stdout",
     "output_type": "stream",
     "text": [
      "[ 1  2  3  4  5  6  7  8  9 10]\n",
      "[[ 1  2  3  4  5]\n",
      " [ 6  7  8  9 10]]\n",
      "[[ 1  2  3  4  5]\n",
      " [ 6  7  8  9 10]]\n"
     ]
    }
   ],
   "source": [
    "import numpy as np\n",
    "print(np.arange(1,11))\n",
    "print(np.arange(1,11).reshape([2,5]))\n",
    "print(np.arange(1,11).reshape([2,-1]))\n"
   ]
  },
  {
   "cell_type": "markdown",
   "metadata": {},
   "source": [
    "（2）对生成的数组做exp、exp2、sqrt、sin、log函数运算。\n",
    "参考代码如下：\n"
   ]
  },
  {
   "cell_type": "code",
   "execution_count": 158,
   "metadata": {},
   "outputs": [
    {
     "name": "stdout",
     "output_type": "stream",
     "text": [
      "exp:\n",
      "[[2.71828183e+00 7.38905610e+00 2.00855369e+01 5.45981500e+01\n",
      "  1.48413159e+02]\n",
      " [4.03428793e+02 1.09663316e+03 2.98095799e+03 8.10308393e+03\n",
      "  2.20264658e+04]]\n",
      "exp2:\n",
      "[[   2.    4.    8.   16.   32.]\n",
      " [  64.  128.  256.  512. 1024.]]\n",
      "sqrt:\n",
      "[[1.         1.41421356 1.73205081 2.         2.23606798]\n",
      " [2.44948974 2.64575131 2.82842712 3.         3.16227766]]\n",
      "sin:\n",
      "[[ 0.84147098  0.90929743  0.14112001 -0.7568025  -0.95892427]\n",
      " [-0.2794155   0.6569866   0.98935825  0.41211849 -0.54402111]]\n",
      "log:\n",
      "[[0.         0.69314718 1.09861229 1.38629436 1.60943791]\n",
      " [1.79175947 1.94591015 2.07944154 2.19722458 2.30258509]]\n"
     ]
    }
   ],
   "source": [
    "import numpy as np\n",
    "lst=np.arange(1,11).reshape([2,-1])\n",
    "print(\"exp:\")\n",
    "print(np.exp(lst))\n",
    "print(\"exp2:\")\n",
    "print(np.exp2(lst))\n",
    "print(\"sqrt:\")\n",
    "print(np.sqrt(lst))\n",
    "print(\"sin:\")\n",
    "print(np.sin(lst))\n",
    "print(\"log:\")\n",
    "print(np.log(lst))\n"
   ]
  },
  {
   "cell_type": "markdown",
   "metadata": {},
   "source": [
    "（3）生成一个3*4的数组，并分别计算数组及第一列、第二行的总和，同时找到数组的最大最小值。\n",
    "参考代码如下：\n"
   ]
  },
  {
   "cell_type": "code",
   "execution_count": 159,
   "metadata": {},
   "outputs": [
    {
     "name": "stdout",
     "output_type": "stream",
     "text": [
      "[[ 1  2  3  4]\n",
      " [ 5  6  7  8]\n",
      " [ 9 10 11 12]]\n",
      "数组的总和: 78\n",
      "数组第一列的和: 15\n",
      "数组第二行的和: 26\n",
      "数组的最大值: 12\n",
      "数组的最小值: 1\n"
     ]
    }
   ],
   "source": [
    "import numpy as np\n",
    "lst=np.arange(1,13).reshape([3,4])\n",
    "print(lst)\n",
    "print(\"数组的总和:\",lst.sum())\n",
    "print(\"数组第一列的和:\",lst[:,0].sum())\n",
    "print(\"数组第二行的和:\",lst[1].sum())\n",
    "print(\"数组的最大值:\",lst.max())\n",
    "print(\"数组的最小值:\",lst.min())\n"
   ]
  },
  {
   "cell_type": "markdown",
   "metadata": {},
   "source": [
    "（4）从二维数组创建一个学生DataFrame，并为其加上索引和列标，输出年龄大于18的学生信息。\n",
    "参考代码如下：\n"
   ]
  },
  {
   "cell_type": "code",
   "execution_count": 160,
   "metadata": {},
   "outputs": [
    {
     "name": "stdout",
     "output_type": "stream",
     "text": [
      "    name sex  age\n",
      "1    Tom   男   18\n",
      "2    Jim   女   19\n",
      "3  Cindy   女   17\n",
      "行索引：Int64Index([1, 2, 3], dtype='int64')\n",
      "列索引：Index(['name', 'sex', 'age'], dtype='object')\n",
      "数据：[['Tom' '男' 18]\n",
      " ['Jim' '女' 19]\n",
      " ['Cindy' '女' 17]]\n"
     ]
    }
   ],
   "source": [
    "import pandas \n",
    "dict={\n",
    "    \"name\":[\"Tom\",\"Jim\",\"Cindy\"],\n",
    "    \"sex\":[\"男\",\"女\",\"女\"],\n",
    "    \"age\":[18,19,17]\n",
    "}\n",
    "data_frame=DataFrame(dict,index=[1,2,3])\n",
    "print(data_frame)\n",
    "print(\"行索引：\"+str(data_frame.index))\n",
    "print(\"列索引：\"+str(data_frame.columns))\n",
    "print(\"数据：\"+str(data_frame.values))\n"
   ]
  },
  {
   "cell_type": "code",
   "execution_count": null,
   "metadata": {},
   "outputs": [],
   "source": []
  }
 ],
 "metadata": {
  "kernelspec": {
   "display_name": "Python 3",
   "language": "python",
   "name": "python3"
  },
  "language_info": {
   "codemirror_mode": {
    "name": "ipython",
    "version": 3
   },
   "file_extension": ".py",
   "mimetype": "text/x-python",
   "name": "python",
   "nbconvert_exporter": "python",
   "pygments_lexer": "ipython3",
   "version": "3.7.5"
  }
 },
 "nbformat": 4,
 "nbformat_minor": 2
}
